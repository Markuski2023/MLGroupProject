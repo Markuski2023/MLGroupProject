{
 "cells": [
  {
   "cell_type": "code",
   "execution_count": 17,
   "id": "initial_id",
   "metadata": {
    "collapsed": true,
    "ExecuteTime": {
     "end_time": "2023-10-19T18:27:34.334565800Z",
     "start_time": "2023-10-19T18:27:34.325136400Z"
    }
   },
   "outputs": [],
   "source": [
    "import optuna\n",
    "import pandas as pd\n",
    "import numpy as np\n",
    "from sklearn.impute import SimpleImputer\n",
    "%matplotlib inline\n",
    "import xgboost as xgb\n",
    "from sklearn.metrics import mean_absolute_error\n",
    "from sklearn.feature_selection import RFE"
   ]
  },
  {
   "cell_type": "code",
   "execution_count": 18,
   "outputs": [],
   "source": [
    "train_a = pd.read_parquet('./data/A/train_targets.parquet')\n",
    "train_b = pd.read_parquet('./data/B/train_targets.parquet')\n",
    "train_c = pd.read_parquet('./data/C/train_targets.parquet')\n",
    "\n",
    "X_train_estimated_a = pd.read_parquet('./data/A/X_train_estimated.parquet')\n",
    "X_train_estimated_c = pd.read_parquet('./data/C/X_train_estimated.parquet')\n",
    "\n",
    "X_train_observed_a = pd.read_parquet('./data/A/X_train_observed.parquet')\n",
    "X_train_observed_c = pd.read_parquet('./data/C/X_train_observed.parquet')\n",
    "\n",
    "X_test_estimated_a = pd.read_parquet('./data/A/X_test_estimated.parquet')\n",
    "X_test_estimated_c = pd.read_parquet('./data/C/X_test_estimated.parquet')\n",
    "\n",
    "X_test_estimated_c['date_forecast'] = pd.to_datetime(X_test_estimated_c['date_forecast'])\n",
    "X_test_estimated_c = X_test_estimated_c[X_test_estimated_c['date_forecast'].dt.minute == 0]\n",
    "\n",
    "imputer = SimpleImputer(strategy='most_frequent')\n",
    "X_test_estimated_c[['ceiling_height_agl:m', 'cloud_base_agl:m']] = imputer.fit_transform(X_test_estimated_c[['ceiling_height_agl:m', 'cloud_base_agl:m']])"
   ],
   "metadata": {
    "collapsed": false,
    "ExecuteTime": {
     "end_time": "2023-10-19T18:27:34.790832100Z",
     "start_time": "2023-10-19T18:27:34.491669900Z"
    }
   },
   "id": "aaf82e4278116626"
  },
  {
   "cell_type": "code",
   "execution_count": 19,
   "outputs": [],
   "source": [
    "# fig, axs = plt.subplots(3, 1, figsize=(20, 10), sharex=True)\n",
    "# train_a[['time', 'pv_measurement']].set_index('time').plot(ax=axs[0], title='Train/Test  A', color='red')\n",
    "# train_b[['time', 'pv_measurement']].set_index('time').plot(ax=axs[1], title='Train/Test  B', color='red')\n",
    "# train_c[['time', 'pv_measurement']].set_index('time').plot(ax=axs[2], title='Train/Test  C', color='red')"
   ],
   "metadata": {
    "collapsed": false,
    "ExecuteTime": {
     "end_time": "2023-10-19T18:27:34.791759500Z",
     "start_time": "2023-10-19T18:27:34.766274700Z"
    }
   },
   "id": "35c124117db164d0"
  },
  {
   "cell_type": "code",
   "execution_count": 20,
   "outputs": [],
   "source": [
    "df = pd.concat([X_train_observed_c, X_train_estimated_c])"
   ],
   "metadata": {
    "collapsed": false,
    "ExecuteTime": {
     "end_time": "2023-10-19T18:27:34.998129300Z",
     "start_time": "2023-10-19T18:27:34.975450800Z"
    }
   },
   "id": "c2b1d29dc1315111"
  },
  {
   "cell_type": "code",
   "execution_count": 21,
   "outputs": [],
   "source": [
    "# def remove_highly_correlated_features(df, threshold):\n",
    "#     \"\"\"\n",
    "#     Remove features from a DataFrame that have an absolute correlation higher than a given threshold.\n",
    "# \n",
    "#     Parameters:\n",
    "#     - df (Pandas DataFrame): The input DataFrame.\n",
    "#     - threshold (float): The correlation threshold for feature removal.\n",
    "# \n",
    "#     Returns:\n",
    "#     - Pandas DataFrame: A new DataFrame with highly correlated features removed.\n",
    "#     \"\"\"\n",
    "#     # Compute the Pearson correlation matrix\n",
    "#     correlation_matrix = df.corr(method='pearson')\n",
    "# \n",
    "#     # Initialize an empty list to hold features to be removed\n",
    "#     features_to_remove = []\n",
    "# \n",
    "#     # Traverse the correlation matrix to find highly correlated features\n",
    "#     for i in range(len(correlation_matrix.columns)):\n",
    "#         for j in range(i+1, len(correlation_matrix.columns)):\n",
    "#             feature1 = correlation_matrix.columns[i]\n",
    "#             feature2 = correlation_matrix.columns[j]\n",
    "# \n",
    "#             # Check for high absolute correlation\n",
    "#             if abs(correlation_matrix.iloc[i, j]) > threshold:\n",
    "#                 # Add one of the features to the list if it's not already there\n",
    "#                 if feature1 not in features_to_remove and feature2 not in features_to_remove:\n",
    "#                     features_to_remove.append(feature1)\n",
    "# \n",
    "#     # Drop the identified features from the DataFrame\n",
    "#     filtered_df = df.drop(columns=features_to_remove)\n",
    "# \n",
    "#     return filtered_df\n",
    "# \n",
    "# # Example usage\n",
    "# threshold = 0.99\n",
    "# df = remove_highly_correlated_features(df, threshold)"
   ],
   "metadata": {
    "collapsed": false,
    "ExecuteTime": {
     "end_time": "2023-10-19T18:27:35.024335100Z",
     "start_time": "2023-10-19T18:27:34.999806600Z"
    }
   },
   "id": "8fc2e003daa57ec0"
  },
  {
   "cell_type": "code",
   "execution_count": 22,
   "outputs": [],
   "source": [
    "# def remove_highly_correlated_features_spearman(df, threshold):\n",
    "#     \"\"\"\n",
    "#     Remove features from a DataFrame that have an absolute Spearman correlation higher than a given threshold.\n",
    "# \n",
    "#     Parameters:\n",
    "#     - df (Pandas DataFrame): The input DataFrame.\n",
    "#     - threshold (float): The correlation threshold for feature removal.\n",
    "# \n",
    "#     Returns:\n",
    "#     - Pandas DataFrame: A new DataFrame with highly correlated features removed.\n",
    "#     \"\"\"\n",
    "#     # Compute the Spearman correlation matrix\n",
    "#     correlation_matrix = df.corr(method='spearman')\n",
    "# \n",
    "#     # Initialize an empty list to hold features to be removed\n",
    "#     features_to_remove = []\n",
    "# \n",
    "#     # Traverse the correlation matrix to find highly correlated features\n",
    "#     for i in range(len(correlation_matrix.columns)):\n",
    "#         for j in range(i+1, len(correlation_matrix.columns)):\n",
    "#             feature1 = correlation_matrix.columns[i]\n",
    "#             feature2 = correlation_matrix.columns[j]\n",
    "# \n",
    "#             # Check for high absolute correlation\n",
    "#             if abs(correlation_matrix.iloc[i, j]) > threshold:\n",
    "#                 # Add one of the features to the list if it's not already there\n",
    "#                 if feature1 not in features_to_remove and feature2 not in features_to_remove:\n",
    "#                     features_to_remove.append(feature1)\n",
    "# \n",
    "#     # Drop the identified features from the DataFrame\n",
    "#     filtered_df = df.drop(columns=features_to_remove)\n",
    "# \n",
    "#     return filtered_df\n",
    "# \n",
    "# threshold = 0.95\n",
    "# df = remove_highly_correlated_features_spearman(df, threshold)"
   ],
   "metadata": {
    "collapsed": false,
    "ExecuteTime": {
     "end_time": "2023-10-19T18:27:35.186201100Z",
     "start_time": "2023-10-19T18:27:35.170195400Z"
    }
   },
   "id": "996ab0bdf0c66c76"
  },
  {
   "cell_type": "code",
   "execution_count": 23,
   "outputs": [],
   "source": [
    "df = pd.merge(df, train_c, left_on='date_forecast', right_on='time', how='inner')\n",
    "df = df.drop(columns=['date_forecast', 'date_calc', 'snow_density:kgm3', 'snow_drift:idx', 'diffuse_rad_1h:J', 'fresh_snow_1h:cm', 'fresh_snow_3h:cm', 'fresh_snow_6h:cm', 'fresh_snow_24h:cm'])\n",
    "\n",
    "imputer = SimpleImputer(strategy='most_frequent')\n",
    "df[['ceiling_height_agl:m', 'cloud_base_agl:m', 'pv_measurement']] = imputer.fit_transform(df[['ceiling_height_agl:m', 'cloud_base_agl:m', 'pv_measurement']])"
   ],
   "metadata": {
    "collapsed": false,
    "ExecuteTime": {
     "end_time": "2023-10-19T18:27:35.403838400Z",
     "start_time": "2023-10-19T18:27:35.344389300Z"
    }
   },
   "id": "409743027b50913a"
  },
  {
   "cell_type": "code",
   "execution_count": 24,
   "outputs": [],
   "source": [
    "split_index = int(len(df) * 0.7)\n",
    "train_data = df[:split_index]\n",
    "test_data = df[split_index:]\n",
    "\n",
    "# # Plotting the data\n",
    "# plt.figure(figsize=(15, 5))\n",
    "# \n",
    "# # Plot training data\n",
    "# plt.plot(np.arange(0, split_index), train_data, label='Training Data', color='blue')\n",
    "# \n",
    "# # Plot testing data\n",
    "# plt.plot(np.arange(split_index, len(df)), test_data, label='Testing Data', color='red')\n",
    "# \n",
    "# # Adding a vertical line to indicate the split point\n",
    "# plt.axvline(x=split_index, color='gray', linestyle='--', label='Split Point')\n",
    "# \n",
    "# plt.title('Training and Testing Data Split')\n",
    "# plt.xlabel('Index')\n",
    "# plt.ylabel('Value')\n",
    "# plt.show()"
   ],
   "metadata": {
    "collapsed": false,
    "ExecuteTime": {
     "end_time": "2023-10-19T18:27:35.573691500Z",
     "start_time": "2023-10-19T18:27:35.567573300Z"
    }
   },
   "id": "2a1b7e40fb0694d2"
  },
  {
   "cell_type": "code",
   "execution_count": 25,
   "outputs": [
    {
     "data": {
      "text/plain": "23.14241221518395"
     },
     "execution_count": 25,
     "metadata": {},
     "output_type": "execute_result"
    }
   ],
   "source": [
    "xgb_model = xgb.XGBRegressor()\n",
    "xgb_model.fit(train_data.drop(columns=['pv_measurement', 'time']), train_data['pv_measurement'])\n",
    "\n",
    "# Make predictions on the test set\n",
    "y_pred = xgb_model.predict(test_data.drop(columns=['pv_measurement', 'time']))\n",
    "y_pred = np.maximum(y_pred, 0)\n",
    "# Calculate MAE on the test set\n",
    "mae = mean_absolute_error(test_data['pv_measurement'], y_pred)\n",
    "mae"
   ],
   "metadata": {
    "collapsed": false,
    "ExecuteTime": {
     "end_time": "2023-10-19T18:27:38.835248100Z",
     "start_time": "2023-10-19T18:27:35.728671600Z"
    }
   },
   "id": "d4c7f071b7b207ae"
  },
  {
   "cell_type": "code",
   "execution_count": 26,
   "outputs": [],
   "source": [
    "# def find_long_constant_periods(data, threshold):\n",
    "#     start = None\n",
    "#     segments = []\n",
    "#     for i in range(1, len(data)):\n",
    "#         if data[i] == data[i-1]:\n",
    "#             if start is None:\n",
    "#                 start = i-1\n",
    "#         else:\n",
    "#             if start is not None:\n",
    "#                 if (i - start) > threshold:\n",
    "#                     segments.append((start, i))\n",
    "#                 start = None\n",
    "#     return segments\n",
    "# \n",
    "# # Load and prepare data\n",
    "# train_b.columns = ['ds', 'y']\n",
    "# \n",
    "# segments = find_long_constant_periods(train_b['y'], threshold=40)"
   ],
   "metadata": {
    "collapsed": false,
    "ExecuteTime": {
     "end_time": "2023-10-19T18:27:38.864760500Z",
     "start_time": "2023-10-19T18:27:38.817130500Z"
    }
   },
   "id": "7dc32c54bf8949ee"
  },
  {
   "cell_type": "code",
   "execution_count": 27,
   "outputs": [],
   "source": [
    "# def remove_constant_periods(df, segments):\n",
    "#     drop_indices = []\n",
    "#     for start, end in segments:\n",
    "#         drop_indices.extend(range(start, end))\n",
    "#     return df.drop(drop_indices)\n",
    "# \n",
    "# df = remove_constant_periods(df, segments)"
   ],
   "metadata": {
    "collapsed": false,
    "ExecuteTime": {
     "end_time": "2023-10-19T18:27:38.889926400Z",
     "start_time": "2023-10-19T18:27:38.823136700Z"
    }
   },
   "id": "89bc6f99943ab1c3"
  },
  {
   "cell_type": "code",
   "execution_count": 28,
   "outputs": [],
   "source": [
    "split_date = '2022-10-27'\n",
    "\n",
    "# Convert the 'time' column to a datetime object\n",
    "df['time'] = pd.to_datetime(df['time'])\n",
    "\n",
    "# Sorting the data by the 'time' column to maintain chronological order\n",
    "df.sort_values('time', inplace=True)\n",
    "\n",
    "# Splitting the data into training and test sets based on the split date\n",
    "train_df = df[df['time'] < split_date]\n",
    "test_df = df[df['time'] >= split_date]\n",
    "\n",
    "# Identifying the features and the target variable\n",
    "X_train = train_df.drop(columns=['pv_measurement', 'time'])\n",
    "y_train = train_df['pv_measurement']\n",
    "X_test = test_df.drop(columns=['pv_measurement', 'time'])\n",
    "y_test = test_df['pv_measurement']"
   ],
   "metadata": {
    "collapsed": false,
    "ExecuteTime": {
     "end_time": "2023-10-19T18:27:38.929928200Z",
     "start_time": "2023-10-19T18:27:38.844249700Z"
    }
   },
   "id": "580a7c973155cec2"
  },
  {
   "cell_type": "code",
   "execution_count": 29,
   "outputs": [
    {
     "data": {
      "text/plain": "20.71578408075066"
     },
     "execution_count": 29,
     "metadata": {},
     "output_type": "execute_result"
    }
   ],
   "source": [
    "# xgb_model = xgb.XGBRegressor()\n",
    "# # Create RFE model and select the top 10 features\n",
    "# rfe = RFE(xgb_model, n_features_to_select=21)\n",
    "# fit = rfe.fit(X_train, y_train)\n",
    "# \n",
    "# selected_columns = X_train.columns[rfe.support_]\n",
    "# \n",
    "# # Train and test using only selected features\n",
    "# X_train_rfe = rfe.transform(X_train)\n",
    "# X_test_rfe = rfe.transform(X_test)\n",
    "# \n",
    "# xgb_model.fit(X_train_rfe, y_train)\n",
    "# y_pred = xgb_model.predict(X_test_rfe)\n",
    "# y_pred = np.maximum(y_pred, 0)\n",
    "# mae = mean_absolute_error(y_test, y_pred)\n",
    "# mae"
   ],
   "metadata": {
    "collapsed": false,
    "ExecuteTime": {
     "end_time": "2023-10-19T18:28:17.159591600Z",
     "start_time": "2023-10-19T18:27:38.869927Z"
    }
   },
   "id": "9fb0ef7753e582b3"
  },
  {
   "cell_type": "code",
   "execution_count": 30,
   "outputs": [
    {
     "data": {
      "text/plain": "20.498028856135"
     },
     "execution_count": 30,
     "metadata": {},
     "output_type": "execute_result"
    }
   ],
   "source": [
    "xgb_model = xgb.XGBRegressor()\n",
    "xgb_model.fit(X_train, y_train)\n",
    "\n",
    "# Make predictions on the test set\n",
    "y_pred = xgb_model.predict(X_test)\n",
    "y_pred = np.maximum(y_pred, 0)\n",
    "# Calculate MAE on the test set\n",
    "mae = mean_absolute_error(y_test, y_pred)\n",
    "mae"
   ],
   "metadata": {
    "collapsed": false,
    "ExecuteTime": {
     "end_time": "2023-10-19T18:28:22.936865400Z",
     "start_time": "2023-10-19T18:28:17.085849100Z"
    }
   },
   "id": "68ec5f94b26c4970"
  },
  {
   "cell_type": "code",
   "execution_count": 123,
   "outputs": [],
   "source": [
    "def objective(trial):\n",
    "    params = {\n",
    "        \"objective\": \"reg:squarederror\",\n",
    "        \"n_estimators\": 1000,\n",
    "        \"verbosity\": 0,\n",
    "        \"learning_rate\": trial.suggest_float(\"learning_rate\", 1e-3, 0.1, log=True),\n",
    "        \"max_depth\": trial.suggest_int(\"max_depth\", 1, 10),\n",
    "        \"subsample\": trial.suggest_float(\"subsample\", 0.05, 1.0),\n",
    "        \"colsample_bytree\": trial.suggest_float(\"colsample_bytree\", 0.05, 1.0),\n",
    "        \"min_child_weight\": trial.suggest_int(\"min_child_weight\", 1, 20),\n",
    "    }\n",
    "\n",
    "    model = xgb.XGBRegressor(**params)\n",
    "    model.fit(X_train, y_train, verbose=False)\n",
    "    predictions = model.predict(X_test)\n",
    "    mae = mean_absolute_error(y_test, predictions)\n",
    "    return mae"
   ],
   "metadata": {
    "collapsed": false,
    "ExecuteTime": {
     "end_time": "2023-10-19T16:57:02.126505500Z",
     "start_time": "2023-10-19T16:57:02.102038500Z"
    }
   },
   "id": "2e23067f07479434"
  },
  {
   "cell_type": "code",
   "execution_count": 71,
   "outputs": [
    {
     "name": "stderr",
     "output_type": "stream",
     "text": [
      "[I 2023-10-19 18:40:30,446] A new study created in memory with name: no-name-0073e966-0450-41db-a7ac-7b431bbbe135\n",
      "[I 2023-10-19 18:40:50,723] Trial 0 finished with value: 21.406244018910485 and parameters: {'learning_rate': 0.0011825862163086524, 'max_depth': 7, 'subsample': 0.44479566169738116, 'colsample_bytree': 0.972561228878958, 'min_child_weight': 13}. Best is trial 0 with value: 21.406244018910485.\n",
      "[I 2023-10-19 18:40:55,305] Trial 1 finished with value: 25.039678252602656 and parameters: {'learning_rate': 0.010206535187711944, 'max_depth': 1, 'subsample': 0.5065468318015546, 'colsample_bytree': 0.188696173486114, 'min_child_weight': 5}. Best is trial 0 with value: 21.406244018910485.\n",
      "[I 2023-10-19 18:41:06,035] Trial 2 finished with value: 20.48787642721524 and parameters: {'learning_rate': 0.01853290222495454, 'max_depth': 7, 'subsample': 0.2555982408344387, 'colsample_bytree': 0.20900624955281982, 'min_child_weight': 18}. Best is trial 2 with value: 20.48787642721524.\n",
      "[I 2023-10-19 18:41:22,125] Trial 3 finished with value: 19.700677485078195 and parameters: {'learning_rate': 0.022359670229845485, 'max_depth': 7, 'subsample': 0.7916355619603506, 'colsample_bytree': 0.24007793703994268, 'min_child_weight': 14}. Best is trial 3 with value: 19.700677485078195.\n",
      "[I 2023-10-19 18:41:39,372] Trial 4 finished with value: 19.881816498059273 and parameters: {'learning_rate': 0.03754414952930399, 'max_depth': 7, 'subsample': 0.6522239818364292, 'colsample_bytree': 0.5757548544175937, 'min_child_weight': 18}. Best is trial 3 with value: 19.700677485078195.\n",
      "[I 2023-10-19 18:41:56,803] Trial 5 finished with value: 18.02960291505946 and parameters: {'learning_rate': 0.007231985618414285, 'max_depth': 7, 'subsample': 0.4346860024834644, 'colsample_bytree': 0.6908657038604453, 'min_child_weight': 3}. Best is trial 5 with value: 18.02960291505946.\n",
      "[I 2023-10-19 18:42:12,325] Trial 6 finished with value: 19.403348043399703 and parameters: {'learning_rate': 0.008821035970336908, 'max_depth': 8, 'subsample': 0.43347866876221897, 'colsample_bytree': 0.19053158150455374, 'min_child_weight': 6}. Best is trial 5 with value: 18.02960291505946.\n",
      "[I 2023-10-19 18:42:22,617] Trial 7 finished with value: 22.54963089040034 and parameters: {'learning_rate': 0.001188071829548576, 'max_depth': 3, 'subsample': 0.9999382137367372, 'colsample_bytree': 0.6444675431042248, 'min_child_weight': 13}. Best is trial 5 with value: 18.02960291505946.\n",
      "[I 2023-10-19 18:42:27,088] Trial 8 finished with value: 26.19394094519953 and parameters: {'learning_rate': 0.00942211043306335, 'max_depth': 1, 'subsample': 0.23543336762030137, 'colsample_bytree': 0.6592470675034067, 'min_child_weight': 7}. Best is trial 5 with value: 18.02960291505946.\n",
      "[I 2023-10-19 18:42:33,185] Trial 9 finished with value: 26.3387007381794 and parameters: {'learning_rate': 0.0011705733505320893, 'max_depth': 2, 'subsample': 0.5692128455018114, 'colsample_bytree': 0.19197219407595, 'min_child_weight': 11}. Best is trial 5 with value: 18.02960291505946.\n",
      "[I 2023-10-19 18:42:48,890] Trial 10 finished with value: 24.424877087694846 and parameters: {'learning_rate': 0.07515320322268985, 'max_depth': 10, 'subsample': 0.06757723966105134, 'colsample_bytree': 0.8692955679494463, 'min_child_weight': 1}. Best is trial 5 with value: 18.02960291505946.\n",
      "[I 2023-10-19 18:43:10,509] Trial 11 finished with value: 18.289101805214194 and parameters: {'learning_rate': 0.004775456543646391, 'max_depth': 10, 'subsample': 0.3416512728603667, 'colsample_bytree': 0.4090188469913208, 'min_child_weight': 3}. Best is trial 5 with value: 18.02960291505946.\n",
      "[I 2023-10-19 18:43:33,392] Trial 12 finished with value: 18.307450508251268 and parameters: {'learning_rate': 0.003728968456794312, 'max_depth': 10, 'subsample': 0.3149466317842295, 'colsample_bytree': 0.47400174400658873, 'min_child_weight': 1}. Best is trial 5 with value: 18.02960291505946.\n",
      "[I 2023-10-19 18:43:44,114] Trial 13 finished with value: 17.52242359150189 and parameters: {'learning_rate': 0.003938507932862726, 'max_depth': 5, 'subsample': 0.3457149044077686, 'colsample_bytree': 0.4039832635538902, 'min_child_weight': 3}. Best is trial 13 with value: 17.52242359150189.\n",
      "[I 2023-10-19 18:43:49,757] Trial 14 finished with value: 40.9289562469013 and parameters: {'learning_rate': 0.0033161790799095593, 'max_depth': 4, 'subsample': 0.143858207399363, 'colsample_bytree': 0.05160175050726595, 'min_child_weight': 8}. Best is trial 13 with value: 17.52242359150189.\n",
      "[I 2023-10-19 18:44:03,172] Trial 15 finished with value: 17.732833929988104 and parameters: {'learning_rate': 0.0027775853470937816, 'max_depth': 5, 'subsample': 0.41040114078160894, 'colsample_bytree': 0.7886378233469303, 'min_child_weight': 4}. Best is trial 13 with value: 17.52242359150189.\n",
      "[I 2023-10-19 18:44:13,675] Trial 16 finished with value: 18.214728563717205 and parameters: {'learning_rate': 0.0026613503263867525, 'max_depth': 5, 'subsample': 0.17987691399490807, 'colsample_bytree': 0.8083990581195091, 'min_child_weight': 9}. Best is trial 13 with value: 17.52242359150189.\n",
      "[I 2023-10-19 18:44:24,304] Trial 17 finished with value: 18.302686512815963 and parameters: {'learning_rate': 0.002259848167348397, 'max_depth': 5, 'subsample': 0.34038254101255755, 'colsample_bytree': 0.4187784714686552, 'min_child_weight': 4}. Best is trial 13 with value: 17.52242359150189.\n",
      "[I 2023-10-19 18:44:36,186] Trial 18 finished with value: 19.084742960448153 and parameters: {'learning_rate': 0.0019383635233235035, 'max_depth': 4, 'subsample': 0.571881519554712, 'colsample_bytree': 0.7650057800072066, 'min_child_weight': 10}. Best is trial 13 with value: 17.52242359150189.\n",
      "[I 2023-10-19 18:44:41,715] Trial 19 finished with value: 18.54025501238892 and parameters: {'learning_rate': 0.005156192729418481, 'max_depth': 3, 'subsample': 0.08197127247125702, 'colsample_bytree': 0.5270395411565677, 'min_child_weight': 1}. Best is trial 13 with value: 17.52242359150189.\n",
      "[I 2023-10-19 18:44:56,181] Trial 20 finished with value: 18.747047577038767 and parameters: {'learning_rate': 0.0019520045720072777, 'max_depth': 6, 'subsample': 0.27608113714291765, 'colsample_bytree': 0.9546831608200983, 'min_child_weight': 6}. Best is trial 13 with value: 17.52242359150189.\n",
      "[I 2023-10-19 18:45:10,434] Trial 21 finished with value: 17.63606415289152 and parameters: {'learning_rate': 0.0061303158840486874, 'max_depth': 6, 'subsample': 0.4323651442451132, 'colsample_bytree': 0.7133503946148578, 'min_child_weight': 3}. Best is trial 13 with value: 17.52242359150189.\n",
      "[I 2023-10-19 18:45:24,838] Trial 22 finished with value: 17.540099649607566 and parameters: {'learning_rate': 0.004929542301734991, 'max_depth': 6, 'subsample': 0.3983457194738593, 'colsample_bytree': 0.7267194263672527, 'min_child_weight': 3}. Best is trial 13 with value: 17.52242359150189.\n",
      "[I 2023-10-19 18:45:37,260] Trial 23 finished with value: 17.61546685691503 and parameters: {'learning_rate': 0.005353467224798674, 'max_depth': 6, 'subsample': 0.3222232943567108, 'colsample_bytree': 0.5865053171949098, 'min_child_weight': 3}. Best is trial 13 with value: 17.52242359150189.\n",
      "[I 2023-10-19 18:45:51,370] Trial 24 finished with value: 18.151679939959443 and parameters: {'learning_rate': 0.004288161908630645, 'max_depth': 8, 'subsample': 0.1837053816862992, 'colsample_bytree': 0.5894138840801144, 'min_child_weight': 2}. Best is trial 13 with value: 17.52242359150189.\n",
      "[I 2023-10-19 18:46:00,348] Trial 25 finished with value: 17.653742562336824 and parameters: {'learning_rate': 0.005693773570104238, 'max_depth': 4, 'subsample': 0.356480903850172, 'colsample_bytree': 0.5791014825564911, 'min_child_weight': 5}. Best is trial 13 with value: 17.52242359150189.\n",
      "[I 2023-10-19 18:46:11,452] Trial 26 finished with value: 17.55234458659854 and parameters: {'learning_rate': 0.0038527006545276566, 'max_depth': 6, 'subsample': 0.25980820860961784, 'colsample_bytree': 0.47210120037505504, 'min_child_weight': 7}. Best is trial 13 with value: 17.52242359150189.\n",
      "[I 2023-10-19 18:46:25,610] Trial 27 finished with value: 17.904332871736138 and parameters: {'learning_rate': 0.0035595370833973756, 'max_depth': 8, 'subsample': 0.22051216907983195, 'colsample_bytree': 0.3897058280650867, 'min_child_weight': 7}. Best is trial 13 with value: 17.52242359150189.\n",
      "[I 2023-10-19 18:46:42,167] Trial 28 finished with value: 19.598715131888863 and parameters: {'learning_rate': 0.0018057433730876192, 'max_depth': 9, 'subsample': 0.2660041240378139, 'colsample_bytree': 0.3208266245325902, 'min_child_weight': 8}. Best is trial 13 with value: 17.52242359150189.\n",
      "[I 2023-10-19 18:46:50,529] Trial 29 finished with value: 17.662189191345927 and parameters: {'learning_rate': 0.0031392253280811085, 'max_depth': 6, 'subsample': 0.38263617811350353, 'colsample_bytree': 0.4925571691190247, 'min_child_weight': 12}. Best is trial 13 with value: 17.52242359150189.\n",
      "[I 2023-10-19 18:46:57,553] Trial 30 finished with value: 17.52224522259752 and parameters: {'learning_rate': 0.004174427548930828, 'max_depth': 5, 'subsample': 0.5032925558269042, 'colsample_bytree': 0.46899615918681975, 'min_child_weight': 16}. Best is trial 30 with value: 17.52224522259752.\n",
      "[I 2023-10-19 18:47:04,483] Trial 31 finished with value: 17.45277980471776 and parameters: {'learning_rate': 0.004436874810837867, 'max_depth': 5, 'subsample': 0.5162088909470665, 'colsample_bytree': 0.4570813439805998, 'min_child_weight': 17}. Best is trial 31 with value: 17.45277980471776.\n",
      "[I 2023-10-19 18:47:11,239] Trial 32 finished with value: 17.716358178791275 and parameters: {'learning_rate': 0.0069055109117547525, 'max_depth': 5, 'subsample': 0.49351140748457056, 'colsample_bytree': 0.3470719360637141, 'min_child_weight': 16}. Best is trial 31 with value: 17.45277980471776.\n",
      "[I 2023-10-19 18:47:17,077] Trial 33 finished with value: 17.58815970605377 and parameters: {'learning_rate': 0.004544160035629619, 'max_depth': 4, 'subsample': 0.49524493172924877, 'colsample_bytree': 0.5166847165560002, 'min_child_weight': 16}. Best is trial 31 with value: 17.45277980471776.\n",
      "[I 2023-10-19 18:47:23,016] Trial 34 finished with value: 19.000661721927926 and parameters: {'learning_rate': 0.014548843711668905, 'max_depth': 3, 'subsample': 0.5150832392120763, 'colsample_bytree': 0.44170105398321613, 'min_child_weight': 15}. Best is trial 31 with value: 17.45277980471776.\n",
      "[I 2023-10-19 18:47:29,991] Trial 35 finished with value: 17.78120606344669 and parameters: {'learning_rate': 0.007698885889744035, 'max_depth': 5, 'subsample': 0.38451805209857626, 'colsample_bytree': 0.31753280632116354, 'min_child_weight': 19}. Best is trial 31 with value: 17.45277980471776.\n",
      "[I 2023-10-19 18:47:44,139] Trial 36 finished with value: 18.198399648468403 and parameters: {'learning_rate': 0.010763645112724355, 'max_depth': 7, 'subsample': 0.4654666822897463, 'colsample_bytree': 0.5254692299429842, 'min_child_weight': 20}. Best is trial 31 with value: 17.45277980471776.\n",
      "[I 2023-10-19 18:47:50,237] Trial 37 finished with value: 17.920330899203663 and parameters: {'learning_rate': 0.006270217132690815, 'max_depth': 4, 'subsample': 0.5768064405718214, 'colsample_bytree': 0.27482515832444304, 'min_child_weight': 17}. Best is trial 31 with value: 17.45277980471776.\n",
      "[I 2023-10-19 18:47:59,538] Trial 38 finished with value: 18.152846629185202 and parameters: {'learning_rate': 0.011180015655347358, 'max_depth': 5, 'subsample': 0.6475412189006411, 'colsample_bytree': 0.3525797070930861, 'min_child_weight': 14}. Best is trial 31 with value: 17.45277980471776.\n",
      "[I 2023-10-19 18:48:07,675] Trial 39 finished with value: 17.482787148253028 and parameters: {'learning_rate': 0.004325960785456094, 'max_depth': 6, 'subsample': 0.4594376954995297, 'colsample_bytree': 0.44458071605283345, 'min_child_weight': 18}. Best is trial 31 with value: 17.45277980471776.\n",
      "[I 2023-10-19 18:48:11,539] Trial 40 finished with value: 23.30815006732361 and parameters: {'learning_rate': 0.008183875869658967, 'max_depth': 2, 'subsample': 0.46362391638324135, 'colsample_bytree': 0.4476584381970129, 'min_child_weight': 18}. Best is trial 31 with value: 17.45277980471776.\n",
      "[I 2023-10-19 18:48:19,913] Trial 41 finished with value: 17.755505186425122 and parameters: {'learning_rate': 0.0044333631174364235, 'max_depth': 7, 'subsample': 0.4007558634007926, 'colsample_bytree': 0.4027471646697619, 'min_child_weight': 20}. Best is trial 31 with value: 17.45277980471776.\n",
      "[I 2023-10-19 18:48:29,665] Trial 42 finished with value: 17.72442839139036 and parameters: {'learning_rate': 0.002787721487211927, 'max_depth': 6, 'subsample': 0.5448818374147766, 'colsample_bytree': 0.5502624140641778, 'min_child_weight': 17}. Best is trial 31 with value: 17.45277980471776.\n",
      "[I 2023-10-19 18:48:40,895] Trial 43 finished with value: 17.73256474242599 and parameters: {'learning_rate': 0.00575556366978211, 'max_depth': 6, 'subsample': 0.4320135431534479, 'colsample_bytree': 0.6164975388897084, 'min_child_weight': 14}. Best is trial 31 with value: 17.45277980471776.\n",
      "[I 2023-10-19 18:48:49,715] Trial 44 finished with value: 17.578579290678096 and parameters: {'learning_rate': 0.003995517023410805, 'max_depth': 5, 'subsample': 0.4780950426080697, 'colsample_bytree': 0.4858336546321831, 'min_child_weight': 19}. Best is trial 31 with value: 17.45277980471776.\n",
      "[I 2023-10-19 18:49:01,464] Trial 45 finished with value: 18.170428458868315 and parameters: {'learning_rate': 0.007004293229734098, 'max_depth': 7, 'subsample': 0.622054151297279, 'colsample_bytree': 0.64415513268594, 'min_child_weight': 17}. Best is trial 31 with value: 17.45277980471776.\n",
      "[I 2023-10-19 18:49:08,807] Trial 46 finished with value: 18.31248987553328 and parameters: {'learning_rate': 0.004555236855009754, 'max_depth': 3, 'subsample': 0.5257644813313871, 'colsample_bytree': 0.384548393780937, 'min_child_weight': 12}. Best is trial 31 with value: 17.45277980471776.\n",
      "[I 2023-10-19 18:49:18,538] Trial 47 finished with value: 18.102587144945957 and parameters: {'learning_rate': 0.00877528371688606, 'max_depth': 4, 'subsample': 0.7138653777282786, 'colsample_bytree': 0.45201490345568573, 'min_child_weight': 15}. Best is trial 31 with value: 17.45277980471776.\n",
      "[I 2023-10-19 18:49:28,984] Trial 48 finished with value: 17.737424347786728 and parameters: {'learning_rate': 0.003107228990407998, 'max_depth': 5, 'subsample': 0.4395879630507927, 'colsample_bytree': 0.5325028931582717, 'min_child_weight': 19}. Best is trial 31 with value: 17.45277980471776.\n",
      "[I 2023-10-19 18:49:42,981] Trial 49 finished with value: 17.87241959309709 and parameters: {'learning_rate': 0.0035684301236456662, 'max_depth': 7, 'subsample': 0.381528585646254, 'colsample_bytree': 0.4221956493420259, 'min_child_weight': 18}. Best is trial 31 with value: 17.45277980471776.\n"
     ]
    }
   ],
   "source": [
    "study = optuna.create_study(direction='minimize')\n",
    "study.optimize(objective, n_trials=50)"
   ],
   "metadata": {
    "collapsed": false,
    "ExecuteTime": {
     "end_time": "2023-10-19T16:49:42.993542300Z",
     "start_time": "2023-10-19T16:40:30.447928900Z"
    }
   },
   "id": "85cd3f7050a06af8"
  },
  {
   "cell_type": "code",
   "execution_count": 72,
   "outputs": [
    {
     "data": {
      "text/plain": "{'learning_rate': 0.004436874810837867,\n 'max_depth': 5,\n 'subsample': 0.5162088909470665,\n 'colsample_bytree': 0.4570813439805998,\n 'min_child_weight': 17}"
     },
     "execution_count": 72,
     "metadata": {},
     "output_type": "execute_result"
    }
   ],
   "source": [
    "study.best_params"
   ],
   "metadata": {
    "collapsed": false,
    "ExecuteTime": {
     "end_time": "2023-10-19T16:49:42.999549600Z",
     "start_time": "2023-10-19T16:49:42.993542300Z"
    }
   },
   "id": "a082b1f9de56b02a"
  },
  {
   "cell_type": "code",
   "execution_count": 31,
   "outputs": [],
   "source": [
    "X_test_estimated_c = X_test_estimated_c.drop(columns=['date_forecast', 'date_calc', 'snow_density:kgm3', 'snow_drift:idx', 'diffuse_rad_1h:J', 'fresh_snow_1h:cm', 'fresh_snow_3h:cm', 'fresh_snow_6h:cm', 'fresh_snow_24h:cm'])"
   ],
   "metadata": {
    "collapsed": false,
    "ExecuteTime": {
     "end_time": "2023-10-19T18:28:22.936865400Z",
     "start_time": "2023-10-19T18:28:18.530632500Z"
    }
   },
   "id": "18d0d29461ac22f3"
  },
  {
   "cell_type": "code",
   "execution_count": 32,
   "outputs": [],
   "source": [
    "df['time'] = pd.to_datetime(df['time'])\n",
    "df.sort_values('time', inplace=True)\n",
    "train_df = df\n",
    "X_train = train_df\n",
    "y_train = df['pv_measurement']\n",
    "\n",
    "xgb_model = xgb.XGBRegressor(\n",
    "    learning_rate = 0.0044368,\n",
    "    max_depth = 5,\n",
    "    subsample = 0.51621,\n",
    "    colsample_bytree = 0.45708,\n",
    "    min_child_weight = 17,\n",
    "    n_estimators = 1000\n",
    ")\n",
    "\n",
    "xgb_model.fit(X_train, y_train)\n",
    "\n",
    "# Make predictions on the test set\n",
    "y_pred = xgb_model.predict(X_test_estimated_c)\n",
    "y_pred = np.maximum(y_pred, 0)"
   ],
   "metadata": {
    "collapsed": false,
    "ExecuteTime": {
     "end_time": "2023-10-19T18:28:27.075165700Z",
     "start_time": "2023-10-19T18:28:18.538237500Z"
    }
   },
   "id": "2d9d069c2cb17f65"
  },
  {
   "cell_type": "code",
   "execution_count": 33,
   "outputs": [],
   "source": [
    "df = pd.DataFrame(y_pred)\n",
    "df.to_csv('result_c.csv')"
   ],
   "metadata": {
    "collapsed": false,
    "ExecuteTime": {
     "end_time": "2023-10-19T18:28:33.290186200Z",
     "start_time": "2023-10-19T18:28:33.265660900Z"
    }
   },
   "id": "a052dd61696ef52d"
  },
  {
   "cell_type": "code",
   "execution_count": null,
   "outputs": [],
   "source": [],
   "metadata": {
    "collapsed": false
   },
   "id": "d60f8e4f11825aac"
  }
 ],
 "metadata": {
  "kernelspec": {
   "display_name": "Python 3",
   "language": "python",
   "name": "python3"
  },
  "language_info": {
   "codemirror_mode": {
    "name": "ipython",
    "version": 2
   },
   "file_extension": ".py",
   "mimetype": "text/x-python",
   "name": "python",
   "nbconvert_exporter": "python",
   "pygments_lexer": "ipython2",
   "version": "2.7.6"
  }
 },
 "nbformat": 4,
 "nbformat_minor": 5
}
