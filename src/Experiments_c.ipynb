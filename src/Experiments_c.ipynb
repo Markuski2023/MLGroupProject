{
 "cells": [
  {
   "cell_type": "code",
   "execution_count": null,
   "id": "initial_id",
   "metadata": {
    "ExecuteTime": {
     "end_time": "2023-10-23T21:01:31.698097200Z",
     "start_time": "2023-10-23T21:01:31.688006200Z"
    },
    "collapsed": true
   },
   "outputs": [],
   "source": [
    "%matplotlib inline\n",
    "from utils import *"
   ]
  },
  {
   "cell_type": "code",
   "execution_count": null,
   "id": "38e3782c592de7d1",
   "metadata": {
    "ExecuteTime": {
     "end_time": "2023-10-23T21:01:31.744123700Z",
     "start_time": "2023-10-23T21:01:31.700098100Z"
    },
    "collapsed": false
   },
   "outputs": [],
   "source": [
    "train_c = pd.read_parquet('./data/C/train_targets.parquet')\n",
    "\n",
    "X_train_estimated_c = pd.read_parquet('./data/C/X_train_estimated.parquet')\n",
    "X_train_observed_c = pd.read_parquet('./data/C/X_train_observed.parquet')\n",
    "X_test_estimated_c = pd.read_parquet('./data/C/X_test_estimated.parquet')\n",
    "\n",
    "X_test_estimated_c['date_forecast'] = pd.to_datetime(X_test_estimated_c['date_forecast'])\n",
    "X_test_estimated_c = X_test_estimated_c[X_test_estimated_c['date_forecast'].dt.minute == 0]\n",
    "\n",
    "df = pd.concat([X_train_observed_c, X_train_estimated_c])\n",
    "df = pd.merge(df, train_c, left_on='date_forecast', right_on='time', how='inner')\n",
    "df = df.drop(columns=['date_forecast', 'date_calc', 'snow_density:kgm3', 'snow_drift:idx', 'fresh_snow_1h:cm', 'fresh_snow_3h:cm', 'fresh_snow_6h:cm', 'fresh_snow_24h:cm'])"
   ]
  },
  {
   "cell_type": "code",
   "execution_count": null,
   "id": "44568353acce82ee",
   "metadata": {
    "ExecuteTime": {
     "end_time": "2023-10-23T21:01:31.791634100Z",
     "start_time": "2023-10-23T21:01:31.745122200Z"
    },
    "collapsed": false
   },
   "outputs": [],
   "source": [
    "imputer = SimpleImputer(strategy='most_frequent')\n",
    "X_test_estimated_c[['ceiling_height_agl:m', 'cloud_base_agl:m']] = imputer.fit_transform(X_test_estimated_c[['ceiling_height_agl:m', 'cloud_base_agl:m']])\n",
    "df[['ceiling_height_agl:m', 'cloud_base_agl:m', 'pv_measurement']] = imputer.fit_transform(df[['ceiling_height_agl:m', 'cloud_base_agl:m', 'pv_measurement']])\n",
    "X_test_estimated_c = X_test_estimated_c.rename(columns={'date_forecast': 'time'})"
   ]
  },
  {
   "cell_type": "code",
   "execution_count": null,
   "id": "8ccbc9a77322863e",
   "metadata": {
    "ExecuteTime": {
     "end_time": "2023-10-23T21:01:32.616664300Z",
     "start_time": "2023-10-23T21:01:31.807589Z"
    },
    "collapsed": false
   },
   "outputs": [],
   "source": [
    "threshold = 0.95\n",
    "\n",
    "segments = find_long_constant_periods(train_c['pv_measurement'], threshold=5)\n",
    "df = remove_constant_periods(df, segments)\n",
    "\n",
    "df = lag_features_by_one_hour(df, ['diffuse_rad_1h:J', 'direct_rad_1h:J', 'clear_sky_energy_1h:J'])\n",
    "df = is_estimated(df)\n",
    "df = remove_highly_correlated_features(df, threshold)\n",
    "\n",
    "X_test_estimated_c = lag_features_by_one_hour(X_test_estimated_c, ['diffuse_rad_1h:J', 'direct_rad_1h:J', 'clear_sky_energy_1h:J'])\n",
    "X_test_estimated_c = is_estimated(X_test_estimated_c)\n",
    "common_columns = df.columns.intersection(X_test_estimated_c.columns)\n",
    "X_test_estimated_c = X_test_estimated_c.loc[:, common_columns]"
   ]
  },
  {
   "cell_type": "code",
   "execution_count": null,
   "id": "765271258509f8f3",
   "metadata": {
    "ExecuteTime": {
     "end_time": "2023-10-23T21:01:32.632664700Z",
     "start_time": "2023-10-23T21:01:32.619663800Z"
    },
    "collapsed": false
   },
   "outputs": [],
   "source": [
    "# # Define the split date\n",
    "# split_date = '2022-10-27'\n",
    "# \n",
    "# # Convert the 'time' column to a datetime object\n",
    "# df['time'] = pd.to_datetime(df['time'])\n",
    "# \n",
    "# # Sorting the data by the 'time' column to maintain chronological order\n",
    "# df.sort_values('time', inplace=True)\n",
    "# \n",
    "# # Splitting the data into training and test sets based on the split date\n",
    "# train_df = df[df['time'] < split_date]\n",
    "# test_df = df[df['time'] >= split_date]\n",
    "# \n",
    "# # Identifying the features and the target variable\n",
    "# X_train = train_df.drop(columns=['pv_measurement', 'time'])\n",
    "# y_train = train_df['pv_measurement']\n",
    "# X_test = test_df.drop(columns=['pv_measurement', 'time'])\n",
    "# y_test = test_df['pv_measurement']"
   ]
  },
  {
   "cell_type": "code",
   "execution_count": null,
   "id": "a974c1c83ddb7df7",
   "metadata": {
    "ExecuteTime": {
     "end_time": "2023-10-23T21:01:32.678222800Z",
     "start_time": "2023-10-23T21:01:32.637667200Z"
    },
    "collapsed": false
   },
   "outputs": [],
   "source": [
    "train_end_date = '2022-10-21'\n",
    "# 2023-01-29\n",
    "validation_end_date = '2023-01-29'\n",
    "# 2023-03-16\n",
    "\n",
    "# Split the data into training, validation, and testing sets based on the new split dates\n",
    "train_df, val_and_test_df = split_df_on_date(df, train_end_date)\n",
    "validation_df, test_df = split_df_on_date(val_and_test_df, validation_end_date)\n",
    "\n",
    "# Randomly sample data within these periods (assuming you want to keep the same data structure)\n",
    "train_df = train_df.sample(frac=1, random_state=42).reset_index(drop=True)\n",
    "validation_df = validation_df.sample(frac=1, random_state=42).reset_index(drop=True)\n",
    "test_df = test_df.sample(frac=1, random_state=42).reset_index(drop=True)\n",
    "\n",
    "# Use all time values for observed data\n",
    "train_df = mean_of_the_hour(train_df)\n",
    "validation_df = mean_of_the_hour(validation_df)\n",
    "test_df = mean_of_the_hour(test_df)\n",
    "\n",
    "# Identifying the features and the target variable\n",
    "X_train = train_df.drop(columns=['pv_measurement', 'time'])\n",
    "y_train = train_df['pv_measurement']\n",
    "X_val = validation_df.drop(columns=['pv_measurement', 'time'])\n",
    "y_val = validation_df['pv_measurement']\n",
    "X_test = test_df.drop(columns=['pv_measurement', 'time'])\n",
    "y_test = test_df['pv_measurement']"
   ]
  },
  {
   "cell_type": "code",
   "execution_count": null,
   "id": "cdd55c079d94262b",
   "metadata": {
    "ExecuteTime": {
     "end_time": "2023-10-23T21:24:48.992476Z",
     "start_time": "2023-10-23T21:01:32.696221500Z"
    },
    "collapsed": false
   },
   "outputs": [],
   "source": [
    "# Combine training and validation data into a single dataset for AutoGluon\n",
    "train_data = pd.concat([X_train, y_train], axis=1)\n",
    "val_data = pd.concat([X_val, y_val], axis=1)\n",
    "\n",
    "# Specify the name of the target variable\n",
    "label = 'pv_measurement'\n",
    "\n",
    "# Create a TabularPredictor object\n",
    "predictor = TabularPredictor(label=label, eval_metric=\"mean_absolute_error\").fit(train_data=train_data, tuning_data=val_data, presets='medium_quality', use_bag_holdout=True)"
   ]
  },
  {
   "cell_type": "code",
   "execution_count": null,
   "id": "50b6912f",
   "metadata": {},
   "outputs": [],
   "source": [
    "# MAE\n",
    "from sklearn.metrics import mean_absolute_error\n",
    "\n",
    "predictions = predictor.predict(X_test)\n",
    "mae = mean_absolute_error(y_test, predictions)\n",
    "mae"
   ]
  },
  {
   "cell_type": "code",
   "execution_count": null,
   "id": "dbf9458b87fc5239",
   "metadata": {
    "ExecuteTime": {
     "end_time": "2023-10-23T21:24:49.087302900Z",
     "start_time": "2023-10-23T21:24:48.997592Z"
    },
    "collapsed": false
   },
   "outputs": [],
   "source": [
    "results = predictor.fit_summary(show_plot=True)"
   ]
  },
  {
   "cell_type": "code",
   "execution_count": null,
   "id": "d9482667a02af855",
   "metadata": {
    "ExecuteTime": {
     "end_time": "2023-10-23T21:24:49.475867600Z",
     "start_time": "2023-10-23T21:24:49.089300300Z"
    },
    "collapsed": false
   },
   "outputs": [],
   "source": [
    "X_test_estimated_c = mean_of_the_hour(X_test_estimated_c)\n",
    "\n",
    "y_pred = predictor.predict(X_test_estimated_c)\n",
    "y_pred = y_pred.clip(lower=0)\n",
    "y_pred = y_pred.reset_index(drop=True)\n",
    "y_pred.index.name = 'id'"
   ]
  },
  {
   "cell_type": "code",
   "execution_count": null,
   "id": "7c9c0cb5ad7af0a2",
   "metadata": {
    "ExecuteTime": {
     "end_time": "2023-10-23T21:24:49.491729600Z",
     "start_time": "2023-10-23T21:24:49.478873800Z"
    },
    "collapsed": false
   },
   "outputs": [],
   "source": [
    "df = pd.DataFrame(y_pred)\n",
    "df.to_csv('result_c.csv')"
   ]
  }
 ],
 "metadata": {
  "kernelspec": {
   "display_name": "Python 3",
   "language": "python",
   "name": "python3"
  },
  "language_info": {
   "codemirror_mode": {
    "name": "ipython",
    "version": 3
   },
   "file_extension": ".py",
   "mimetype": "text/x-python",
   "name": "python",
   "nbconvert_exporter": "python",
   "pygments_lexer": "ipython3",
   "version": "3.10.12"
  }
 },
 "nbformat": 4,
 "nbformat_minor": 5
}
