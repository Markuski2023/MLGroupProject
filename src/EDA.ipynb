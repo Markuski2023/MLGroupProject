{
 "cells": [
  {
   "cell_type": "code",
   "execution_count": 3,
   "id": "initial_id",
   "metadata": {
    "collapsed": true,
    "ExecuteTime": {
     "end_time": "2023-09-29T09:44:37.719164100Z",
     "start_time": "2023-09-29T09:44:37.710501800Z"
    }
   },
   "outputs": [],
   "source": [
    "import pandas as pd\n",
    "import matplotlib.pyplot as plt\n",
    "import seaborn as sns"
   ]
  },
  {
   "cell_type": "code",
   "execution_count": 4,
   "outputs": [],
   "source": [
    "df_train = pd.read_parquet('data/A/X_train_observed.parquet')\n",
    "df_test = pd.read_parquet('data/A/X_test_estimated.parquet')\n",
    "df_targets = pd.read_parquet('data/A/train_targets.parquet')"
   ],
   "metadata": {
    "collapsed": false,
    "ExecuteTime": {
     "end_time": "2023-09-29T09:44:37.791118300Z",
     "start_time": "2023-09-29T09:44:37.721163300Z"
    }
   },
   "id": "f56c390ae35f6f82"
  },
  {
   "cell_type": "code",
   "execution_count": 5,
   "outputs": [
    {
     "data": {
      "text/plain": "Index(['date_forecast', 'absolute_humidity_2m:gm3', 'air_density_2m:kgm3',\n       'ceiling_height_agl:m', 'clear_sky_energy_1h:J', 'clear_sky_rad:W',\n       'cloud_base_agl:m', 'dew_or_rime:idx', 'dew_point_2m:K',\n       'diffuse_rad:W', 'diffuse_rad_1h:J', 'direct_rad:W', 'direct_rad_1h:J',\n       'effective_cloud_cover:p', 'elevation:m', 'fresh_snow_12h:cm',\n       'fresh_snow_1h:cm', 'fresh_snow_24h:cm', 'fresh_snow_3h:cm',\n       'fresh_snow_6h:cm', 'is_day:idx', 'is_in_shadow:idx',\n       'msl_pressure:hPa', 'precip_5min:mm', 'precip_type_5min:idx',\n       'pressure_100m:hPa', 'pressure_50m:hPa', 'prob_rime:p',\n       'rain_water:kgm2', 'relative_humidity_1000hPa:p', 'sfc_pressure:hPa',\n       'snow_density:kgm3', 'snow_depth:cm', 'snow_drift:idx',\n       'snow_melt_10min:mm', 'snow_water:kgm2', 'sun_azimuth:d',\n       'sun_elevation:d', 'super_cooled_liquid_water:kgm2', 't_1000hPa:K',\n       'total_cloud_cover:p', 'visibility:m', 'wind_speed_10m:ms',\n       'wind_speed_u_10m:ms', 'wind_speed_v_10m:ms',\n       'wind_speed_w_1000hPa:ms'],\n      dtype='object')"
     },
     "execution_count": 5,
     "metadata": {},
     "output_type": "execute_result"
    }
   ],
   "source": [
    "df_train.columns"
   ],
   "metadata": {
    "collapsed": false,
    "ExecuteTime": {
     "end_time": "2023-09-29T09:44:37.809891600Z",
     "start_time": "2023-09-29T09:44:37.796156200Z"
    }
   },
   "id": "50b6f540f1542913"
  },
  {
   "cell_type": "code",
   "execution_count": 6,
   "outputs": [
    {
     "data": {
      "text/plain": "Index(['time', 'pv_measurement'], dtype='object')"
     },
     "execution_count": 6,
     "metadata": {},
     "output_type": "execute_result"
    }
   ],
   "source": [
    "df_targets.columns"
   ],
   "metadata": {
    "collapsed": false,
    "ExecuteTime": {
     "end_time": "2023-09-29T09:44:37.815071200Z",
     "start_time": "2023-09-29T09:44:37.802804300Z"
    }
   },
   "id": "4ab1911ddd6b04f2"
  },
  {
   "cell_type": "code",
   "execution_count": 7,
   "outputs": [
    {
     "data": {
      "text/plain": "       absolute_humidity_2m:gm3  air_density_2m:kgm3  ceiling_height_agl:m  \\\ncount             118669.000000        118669.000000          96422.000000   \nmean                   6.652576             1.249064           2907.949219   \nstd                    2.796409             0.036317           2570.401855   \nmin                    0.700000             1.145000             27.799999   \n25%                    4.400000             1.224000           1102.900024   \n50%                    6.300000             1.247000           1882.400024   \n75%                    8.600000             1.272000           3969.750000   \nmax                   17.500000             1.427000          12328.500000   \n\n       clear_sky_energy_1h:J  clear_sky_rad:W  cloud_base_agl:m  \\\ncount           1.186690e+05    118669.000000     110603.000000   \nmean            5.994018e+05       166.500381       1737.142212   \nstd             8.797980e+05       244.907578       1815.570679   \nmin             0.000000e+00         0.000000         27.900000   \n25%             0.000000e+00         0.000000        590.700012   \n50%             3.574770e+04         8.600000       1162.599976   \n75%             1.037819e+06       288.799988       2079.600098   \nmax             3.005720e+06       836.400024      11688.700195   \n\n       dew_or_rime:idx  dew_point_2m:K  diffuse_rad:W  diffuse_rad_1h:J  ...  \\\ncount    118669.000000   118669.000000  118669.000000      1.186690e+05  ...   \nmean          0.022398      276.823395      44.918282      1.617057e+05  ...   \nstd           0.190339        6.701851      64.780273      2.301814e+05  ...   \nmin          -1.000000      250.899994       0.000000      0.000000e+00  ...   \n25%           0.000000      272.100006       0.000000      0.000000e+00  ...   \n50%           0.000000      277.200012       4.100000      2.481410e+04  ...   \n75%           0.000000      282.000000      76.000000      2.743256e+05  ...   \nmax           1.000000      293.799988     345.700012      1.205498e+06  ...   \n\n       sun_azimuth:d  sun_elevation:d  super_cooled_liquid_water:kgm2  \\\ncount  118669.000000    118669.000000                   118669.000000   \nmean      179.629486         1.529545                        0.059087   \nstd       103.778503        24.146574                        0.109520   \nmin         0.002000       -50.004002                        0.000000   \n25%        88.487999       -15.066000                        0.000000   \n50%       179.436996         1.202000                        0.000000   \n75%       270.640991        18.995001                        0.100000   \nmax       359.997986        49.999001                        1.400000   \n\n         t_1000hPa:K  total_cloud_cover:p   visibility:m  wind_speed_10m:ms  \\\ncount  118669.000000        118669.000000  118669.000000      118669.000000   \nmean      280.708557            74.401077   32446.992188           3.043197   \nstd         6.573745            33.518063   17967.917969           1.779309   \nmin       258.899994             0.000000     154.300003           0.000000   \n25%       275.899994            54.799999   15592.400391           1.700000   \n50%       280.700012            93.699997   36359.800781           2.700000   \n75%       285.200012            99.900002   48084.500000           4.100000   \nmax       303.299988           100.000000   71349.898438          15.200000   \n\n       wind_speed_u_10m:ms  wind_speed_v_10m:ms  wind_speed_w_1000hPa:ms  \ncount        118669.000000        118669.000000            118669.000000  \nmean              0.756781             0.517437                 0.000019  \nstd               2.856045             1.851810                 0.001392  \nmin              -7.300000            -9.300000                -0.000000  \n25%              -1.400000            -0.700000                 0.000000  \n50%               0.400000             0.500000                 0.000000  \n75%               2.700000             1.700000                 0.000000  \nmax              12.300000             8.600000                 0.100000  \n\n[8 rows x 45 columns]",
      "text/html": "<div>\n<style scoped>\n    .dataframe tbody tr th:only-of-type {\n        vertical-align: middle;\n    }\n\n    .dataframe tbody tr th {\n        vertical-align: top;\n    }\n\n    .dataframe thead th {\n        text-align: right;\n    }\n</style>\n<table border=\"1\" class=\"dataframe\">\n  <thead>\n    <tr style=\"text-align: right;\">\n      <th></th>\n      <th>absolute_humidity_2m:gm3</th>\n      <th>air_density_2m:kgm3</th>\n      <th>ceiling_height_agl:m</th>\n      <th>clear_sky_energy_1h:J</th>\n      <th>clear_sky_rad:W</th>\n      <th>cloud_base_agl:m</th>\n      <th>dew_or_rime:idx</th>\n      <th>dew_point_2m:K</th>\n      <th>diffuse_rad:W</th>\n      <th>diffuse_rad_1h:J</th>\n      <th>...</th>\n      <th>sun_azimuth:d</th>\n      <th>sun_elevation:d</th>\n      <th>super_cooled_liquid_water:kgm2</th>\n      <th>t_1000hPa:K</th>\n      <th>total_cloud_cover:p</th>\n      <th>visibility:m</th>\n      <th>wind_speed_10m:ms</th>\n      <th>wind_speed_u_10m:ms</th>\n      <th>wind_speed_v_10m:ms</th>\n      <th>wind_speed_w_1000hPa:ms</th>\n    </tr>\n  </thead>\n  <tbody>\n    <tr>\n      <th>count</th>\n      <td>118669.000000</td>\n      <td>118669.000000</td>\n      <td>96422.000000</td>\n      <td>1.186690e+05</td>\n      <td>118669.000000</td>\n      <td>110603.000000</td>\n      <td>118669.000000</td>\n      <td>118669.000000</td>\n      <td>118669.000000</td>\n      <td>1.186690e+05</td>\n      <td>...</td>\n      <td>118669.000000</td>\n      <td>118669.000000</td>\n      <td>118669.000000</td>\n      <td>118669.000000</td>\n      <td>118669.000000</td>\n      <td>118669.000000</td>\n      <td>118669.000000</td>\n      <td>118669.000000</td>\n      <td>118669.000000</td>\n      <td>118669.000000</td>\n    </tr>\n    <tr>\n      <th>mean</th>\n      <td>6.652576</td>\n      <td>1.249064</td>\n      <td>2907.949219</td>\n      <td>5.994018e+05</td>\n      <td>166.500381</td>\n      <td>1737.142212</td>\n      <td>0.022398</td>\n      <td>276.823395</td>\n      <td>44.918282</td>\n      <td>1.617057e+05</td>\n      <td>...</td>\n      <td>179.629486</td>\n      <td>1.529545</td>\n      <td>0.059087</td>\n      <td>280.708557</td>\n      <td>74.401077</td>\n      <td>32446.992188</td>\n      <td>3.043197</td>\n      <td>0.756781</td>\n      <td>0.517437</td>\n      <td>0.000019</td>\n    </tr>\n    <tr>\n      <th>std</th>\n      <td>2.796409</td>\n      <td>0.036317</td>\n      <td>2570.401855</td>\n      <td>8.797980e+05</td>\n      <td>244.907578</td>\n      <td>1815.570679</td>\n      <td>0.190339</td>\n      <td>6.701851</td>\n      <td>64.780273</td>\n      <td>2.301814e+05</td>\n      <td>...</td>\n      <td>103.778503</td>\n      <td>24.146574</td>\n      <td>0.109520</td>\n      <td>6.573745</td>\n      <td>33.518063</td>\n      <td>17967.917969</td>\n      <td>1.779309</td>\n      <td>2.856045</td>\n      <td>1.851810</td>\n      <td>0.001392</td>\n    </tr>\n    <tr>\n      <th>min</th>\n      <td>0.700000</td>\n      <td>1.145000</td>\n      <td>27.799999</td>\n      <td>0.000000e+00</td>\n      <td>0.000000</td>\n      <td>27.900000</td>\n      <td>-1.000000</td>\n      <td>250.899994</td>\n      <td>0.000000</td>\n      <td>0.000000e+00</td>\n      <td>...</td>\n      <td>0.002000</td>\n      <td>-50.004002</td>\n      <td>0.000000</td>\n      <td>258.899994</td>\n      <td>0.000000</td>\n      <td>154.300003</td>\n      <td>0.000000</td>\n      <td>-7.300000</td>\n      <td>-9.300000</td>\n      <td>-0.000000</td>\n    </tr>\n    <tr>\n      <th>25%</th>\n      <td>4.400000</td>\n      <td>1.224000</td>\n      <td>1102.900024</td>\n      <td>0.000000e+00</td>\n      <td>0.000000</td>\n      <td>590.700012</td>\n      <td>0.000000</td>\n      <td>272.100006</td>\n      <td>0.000000</td>\n      <td>0.000000e+00</td>\n      <td>...</td>\n      <td>88.487999</td>\n      <td>-15.066000</td>\n      <td>0.000000</td>\n      <td>275.899994</td>\n      <td>54.799999</td>\n      <td>15592.400391</td>\n      <td>1.700000</td>\n      <td>-1.400000</td>\n      <td>-0.700000</td>\n      <td>0.000000</td>\n    </tr>\n    <tr>\n      <th>50%</th>\n      <td>6.300000</td>\n      <td>1.247000</td>\n      <td>1882.400024</td>\n      <td>3.574770e+04</td>\n      <td>8.600000</td>\n      <td>1162.599976</td>\n      <td>0.000000</td>\n      <td>277.200012</td>\n      <td>4.100000</td>\n      <td>2.481410e+04</td>\n      <td>...</td>\n      <td>179.436996</td>\n      <td>1.202000</td>\n      <td>0.000000</td>\n      <td>280.700012</td>\n      <td>93.699997</td>\n      <td>36359.800781</td>\n      <td>2.700000</td>\n      <td>0.400000</td>\n      <td>0.500000</td>\n      <td>0.000000</td>\n    </tr>\n    <tr>\n      <th>75%</th>\n      <td>8.600000</td>\n      <td>1.272000</td>\n      <td>3969.750000</td>\n      <td>1.037819e+06</td>\n      <td>288.799988</td>\n      <td>2079.600098</td>\n      <td>0.000000</td>\n      <td>282.000000</td>\n      <td>76.000000</td>\n      <td>2.743256e+05</td>\n      <td>...</td>\n      <td>270.640991</td>\n      <td>18.995001</td>\n      <td>0.100000</td>\n      <td>285.200012</td>\n      <td>99.900002</td>\n      <td>48084.500000</td>\n      <td>4.100000</td>\n      <td>2.700000</td>\n      <td>1.700000</td>\n      <td>0.000000</td>\n    </tr>\n    <tr>\n      <th>max</th>\n      <td>17.500000</td>\n      <td>1.427000</td>\n      <td>12328.500000</td>\n      <td>3.005720e+06</td>\n      <td>836.400024</td>\n      <td>11688.700195</td>\n      <td>1.000000</td>\n      <td>293.799988</td>\n      <td>345.700012</td>\n      <td>1.205498e+06</td>\n      <td>...</td>\n      <td>359.997986</td>\n      <td>49.999001</td>\n      <td>1.400000</td>\n      <td>303.299988</td>\n      <td>100.000000</td>\n      <td>71349.898438</td>\n      <td>15.200000</td>\n      <td>12.300000</td>\n      <td>8.600000</td>\n      <td>0.100000</td>\n    </tr>\n  </tbody>\n</table>\n<p>8 rows × 45 columns</p>\n</div>"
     },
     "execution_count": 7,
     "metadata": {},
     "output_type": "execute_result"
    }
   ],
   "source": [
    "# Summary statistics\n",
    "df_train.describe()"
   ],
   "metadata": {
    "collapsed": false,
    "ExecuteTime": {
     "end_time": "2023-09-29T09:44:37.972379200Z",
     "start_time": "2023-09-29T09:44:37.811896600Z"
    }
   },
   "id": "8e38903c34078fd5"
  },
  {
   "cell_type": "code",
   "execution_count": 8,
   "outputs": [],
   "source": [
    "df_train = pd.read_parquet('data/A/X_train_observed.parquet')\n",
    "df_test = pd.read_parquet('data/A/X_test_estimated.parquet')\n",
    "df_targets = pd.read_parquet('data/A/train_targets.parquet')"
   ],
   "metadata": {
    "collapsed": false,
    "ExecuteTime": {
     "end_time": "2023-09-29T09:44:38.098942500Z",
     "start_time": "2023-09-29T09:44:37.975378500Z"
    }
   },
   "id": "ec41c218f720f2fc"
  },
  {
   "cell_type": "code",
   "execution_count": 13,
   "outputs": [],
   "source": [
    "import pandas as pd\n",
    "\n",
    "# Specify the path of your parquet file and the path where you want to save the CSV file.\n",
    "parquet_file_path = 'data/A/X_train_estimated.parquet'\n",
    "csv_file_path = 'X_train_estimated.csv'\n",
    "\n",
    "# Read the parquet file\n",
    "df = pd.read_parquet(parquet_file_path)\n",
    "\n",
    "# Save the dataframe as a CSV file\n",
    "df.to_csv(csv_file_path, index=False)"
   ],
   "metadata": {
    "collapsed": false,
    "ExecuteTime": {
     "end_time": "2023-09-29T09:46:14.565586100Z",
     "start_time": "2023-09-29T09:46:13.818440800Z"
    }
   },
   "id": "702d1ed8622d82a9"
  },
  {
   "cell_type": "code",
   "execution_count": null,
   "outputs": [],
   "source": [],
   "metadata": {
    "collapsed": false
   },
   "id": "6b1ba6b27407c1a9"
  }
 ],
 "metadata": {
  "kernelspec": {
   "display_name": "Python 3",
   "language": "python",
   "name": "python3"
  },
  "language_info": {
   "codemirror_mode": {
    "name": "ipython",
    "version": 2
   },
   "file_extension": ".py",
   "mimetype": "text/x-python",
   "name": "python",
   "nbconvert_exporter": "python",
   "pygments_lexer": "ipython2",
   "version": "2.7.6"
  }
 },
 "nbformat": 4,
 "nbformat_minor": 5
}
