{
 "cells": [
  {
   "cell_type": "code",
   "execution_count": 93,
   "id": "initial_id",
   "metadata": {
    "collapsed": true,
    "ExecuteTime": {
     "end_time": "2023-09-29T16:17:29.418178700Z",
     "start_time": "2023-09-29T16:17:29.404320300Z"
    }
   },
   "outputs": [],
   "source": [
    "import pandas as pd\n",
    "import matplotlib.pyplot as plt\n",
    "import seaborn as sns"
   ]
  },
  {
   "cell_type": "code",
   "execution_count": 94,
   "outputs": [],
   "source": [
    "# # Specify the path of your parquet file and the path where you want to save the CSV file.\n",
    "# parquet_file_path = ''\n",
    "# csv_file_path = ''\n",
    "# \n",
    "# # Read the parquet file\n",
    "# df = pd.read_parquet(parquet_file_path)\n",
    "# \n",
    "# # Save the dataframe as a CSV file\n",
    "# df.to_csv(csv_file_path, index=False)"
   ],
   "metadata": {
    "collapsed": false,
    "ExecuteTime": {
     "end_time": "2023-09-29T16:17:29.501950800Z",
     "start_time": "2023-09-29T16:17:29.419178200Z"
    }
   },
   "id": "2c5f229cdc6c290d"
  },
  {
   "cell_type": "code",
   "execution_count": 95,
   "outputs": [],
   "source": [
    "train_targets = pd.read_csv('train_targets.csv', parse_dates=True, index_col='time')\n",
    "X_test_estimated = pd.read_csv('X_test_estimated.csv', parse_dates=True, index_col='date_calc')\n",
    "X_train_estimated = pd.read_csv('X_train_estimated.csv', parse_dates=True, index_col='date_calc')\n",
    "X_train_observed = pd.read_csv('X_train_observed.csv', parse_dates=True, index_col='date_forecast')"
   ],
   "metadata": {
    "collapsed": false,
    "ExecuteTime": {
     "end_time": "2023-09-29T16:17:29.928760600Z",
     "start_time": "2023-09-29T16:17:29.439210700Z"
    }
   },
   "id": "f56c390ae35f6f82"
  },
  {
   "cell_type": "code",
   "execution_count": 96,
   "outputs": [
    {
     "data": {
      "text/plain": "Index(['pv_measurement'], dtype='object')"
     },
     "execution_count": 96,
     "metadata": {},
     "output_type": "execute_result"
    }
   ],
   "source": [
    "train_targets.columns"
   ],
   "metadata": {
    "collapsed": false,
    "ExecuteTime": {
     "end_time": "2023-09-29T16:17:29.949759200Z",
     "start_time": "2023-09-29T16:17:29.929760Z"
    }
   },
   "id": "50b6f540f1542913"
  },
  {
   "cell_type": "code",
   "execution_count": 97,
   "outputs": [
    {
     "data": {
      "text/plain": "Index(['date_forecast', 'absolute_humidity_2m:gm3', 'air_density_2m:kgm3',\n       'ceiling_height_agl:m', 'clear_sky_energy_1h:J', 'clear_sky_rad:W',\n       'cloud_base_agl:m', 'dew_or_rime:idx', 'dew_point_2m:K',\n       'diffuse_rad:W', 'diffuse_rad_1h:J', 'direct_rad:W', 'direct_rad_1h:J',\n       'effective_cloud_cover:p', 'elevation:m', 'fresh_snow_12h:cm',\n       'fresh_snow_1h:cm', 'fresh_snow_24h:cm', 'fresh_snow_3h:cm',\n       'fresh_snow_6h:cm', 'is_day:idx', 'is_in_shadow:idx',\n       'msl_pressure:hPa', 'precip_5min:mm', 'precip_type_5min:idx',\n       'pressure_100m:hPa', 'pressure_50m:hPa', 'prob_rime:p',\n       'rain_water:kgm2', 'relative_humidity_1000hPa:p', 'sfc_pressure:hPa',\n       'snow_density:kgm3', 'snow_depth:cm', 'snow_drift:idx',\n       'snow_melt_10min:mm', 'snow_water:kgm2', 'sun_azimuth:d',\n       'sun_elevation:d', 'super_cooled_liquid_water:kgm2', 't_1000hPa:K',\n       'total_cloud_cover:p', 'visibility:m', 'wind_speed_10m:ms',\n       'wind_speed_u_10m:ms', 'wind_speed_v_10m:ms',\n       'wind_speed_w_1000hPa:ms'],\n      dtype='object')"
     },
     "execution_count": 97,
     "metadata": {},
     "output_type": "execute_result"
    }
   ],
   "source": [
    "X_test_estimated.columns"
   ],
   "metadata": {
    "collapsed": false,
    "ExecuteTime": {
     "end_time": "2023-09-29T16:17:30.005285Z",
     "start_time": "2023-09-29T16:17:29.945760400Z"
    }
   },
   "id": "a12c2ec4873097ee"
  },
  {
   "cell_type": "code",
   "execution_count": 98,
   "outputs": [
    {
     "data": {
      "text/plain": "       pv_measurement\ncount    34085.000000\nmean       630.594707\nstd       1165.902422\nmin          0.000000\n25%          0.000000\n50%          5.940000\n75%        678.040000\nmax       5733.420000",
      "text/html": "<div>\n<style scoped>\n    .dataframe tbody tr th:only-of-type {\n        vertical-align: middle;\n    }\n\n    .dataframe tbody tr th {\n        vertical-align: top;\n    }\n\n    .dataframe thead th {\n        text-align: right;\n    }\n</style>\n<table border=\"1\" class=\"dataframe\">\n  <thead>\n    <tr style=\"text-align: right;\">\n      <th></th>\n      <th>pv_measurement</th>\n    </tr>\n  </thead>\n  <tbody>\n    <tr>\n      <th>count</th>\n      <td>34085.000000</td>\n    </tr>\n    <tr>\n      <th>mean</th>\n      <td>630.594707</td>\n    </tr>\n    <tr>\n      <th>std</th>\n      <td>1165.902422</td>\n    </tr>\n    <tr>\n      <th>min</th>\n      <td>0.000000</td>\n    </tr>\n    <tr>\n      <th>25%</th>\n      <td>0.000000</td>\n    </tr>\n    <tr>\n      <th>50%</th>\n      <td>5.940000</td>\n    </tr>\n    <tr>\n      <th>75%</th>\n      <td>678.040000</td>\n    </tr>\n    <tr>\n      <th>max</th>\n      <td>5733.420000</td>\n    </tr>\n  </tbody>\n</table>\n</div>"
     },
     "execution_count": 98,
     "metadata": {},
     "output_type": "execute_result"
    }
   ],
   "source": [
    "train_targets.describe()"
   ],
   "metadata": {
    "collapsed": false,
    "ExecuteTime": {
     "end_time": "2023-09-29T16:17:30.013285500Z",
     "start_time": "2023-09-29T16:17:29.963770Z"
    }
   },
   "id": "8e38903c34078fd5"
  },
  {
   "cell_type": "code",
   "execution_count": 99,
   "outputs": [
    {
     "data": {
      "text/plain": "       absolute_humidity_2m:gm3  air_density_2m:kgm3  ceiling_height_agl:m  \\\ncount               2880.000000          2880.000000           2087.000000   \nmean                   8.205903             1.233150           3061.526593   \nstd                    2.179117             0.032109           2936.846958   \nmin                    3.200000             1.151000             53.300000   \n25%                    6.700000             1.209000            954.100000   \n50%                    8.100000             1.238500           1664.300000   \n75%                   10.000000             1.260000           4082.700000   \nmax                   13.800000             1.300000          11443.900000   \n\n       clear_sky_energy_1h:J  clear_sky_rad:W  cloud_base_agl:m  \\\ncount           2.880000e+03      2880.000000       2582.000000   \nmean            1.227651e+06       341.014028       1866.813013   \nstd             1.104096e+06       307.643266       2108.218330   \nmin             0.000000e+00         0.000000         30.200000   \n25%             5.477638e+04        14.325000        509.100000   \n50%             1.046825e+06       290.500000       1048.000000   \n75%             2.355269e+06       655.350000       2394.500000   \nmax             3.005375e+06       836.300000      11256.700000   \n\n       dew_or_rime:idx  dew_point_2m:K  diffuse_rad:W  diffuse_rad_1h:J  ...  \\\ncount      2880.000000     2880.000000    2880.000000      2.880000e+03  ...   \nmean          0.034722      280.800174      84.902326      3.056483e+05  ...   \nstd           0.183107        4.340126      78.992922      2.793446e+05  ...   \nmin           0.000000      268.100000       0.000000      0.000000e+00  ...   \n25%           0.000000      278.000000       7.200000      3.283297e+04  ...   \n50%           0.000000      281.100000      74.250000      2.682913e+05  ...   \n75%           0.000000      284.400000     133.750000      4.879698e+05  ...   \nmax           1.000000      289.700000     321.900000      1.116314e+06  ...   \n\n       sun_azimuth:d  sun_elevation:d  super_cooled_liquid_water:kgm2  \\\ncount    2880.000000      2880.000000                     2880.000000   \nmean      179.181375        20.294442                        0.063924   \nstd       109.229183        18.670222                        0.111452   \nmin         0.051000       -11.622000                        0.000000   \n25%        79.038750         2.047250                        0.000000   \n50%       179.283000        19.290000                        0.000000   \n75%       279.788500        38.294750                        0.100000   \nmax       359.923000        49.995000                        0.600000   \n\n       t_1000hPa:K  total_cloud_cover:p  visibility:m  wind_speed_10m:ms  \\\ncount  2880.000000          2880.000000   2880.000000        2880.000000   \nmean    284.723368            69.309792  33599.618507           3.075139   \nstd       5.811429            37.910046  15701.643709           1.801516   \nmin     273.800000             0.000000   1649.900000           0.000000   \n25%     279.800000            36.975000  19578.025000           1.600000   \n50%     284.800000            93.500000  37087.450000           2.900000   \n75%     288.200000           100.000000  46180.325000           4.200000   \nmax     302.000000           100.000000  63871.800000           9.300000   \n\n       wind_speed_u_10m:ms  wind_speed_v_10m:ms  wind_speed_w_1000hPa:ms  \ncount          2880.000000          2880.000000                   2880.0  \nmean              1.739271            -0.218993                      0.0  \nstd               2.718314             1.495842                      0.0  \nmin              -4.300000            -4.400000                      0.0  \n25%              -0.300000            -1.300000                      0.0  \n50%               1.800000            -0.300000                      0.0  \n75%               3.800000             0.700000                      0.0  \nmax               9.300000             4.000000                      0.0  \n\n[8 rows x 45 columns]",
      "text/html": "<div>\n<style scoped>\n    .dataframe tbody tr th:only-of-type {\n        vertical-align: middle;\n    }\n\n    .dataframe tbody tr th {\n        vertical-align: top;\n    }\n\n    .dataframe thead th {\n        text-align: right;\n    }\n</style>\n<table border=\"1\" class=\"dataframe\">\n  <thead>\n    <tr style=\"text-align: right;\">\n      <th></th>\n      <th>absolute_humidity_2m:gm3</th>\n      <th>air_density_2m:kgm3</th>\n      <th>ceiling_height_agl:m</th>\n      <th>clear_sky_energy_1h:J</th>\n      <th>clear_sky_rad:W</th>\n      <th>cloud_base_agl:m</th>\n      <th>dew_or_rime:idx</th>\n      <th>dew_point_2m:K</th>\n      <th>diffuse_rad:W</th>\n      <th>diffuse_rad_1h:J</th>\n      <th>...</th>\n      <th>sun_azimuth:d</th>\n      <th>sun_elevation:d</th>\n      <th>super_cooled_liquid_water:kgm2</th>\n      <th>t_1000hPa:K</th>\n      <th>total_cloud_cover:p</th>\n      <th>visibility:m</th>\n      <th>wind_speed_10m:ms</th>\n      <th>wind_speed_u_10m:ms</th>\n      <th>wind_speed_v_10m:ms</th>\n      <th>wind_speed_w_1000hPa:ms</th>\n    </tr>\n  </thead>\n  <tbody>\n    <tr>\n      <th>count</th>\n      <td>2880.000000</td>\n      <td>2880.000000</td>\n      <td>2087.000000</td>\n      <td>2.880000e+03</td>\n      <td>2880.000000</td>\n      <td>2582.000000</td>\n      <td>2880.000000</td>\n      <td>2880.000000</td>\n      <td>2880.000000</td>\n      <td>2.880000e+03</td>\n      <td>...</td>\n      <td>2880.000000</td>\n      <td>2880.000000</td>\n      <td>2880.000000</td>\n      <td>2880.000000</td>\n      <td>2880.000000</td>\n      <td>2880.000000</td>\n      <td>2880.000000</td>\n      <td>2880.000000</td>\n      <td>2880.000000</td>\n      <td>2880.0</td>\n    </tr>\n    <tr>\n      <th>mean</th>\n      <td>8.205903</td>\n      <td>1.233150</td>\n      <td>3061.526593</td>\n      <td>1.227651e+06</td>\n      <td>341.014028</td>\n      <td>1866.813013</td>\n      <td>0.034722</td>\n      <td>280.800174</td>\n      <td>84.902326</td>\n      <td>3.056483e+05</td>\n      <td>...</td>\n      <td>179.181375</td>\n      <td>20.294442</td>\n      <td>0.063924</td>\n      <td>284.723368</td>\n      <td>69.309792</td>\n      <td>33599.618507</td>\n      <td>3.075139</td>\n      <td>1.739271</td>\n      <td>-0.218993</td>\n      <td>0.0</td>\n    </tr>\n    <tr>\n      <th>std</th>\n      <td>2.179117</td>\n      <td>0.032109</td>\n      <td>2936.846958</td>\n      <td>1.104096e+06</td>\n      <td>307.643266</td>\n      <td>2108.218330</td>\n      <td>0.183107</td>\n      <td>4.340126</td>\n      <td>78.992922</td>\n      <td>2.793446e+05</td>\n      <td>...</td>\n      <td>109.229183</td>\n      <td>18.670222</td>\n      <td>0.111452</td>\n      <td>5.811429</td>\n      <td>37.910046</td>\n      <td>15701.643709</td>\n      <td>1.801516</td>\n      <td>2.718314</td>\n      <td>1.495842</td>\n      <td>0.0</td>\n    </tr>\n    <tr>\n      <th>min</th>\n      <td>3.200000</td>\n      <td>1.151000</td>\n      <td>53.300000</td>\n      <td>0.000000e+00</td>\n      <td>0.000000</td>\n      <td>30.200000</td>\n      <td>0.000000</td>\n      <td>268.100000</td>\n      <td>0.000000</td>\n      <td>0.000000e+00</td>\n      <td>...</td>\n      <td>0.051000</td>\n      <td>-11.622000</td>\n      <td>0.000000</td>\n      <td>273.800000</td>\n      <td>0.000000</td>\n      <td>1649.900000</td>\n      <td>0.000000</td>\n      <td>-4.300000</td>\n      <td>-4.400000</td>\n      <td>0.0</td>\n    </tr>\n    <tr>\n      <th>25%</th>\n      <td>6.700000</td>\n      <td>1.209000</td>\n      <td>954.100000</td>\n      <td>5.477638e+04</td>\n      <td>14.325000</td>\n      <td>509.100000</td>\n      <td>0.000000</td>\n      <td>278.000000</td>\n      <td>7.200000</td>\n      <td>3.283297e+04</td>\n      <td>...</td>\n      <td>79.038750</td>\n      <td>2.047250</td>\n      <td>0.000000</td>\n      <td>279.800000</td>\n      <td>36.975000</td>\n      <td>19578.025000</td>\n      <td>1.600000</td>\n      <td>-0.300000</td>\n      <td>-1.300000</td>\n      <td>0.0</td>\n    </tr>\n    <tr>\n      <th>50%</th>\n      <td>8.100000</td>\n      <td>1.238500</td>\n      <td>1664.300000</td>\n      <td>1.046825e+06</td>\n      <td>290.500000</td>\n      <td>1048.000000</td>\n      <td>0.000000</td>\n      <td>281.100000</td>\n      <td>74.250000</td>\n      <td>2.682913e+05</td>\n      <td>...</td>\n      <td>179.283000</td>\n      <td>19.290000</td>\n      <td>0.000000</td>\n      <td>284.800000</td>\n      <td>93.500000</td>\n      <td>37087.450000</td>\n      <td>2.900000</td>\n      <td>1.800000</td>\n      <td>-0.300000</td>\n      <td>0.0</td>\n    </tr>\n    <tr>\n      <th>75%</th>\n      <td>10.000000</td>\n      <td>1.260000</td>\n      <td>4082.700000</td>\n      <td>2.355269e+06</td>\n      <td>655.350000</td>\n      <td>2394.500000</td>\n      <td>0.000000</td>\n      <td>284.400000</td>\n      <td>133.750000</td>\n      <td>4.879698e+05</td>\n      <td>...</td>\n      <td>279.788500</td>\n      <td>38.294750</td>\n      <td>0.100000</td>\n      <td>288.200000</td>\n      <td>100.000000</td>\n      <td>46180.325000</td>\n      <td>4.200000</td>\n      <td>3.800000</td>\n      <td>0.700000</td>\n      <td>0.0</td>\n    </tr>\n    <tr>\n      <th>max</th>\n      <td>13.800000</td>\n      <td>1.300000</td>\n      <td>11443.900000</td>\n      <td>3.005375e+06</td>\n      <td>836.300000</td>\n      <td>11256.700000</td>\n      <td>1.000000</td>\n      <td>289.700000</td>\n      <td>321.900000</td>\n      <td>1.116314e+06</td>\n      <td>...</td>\n      <td>359.923000</td>\n      <td>49.995000</td>\n      <td>0.600000</td>\n      <td>302.000000</td>\n      <td>100.000000</td>\n      <td>63871.800000</td>\n      <td>9.300000</td>\n      <td>9.300000</td>\n      <td>4.000000</td>\n      <td>0.0</td>\n    </tr>\n  </tbody>\n</table>\n<p>8 rows × 45 columns</p>\n</div>"
     },
     "execution_count": 99,
     "metadata": {},
     "output_type": "execute_result"
    }
   ],
   "source": [
    "X_test_estimated.describe()"
   ],
   "metadata": {
    "collapsed": false,
    "ExecuteTime": {
     "end_time": "2023-09-29T16:17:30.054286400Z",
     "start_time": "2023-09-29T16:17:29.978380900Z"
    }
   },
   "id": "44a96dc101867c91"
  },
  {
   "cell_type": "code",
   "execution_count": 100,
   "outputs": [
    {
     "data": {
      "text/plain": "absolute_humidity_2m:gm3               0\nair_density_2m:kgm3                    0\nceiling_height_agl:m               22247\nclear_sky_energy_1h:J                  0\nclear_sky_rad:W                        0\ncloud_base_agl:m                    8066\ndew_or_rime:idx                        0\ndew_point_2m:K                         0\ndiffuse_rad:W                          0\ndiffuse_rad_1h:J                       0\ndirect_rad:W                           0\ndirect_rad_1h:J                        0\neffective_cloud_cover:p                0\nelevation:m                            0\nfresh_snow_12h:cm                      0\nfresh_snow_1h:cm                       0\nfresh_snow_24h:cm                      0\nfresh_snow_3h:cm                       0\nfresh_snow_6h:cm                       0\nis_day:idx                             0\nis_in_shadow:idx                       0\nmsl_pressure:hPa                       0\nprecip_5min:mm                         0\nprecip_type_5min:idx                   0\npressure_100m:hPa                      0\npressure_50m:hPa                       0\nprob_rime:p                            0\nrain_water:kgm2                        0\nrelative_humidity_1000hPa:p            0\nsfc_pressure:hPa                       0\nsnow_density:kgm3                 115945\nsnow_depth:cm                          0\nsnow_drift:idx                         0\nsnow_melt_10min:mm                     0\nsnow_water:kgm2                        0\nsun_azimuth:d                          0\nsun_elevation:d                        0\nsuper_cooled_liquid_water:kgm2         0\nt_1000hPa:K                            0\ntotal_cloud_cover:p                    0\nvisibility:m                           0\nwind_speed_10m:ms                      0\nwind_speed_u_10m:ms                    0\nwind_speed_v_10m:ms                    0\nwind_speed_w_1000hPa:ms                0\ndtype: int64"
     },
     "execution_count": 100,
     "metadata": {},
     "output_type": "execute_result"
    }
   ],
   "source": [
    "X_train_observed.isnull().sum()"
   ],
   "metadata": {
    "collapsed": false,
    "ExecuteTime": {
     "end_time": "2023-09-29T16:17:30.128392400Z",
     "start_time": "2023-09-29T16:17:30.038286600Z"
    }
   },
   "id": "6b1ba6b27407c1a9"
  },
  {
   "cell_type": "code",
   "execution_count": 101,
   "outputs": [
    {
     "data": {
      "text/plain": "date_forecast                         0\nabsolute_humidity_2m:gm3              0\nair_density_2m:kgm3                   0\nceiling_height_agl:m               3919\nclear_sky_energy_1h:J                 0\nclear_sky_rad:W                       0\ncloud_base_agl:m                   2094\ndew_or_rime:idx                       0\ndew_point_2m:K                        0\ndiffuse_rad:W                         0\ndiffuse_rad_1h:J                      0\ndirect_rad:W                          0\ndirect_rad_1h:J                       0\neffective_cloud_cover:p               0\nelevation:m                           0\nfresh_snow_12h:cm                     0\nfresh_snow_1h:cm                      0\nfresh_snow_24h:cm                     0\nfresh_snow_3h:cm                      0\nfresh_snow_6h:cm                      0\nis_day:idx                            0\nis_in_shadow:idx                      0\nmsl_pressure:hPa                      0\nprecip_5min:mm                        0\nprecip_type_5min:idx                  0\npressure_100m:hPa                     0\npressure_50m:hPa                      0\nprob_rime:p                           0\nrain_water:kgm2                       0\nrelative_humidity_1000hPa:p           0\nsfc_pressure:hPa                      0\nsnow_density:kgm3                 15769\nsnow_depth:cm                         0\nsnow_drift:idx                        0\nsnow_melt_10min:mm                    0\nsnow_water:kgm2                       0\nsun_azimuth:d                         0\nsun_elevation:d                       0\nsuper_cooled_liquid_water:kgm2        0\nt_1000hPa:K                           0\ntotal_cloud_cover:p                   0\nvisibility:m                          0\nwind_speed_10m:ms                     0\nwind_speed_u_10m:ms                   0\nwind_speed_v_10m:ms                   0\nwind_speed_w_1000hPa:ms               0\ndtype: int64"
     },
     "execution_count": 101,
     "metadata": {},
     "output_type": "execute_result"
    }
   ],
   "source": [
    "X_train_estimated.isnull().sum()"
   ],
   "metadata": {
    "collapsed": false,
    "ExecuteTime": {
     "end_time": "2023-09-29T16:17:30.172042Z",
     "start_time": "2023-09-29T16:17:30.058293700Z"
    }
   },
   "id": "541f5fb164323891"
  },
  {
   "cell_type": "code",
   "execution_count": 102,
   "outputs": [
    {
     "data": {
      "text/plain": "date_forecast                        0\nabsolute_humidity_2m:gm3             0\nair_density_2m:kgm3                  0\nceiling_height_agl:m               793\nclear_sky_energy_1h:J                0\nclear_sky_rad:W                      0\ncloud_base_agl:m                   298\ndew_or_rime:idx                      0\ndew_point_2m:K                       0\ndiffuse_rad:W                        0\ndiffuse_rad_1h:J                     0\ndirect_rad:W                         0\ndirect_rad_1h:J                      0\neffective_cloud_cover:p              0\nelevation:m                          0\nfresh_snow_12h:cm                    0\nfresh_snow_1h:cm                     0\nfresh_snow_24h:cm                    0\nfresh_snow_3h:cm                     0\nfresh_snow_6h:cm                     0\nis_day:idx                           0\nis_in_shadow:idx                     0\nmsl_pressure:hPa                     0\nprecip_5min:mm                       0\nprecip_type_5min:idx                 0\npressure_100m:hPa                    0\npressure_50m:hPa                     0\nprob_rime:p                          0\nrain_water:kgm2                      0\nrelative_humidity_1000hPa:p          0\nsfc_pressure:hPa                     0\nsnow_density:kgm3                 2880\nsnow_depth:cm                        0\nsnow_drift:idx                       0\nsnow_melt_10min:mm                   0\nsnow_water:kgm2                      0\nsun_azimuth:d                        0\nsun_elevation:d                      0\nsuper_cooled_liquid_water:kgm2       0\nt_1000hPa:K                          0\ntotal_cloud_cover:p                  0\nvisibility:m                         0\nwind_speed_10m:ms                    0\nwind_speed_u_10m:ms                  0\nwind_speed_v_10m:ms                  0\nwind_speed_w_1000hPa:ms              0\ndtype: int64"
     },
     "execution_count": 102,
     "metadata": {},
     "output_type": "execute_result"
    }
   ],
   "source": [
    "X_test_estimated.isnull().sum()"
   ],
   "metadata": {
    "collapsed": false,
    "ExecuteTime": {
     "end_time": "2023-09-29T16:17:30.263046300Z",
     "start_time": "2023-09-29T16:17:30.070392400Z"
    }
   },
   "id": "d9c6e11f95baedf4"
  },
  {
   "cell_type": "code",
   "execution_count": 103,
   "outputs": [
    {
     "data": {
      "text/plain": "pv_measurement    0\ndtype: int64"
     },
     "execution_count": 103,
     "metadata": {},
     "output_type": "execute_result"
    }
   ],
   "source": [
    "train_targets.isnull().sum()"
   ],
   "metadata": {
    "collapsed": false,
    "ExecuteTime": {
     "end_time": "2023-09-29T16:17:30.265044600Z",
     "start_time": "2023-09-29T16:17:30.087445200Z"
    }
   },
   "id": "8b047c0ebe85b234"
  },
  {
   "cell_type": "code",
   "execution_count": 104,
   "outputs": [],
   "source": [
    "from sklearn.impute import SimpleImputer\n",
    "\n",
    "# Features to impute with median\n",
    "features_median_impute = [\"ceiling_height_agl:m\", \"cloud_base_agl:m\"]\n",
    "median_imputer = SimpleImputer(strategy='median')\n",
    "\n",
    "# Features to impute with zero\n",
    "features_zero_impute = [\"snow_density:kgm3\"]\n",
    "zero_imputer = SimpleImputer(strategy='constant', fill_value=0)\n",
    "\n",
    "# Imputing missing values in all datasets\n",
    "datasets = [X_test_estimated, X_train_estimated, X_train_observed]\n",
    "\n",
    "for dataset in datasets:\n",
    "    # Imputing with median\n",
    "    dataset[features_median_impute] = median_imputer.fit_transform(dataset[features_median_impute])\n",
    "\n",
    "    # Imputing with zero\n",
    "    dataset[features_zero_impute] = zero_imputer.fit_transform(dataset[features_zero_impute])"
   ],
   "metadata": {
    "collapsed": false,
    "ExecuteTime": {
     "end_time": "2023-09-29T16:17:30.284553100Z",
     "start_time": "2023-09-29T16:17:30.099392800Z"
    }
   },
   "id": "9101f98ff96c88d9"
  },
  {
   "cell_type": "code",
   "execution_count": 105,
   "outputs": [
    {
     "data": {
      "text/plain": "absolute_humidity_2m:gm3          0\nair_density_2m:kgm3               0\nceiling_height_agl:m              0\nclear_sky_energy_1h:J             0\nclear_sky_rad:W                   0\ncloud_base_agl:m                  0\ndew_or_rime:idx                   0\ndew_point_2m:K                    0\ndiffuse_rad:W                     0\ndiffuse_rad_1h:J                  0\ndirect_rad:W                      0\ndirect_rad_1h:J                   0\neffective_cloud_cover:p           0\nelevation:m                       0\nfresh_snow_12h:cm                 0\nfresh_snow_1h:cm                  0\nfresh_snow_24h:cm                 0\nfresh_snow_3h:cm                  0\nfresh_snow_6h:cm                  0\nis_day:idx                        0\nis_in_shadow:idx                  0\nmsl_pressure:hPa                  0\nprecip_5min:mm                    0\nprecip_type_5min:idx              0\npressure_100m:hPa                 0\npressure_50m:hPa                  0\nprob_rime:p                       0\nrain_water:kgm2                   0\nrelative_humidity_1000hPa:p       0\nsfc_pressure:hPa                  0\nsnow_density:kgm3                 0\nsnow_depth:cm                     0\nsnow_drift:idx                    0\nsnow_melt_10min:mm                0\nsnow_water:kgm2                   0\nsun_azimuth:d                     0\nsun_elevation:d                   0\nsuper_cooled_liquid_water:kgm2    0\nt_1000hPa:K                       0\ntotal_cloud_cover:p               0\nvisibility:m                      0\nwind_speed_10m:ms                 0\nwind_speed_u_10m:ms               0\nwind_speed_v_10m:ms               0\nwind_speed_w_1000hPa:ms           0\ndtype: int64"
     },
     "execution_count": 105,
     "metadata": {},
     "output_type": "execute_result"
    }
   ],
   "source": [
    "X_train_observed.isnull().sum()"
   ],
   "metadata": {
    "collapsed": false,
    "ExecuteTime": {
     "end_time": "2023-09-29T16:17:30.285555700Z",
     "start_time": "2023-09-29T16:17:30.195041500Z"
    }
   },
   "id": "f56ccad2e2a9bc1c"
  }
 ],
 "metadata": {
  "kernelspec": {
   "display_name": "Python 3",
   "language": "python",
   "name": "python3"
  },
  "language_info": {
   "codemirror_mode": {
    "name": "ipython",
    "version": 2
   },
   "file_extension": ".py",
   "mimetype": "text/x-python",
   "name": "python",
   "nbconvert_exporter": "python",
   "pygments_lexer": "ipython2",
   "version": "2.7.6"
  }
 },
 "nbformat": 4,
 "nbformat_minor": 5
}
