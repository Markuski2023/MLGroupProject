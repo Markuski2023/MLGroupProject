{
 "cells": [
  {
   "cell_type": "code",
   "execution_count": 28,
   "id": "initial_id",
   "metadata": {
    "collapsed": true,
    "ExecuteTime": {
     "end_time": "2023-09-27T18:02:57.959388300Z",
     "start_time": "2023-09-27T18:02:57.923049700Z"
    }
   },
   "outputs": [],
   "source": [
    "import pandas as pd\n",
    "import matplotlib.pyplot as plt\n",
    "import seaborn as sns"
   ]
  },
  {
   "cell_type": "code",
   "execution_count": 29,
   "outputs": [],
   "source": [
    "df_train = pd.read_parquet('data/A/X_train_observed.parquet')\n",
    "df_test = pd.read_parquet('data/A/X_test_estimated.parquet')\n",
    "df_targets = pd.read_parquet('data/A/train_targets.parquet')"
   ],
   "metadata": {
    "collapsed": false,
    "ExecuteTime": {
     "end_time": "2023-09-27T18:02:58.002379200Z",
     "start_time": "2023-09-27T18:02:57.928413700Z"
    }
   },
   "id": "f56c390ae35f6f82"
  },
  {
   "cell_type": "code",
   "execution_count": 30,
   "outputs": [
    {
     "data": {
      "text/plain": "Index(['date_forecast', 'absolute_humidity_2m:gm3', 'air_density_2m:kgm3',\n       'ceiling_height_agl:m', 'clear_sky_energy_1h:J', 'clear_sky_rad:W',\n       'cloud_base_agl:m', 'dew_or_rime:idx', 'dew_point_2m:K',\n       'diffuse_rad:W', 'diffuse_rad_1h:J', 'direct_rad:W', 'direct_rad_1h:J',\n       'effective_cloud_cover:p', 'elevation:m', 'fresh_snow_12h:cm',\n       'fresh_snow_1h:cm', 'fresh_snow_24h:cm', 'fresh_snow_3h:cm',\n       'fresh_snow_6h:cm', 'is_day:idx', 'is_in_shadow:idx',\n       'msl_pressure:hPa', 'precip_5min:mm', 'precip_type_5min:idx',\n       'pressure_100m:hPa', 'pressure_50m:hPa', 'prob_rime:p',\n       'rain_water:kgm2', 'relative_humidity_1000hPa:p', 'sfc_pressure:hPa',\n       'snow_density:kgm3', 'snow_depth:cm', 'snow_drift:idx',\n       'snow_melt_10min:mm', 'snow_water:kgm2', 'sun_azimuth:d',\n       'sun_elevation:d', 'super_cooled_liquid_water:kgm2', 't_1000hPa:K',\n       'total_cloud_cover:p', 'visibility:m', 'wind_speed_10m:ms',\n       'wind_speed_u_10m:ms', 'wind_speed_v_10m:ms',\n       'wind_speed_w_1000hPa:ms'],\n      dtype='object')"
     },
     "execution_count": 30,
     "metadata": {},
     "output_type": "execute_result"
    }
   ],
   "source": [
    "df_train.columns"
   ],
   "metadata": {
    "collapsed": false,
    "ExecuteTime": {
     "end_time": "2023-09-27T18:02:58.015806900Z",
     "start_time": "2023-09-27T18:02:58.002379200Z"
    }
   },
   "id": "50b6f540f1542913"
  },
  {
   "cell_type": "code",
   "execution_count": 31,
   "outputs": [
    {
     "data": {
      "text/plain": "Index(['time', 'pv_measurement'], dtype='object')"
     },
     "execution_count": 31,
     "metadata": {},
     "output_type": "execute_result"
    }
   ],
   "source": [
    "df_targets.columns"
   ],
   "metadata": {
    "collapsed": false,
    "ExecuteTime": {
     "end_time": "2023-09-27T18:02:58.121547400Z",
     "start_time": "2023-09-27T18:02:58.015806900Z"
    }
   },
   "id": "4ab1911ddd6b04f2"
  },
  {
   "cell_type": "code",
   "execution_count": 32,
   "outputs": [
    {
     "data": {
      "text/plain": "             date_forecast  absolute_humidity_2m:gm3  air_density_2m:kgm3  \\\ncount               118669             118669.000000        118669.000000   \nmean   2021-02-09 23:30:00                  6.652576             1.249064   \nmin    2019-06-02 22:00:00                  0.700000             1.145000   \n25%    2020-04-06 22:45:00                  4.400000             1.224000   \n50%    2021-02-09 23:30:00                  6.300000             1.247000   \n75%    2021-12-16 00:15:00                  8.600000             1.272000   \nmax    2022-10-21 01:00:00                 17.500000             1.427000   \nstd                    NaN                  2.796409             0.036317   \n\n       ceiling_height_agl:m  clear_sky_energy_1h:J  clear_sky_rad:W  \\\ncount          96422.000000           1.186690e+05    118669.000000   \nmean            2907.949219           5.994018e+05       166.500381   \nmin               27.799999           0.000000e+00         0.000000   \n25%             1102.900024           0.000000e+00         0.000000   \n50%             1882.400024           3.574770e+04         8.600000   \n75%             3969.750000           1.037819e+06       288.799988   \nmax            12328.500000           3.005720e+06       836.400024   \nstd             2570.401855           8.797980e+05       244.907578   \n\n       cloud_base_agl:m  dew_or_rime:idx  dew_point_2m:K  diffuse_rad:W  ...  \\\ncount     110603.000000    118669.000000   118669.000000  118669.000000  ...   \nmean        1737.142212         0.022398      276.823395      44.918282  ...   \nmin           27.900000        -1.000000      250.899994       0.000000  ...   \n25%          590.700012         0.000000      272.100006       0.000000  ...   \n50%         1162.599976         0.000000      277.200012       4.100000  ...   \n75%         2079.600098         0.000000      282.000000      76.000000  ...   \nmax        11688.700195         1.000000      293.799988     345.700012  ...   \nstd         1815.570679         0.190339        6.701851      64.780273  ...   \n\n       sun_azimuth:d  sun_elevation:d  super_cooled_liquid_water:kgm2  \\\ncount  118669.000000    118669.000000                   118669.000000   \nmean      179.629486         1.529545                        0.059087   \nmin         0.002000       -50.004002                        0.000000   \n25%        88.487999       -15.066000                        0.000000   \n50%       179.436996         1.202000                        0.000000   \n75%       270.640991        18.995001                        0.100000   \nmax       359.997986        49.999001                        1.400000   \nstd       103.778503        24.146574                        0.109520   \n\n         t_1000hPa:K  total_cloud_cover:p   visibility:m  wind_speed_10m:ms  \\\ncount  118669.000000        118669.000000  118669.000000      118669.000000   \nmean      280.708557            74.401077   32446.992188           3.043197   \nmin       258.899994             0.000000     154.300003           0.000000   \n25%       275.899994            54.799999   15592.400391           1.700000   \n50%       280.700012            93.699997   36359.800781           2.700000   \n75%       285.200012            99.900002   48084.500000           4.100000   \nmax       303.299988           100.000000   71349.898438          15.200000   \nstd         6.573745            33.518063   17967.917969           1.779309   \n\n       wind_speed_u_10m:ms  wind_speed_v_10m:ms  wind_speed_w_1000hPa:ms  \ncount        118669.000000        118669.000000            118669.000000  \nmean              0.756781             0.517437                 0.000019  \nmin              -7.300000            -9.300000                -0.000000  \n25%              -1.400000            -0.700000                 0.000000  \n50%               0.400000             0.500000                 0.000000  \n75%               2.700000             1.700000                 0.000000  \nmax              12.300000             8.600000                 0.100000  \nstd               2.856045             1.851810                 0.001392  \n\n[8 rows x 46 columns]",
      "text/html": "<div>\n<style scoped>\n    .dataframe tbody tr th:only-of-type {\n        vertical-align: middle;\n    }\n\n    .dataframe tbody tr th {\n        vertical-align: top;\n    }\n\n    .dataframe thead th {\n        text-align: right;\n    }\n</style>\n<table border=\"1\" class=\"dataframe\">\n  <thead>\n    <tr style=\"text-align: right;\">\n      <th></th>\n      <th>date_forecast</th>\n      <th>absolute_humidity_2m:gm3</th>\n      <th>air_density_2m:kgm3</th>\n      <th>ceiling_height_agl:m</th>\n      <th>clear_sky_energy_1h:J</th>\n      <th>clear_sky_rad:W</th>\n      <th>cloud_base_agl:m</th>\n      <th>dew_or_rime:idx</th>\n      <th>dew_point_2m:K</th>\n      <th>diffuse_rad:W</th>\n      <th>...</th>\n      <th>sun_azimuth:d</th>\n      <th>sun_elevation:d</th>\n      <th>super_cooled_liquid_water:kgm2</th>\n      <th>t_1000hPa:K</th>\n      <th>total_cloud_cover:p</th>\n      <th>visibility:m</th>\n      <th>wind_speed_10m:ms</th>\n      <th>wind_speed_u_10m:ms</th>\n      <th>wind_speed_v_10m:ms</th>\n      <th>wind_speed_w_1000hPa:ms</th>\n    </tr>\n  </thead>\n  <tbody>\n    <tr>\n      <th>count</th>\n      <td>118669</td>\n      <td>118669.000000</td>\n      <td>118669.000000</td>\n      <td>96422.000000</td>\n      <td>1.186690e+05</td>\n      <td>118669.000000</td>\n      <td>110603.000000</td>\n      <td>118669.000000</td>\n      <td>118669.000000</td>\n      <td>118669.000000</td>\n      <td>...</td>\n      <td>118669.000000</td>\n      <td>118669.000000</td>\n      <td>118669.000000</td>\n      <td>118669.000000</td>\n      <td>118669.000000</td>\n      <td>118669.000000</td>\n      <td>118669.000000</td>\n      <td>118669.000000</td>\n      <td>118669.000000</td>\n      <td>118669.000000</td>\n    </tr>\n    <tr>\n      <th>mean</th>\n      <td>2021-02-09 23:30:00</td>\n      <td>6.652576</td>\n      <td>1.249064</td>\n      <td>2907.949219</td>\n      <td>5.994018e+05</td>\n      <td>166.500381</td>\n      <td>1737.142212</td>\n      <td>0.022398</td>\n      <td>276.823395</td>\n      <td>44.918282</td>\n      <td>...</td>\n      <td>179.629486</td>\n      <td>1.529545</td>\n      <td>0.059087</td>\n      <td>280.708557</td>\n      <td>74.401077</td>\n      <td>32446.992188</td>\n      <td>3.043197</td>\n      <td>0.756781</td>\n      <td>0.517437</td>\n      <td>0.000019</td>\n    </tr>\n    <tr>\n      <th>min</th>\n      <td>2019-06-02 22:00:00</td>\n      <td>0.700000</td>\n      <td>1.145000</td>\n      <td>27.799999</td>\n      <td>0.000000e+00</td>\n      <td>0.000000</td>\n      <td>27.900000</td>\n      <td>-1.000000</td>\n      <td>250.899994</td>\n      <td>0.000000</td>\n      <td>...</td>\n      <td>0.002000</td>\n      <td>-50.004002</td>\n      <td>0.000000</td>\n      <td>258.899994</td>\n      <td>0.000000</td>\n      <td>154.300003</td>\n      <td>0.000000</td>\n      <td>-7.300000</td>\n      <td>-9.300000</td>\n      <td>-0.000000</td>\n    </tr>\n    <tr>\n      <th>25%</th>\n      <td>2020-04-06 22:45:00</td>\n      <td>4.400000</td>\n      <td>1.224000</td>\n      <td>1102.900024</td>\n      <td>0.000000e+00</td>\n      <td>0.000000</td>\n      <td>590.700012</td>\n      <td>0.000000</td>\n      <td>272.100006</td>\n      <td>0.000000</td>\n      <td>...</td>\n      <td>88.487999</td>\n      <td>-15.066000</td>\n      <td>0.000000</td>\n      <td>275.899994</td>\n      <td>54.799999</td>\n      <td>15592.400391</td>\n      <td>1.700000</td>\n      <td>-1.400000</td>\n      <td>-0.700000</td>\n      <td>0.000000</td>\n    </tr>\n    <tr>\n      <th>50%</th>\n      <td>2021-02-09 23:30:00</td>\n      <td>6.300000</td>\n      <td>1.247000</td>\n      <td>1882.400024</td>\n      <td>3.574770e+04</td>\n      <td>8.600000</td>\n      <td>1162.599976</td>\n      <td>0.000000</td>\n      <td>277.200012</td>\n      <td>4.100000</td>\n      <td>...</td>\n      <td>179.436996</td>\n      <td>1.202000</td>\n      <td>0.000000</td>\n      <td>280.700012</td>\n      <td>93.699997</td>\n      <td>36359.800781</td>\n      <td>2.700000</td>\n      <td>0.400000</td>\n      <td>0.500000</td>\n      <td>0.000000</td>\n    </tr>\n    <tr>\n      <th>75%</th>\n      <td>2021-12-16 00:15:00</td>\n      <td>8.600000</td>\n      <td>1.272000</td>\n      <td>3969.750000</td>\n      <td>1.037819e+06</td>\n      <td>288.799988</td>\n      <td>2079.600098</td>\n      <td>0.000000</td>\n      <td>282.000000</td>\n      <td>76.000000</td>\n      <td>...</td>\n      <td>270.640991</td>\n      <td>18.995001</td>\n      <td>0.100000</td>\n      <td>285.200012</td>\n      <td>99.900002</td>\n      <td>48084.500000</td>\n      <td>4.100000</td>\n      <td>2.700000</td>\n      <td>1.700000</td>\n      <td>0.000000</td>\n    </tr>\n    <tr>\n      <th>max</th>\n      <td>2022-10-21 01:00:00</td>\n      <td>17.500000</td>\n      <td>1.427000</td>\n      <td>12328.500000</td>\n      <td>3.005720e+06</td>\n      <td>836.400024</td>\n      <td>11688.700195</td>\n      <td>1.000000</td>\n      <td>293.799988</td>\n      <td>345.700012</td>\n      <td>...</td>\n      <td>359.997986</td>\n      <td>49.999001</td>\n      <td>1.400000</td>\n      <td>303.299988</td>\n      <td>100.000000</td>\n      <td>71349.898438</td>\n      <td>15.200000</td>\n      <td>12.300000</td>\n      <td>8.600000</td>\n      <td>0.100000</td>\n    </tr>\n    <tr>\n      <th>std</th>\n      <td>NaN</td>\n      <td>2.796409</td>\n      <td>0.036317</td>\n      <td>2570.401855</td>\n      <td>8.797980e+05</td>\n      <td>244.907578</td>\n      <td>1815.570679</td>\n      <td>0.190339</td>\n      <td>6.701851</td>\n      <td>64.780273</td>\n      <td>...</td>\n      <td>103.778503</td>\n      <td>24.146574</td>\n      <td>0.109520</td>\n      <td>6.573745</td>\n      <td>33.518063</td>\n      <td>17967.917969</td>\n      <td>1.779309</td>\n      <td>2.856045</td>\n      <td>1.851810</td>\n      <td>0.001392</td>\n    </tr>\n  </tbody>\n</table>\n<p>8 rows × 46 columns</p>\n</div>"
     },
     "execution_count": 32,
     "metadata": {},
     "output_type": "execute_result"
    }
   ],
   "source": [
    "# Summary statistics\n",
    "df_train.describe()"
   ],
   "metadata": {
    "collapsed": false,
    "ExecuteTime": {
     "end_time": "2023-09-27T18:02:58.248114Z",
     "start_time": "2023-09-27T18:02:58.035747400Z"
    }
   },
   "id": "8e38903c34078fd5"
  },
  {
   "cell_type": "code",
   "execution_count": 33,
   "outputs": [
    {
     "ename": "KeyError",
     "evalue": "'date_forcast'",
     "output_type": "error",
     "traceback": [
      "\u001B[1;31m---------------------------------------------------------------------------\u001B[0m",
      "\u001B[1;31mKeyError\u001B[0m                                  Traceback (most recent call last)",
      "File \u001B[1;32m~\\.conda\\envs\\src\\Lib\\site-packages\\pandas\\core\\indexes\\base.py:3653\u001B[0m, in \u001B[0;36mIndex.get_loc\u001B[1;34m(self, key)\u001B[0m\n\u001B[0;32m   3652\u001B[0m \u001B[38;5;28;01mtry\u001B[39;00m:\n\u001B[1;32m-> 3653\u001B[0m     \u001B[38;5;28;01mreturn\u001B[39;00m \u001B[38;5;28mself\u001B[39m\u001B[38;5;241m.\u001B[39m_engine\u001B[38;5;241m.\u001B[39mget_loc(casted_key)\n\u001B[0;32m   3654\u001B[0m \u001B[38;5;28;01mexcept\u001B[39;00m \u001B[38;5;167;01mKeyError\u001B[39;00m \u001B[38;5;28;01mas\u001B[39;00m err:\n",
      "File \u001B[1;32m~\\.conda\\envs\\src\\Lib\\site-packages\\pandas\\_libs\\index.pyx:147\u001B[0m, in \u001B[0;36mpandas._libs.index.IndexEngine.get_loc\u001B[1;34m()\u001B[0m\n",
      "File \u001B[1;32m~\\.conda\\envs\\src\\Lib\\site-packages\\pandas\\_libs\\index.pyx:176\u001B[0m, in \u001B[0;36mpandas._libs.index.IndexEngine.get_loc\u001B[1;34m()\u001B[0m\n",
      "File \u001B[1;32mpandas\\_libs\\hashtable_class_helper.pxi:7080\u001B[0m, in \u001B[0;36mpandas._libs.hashtable.PyObjectHashTable.get_item\u001B[1;34m()\u001B[0m\n",
      "File \u001B[1;32mpandas\\_libs\\hashtable_class_helper.pxi:7088\u001B[0m, in \u001B[0;36mpandas._libs.hashtable.PyObjectHashTable.get_item\u001B[1;34m()\u001B[0m\n",
      "\u001B[1;31mKeyError\u001B[0m: 'date_forcast'",
      "\nThe above exception was the direct cause of the following exception:\n",
      "\u001B[1;31mKeyError\u001B[0m                                  Traceback (most recent call last)",
      "Cell \u001B[1;32mIn[33], line 1\u001B[0m\n\u001B[1;32m----> 1\u001B[0m df_train[\u001B[38;5;124m\"\u001B[39m\u001B[38;5;124mdate_forcast\u001B[39m\u001B[38;5;124m\"\u001B[39m] \u001B[38;5;241m=\u001B[39m pd\u001B[38;5;241m.\u001B[39mto_datetime(df_train[\u001B[38;5;124m\"\u001B[39m\u001B[38;5;124mdate_forcast\u001B[39m\u001B[38;5;124m\"\u001B[39m])\n\u001B[0;32m      2\u001B[0m df_test[\u001B[38;5;124m\"\u001B[39m\u001B[38;5;124mdate_forcast\u001B[39m\u001B[38;5;124m\"\u001B[39m] \u001B[38;5;241m=\u001B[39m pd\u001B[38;5;241m.\u001B[39mto_datetime(df_test[\u001B[38;5;124m\"\u001B[39m\u001B[38;5;124mdate_forcast\u001B[39m\u001B[38;5;124m\"\u001B[39m])\n\u001B[0;32m      3\u001B[0m train \u001B[38;5;241m=\u001B[39m df_train\u001B[38;5;241m.\u001B[39mset_index(\u001B[38;5;124m\"\u001B[39m\u001B[38;5;124mdate_forcast\u001B[39m\u001B[38;5;124m\"\u001B[39m)\n",
      "File \u001B[1;32m~\\.conda\\envs\\src\\Lib\\site-packages\\pandas\\core\\frame.py:3761\u001B[0m, in \u001B[0;36mDataFrame.__getitem__\u001B[1;34m(self, key)\u001B[0m\n\u001B[0;32m   3759\u001B[0m \u001B[38;5;28;01mif\u001B[39;00m \u001B[38;5;28mself\u001B[39m\u001B[38;5;241m.\u001B[39mcolumns\u001B[38;5;241m.\u001B[39mnlevels \u001B[38;5;241m>\u001B[39m \u001B[38;5;241m1\u001B[39m:\n\u001B[0;32m   3760\u001B[0m     \u001B[38;5;28;01mreturn\u001B[39;00m \u001B[38;5;28mself\u001B[39m\u001B[38;5;241m.\u001B[39m_getitem_multilevel(key)\n\u001B[1;32m-> 3761\u001B[0m indexer \u001B[38;5;241m=\u001B[39m \u001B[38;5;28mself\u001B[39m\u001B[38;5;241m.\u001B[39mcolumns\u001B[38;5;241m.\u001B[39mget_loc(key)\n\u001B[0;32m   3762\u001B[0m \u001B[38;5;28;01mif\u001B[39;00m is_integer(indexer):\n\u001B[0;32m   3763\u001B[0m     indexer \u001B[38;5;241m=\u001B[39m [indexer]\n",
      "File \u001B[1;32m~\\.conda\\envs\\src\\Lib\\site-packages\\pandas\\core\\indexes\\base.py:3655\u001B[0m, in \u001B[0;36mIndex.get_loc\u001B[1;34m(self, key)\u001B[0m\n\u001B[0;32m   3653\u001B[0m     \u001B[38;5;28;01mreturn\u001B[39;00m \u001B[38;5;28mself\u001B[39m\u001B[38;5;241m.\u001B[39m_engine\u001B[38;5;241m.\u001B[39mget_loc(casted_key)\n\u001B[0;32m   3654\u001B[0m \u001B[38;5;28;01mexcept\u001B[39;00m \u001B[38;5;167;01mKeyError\u001B[39;00m \u001B[38;5;28;01mas\u001B[39;00m err:\n\u001B[1;32m-> 3655\u001B[0m     \u001B[38;5;28;01mraise\u001B[39;00m \u001B[38;5;167;01mKeyError\u001B[39;00m(key) \u001B[38;5;28;01mfrom\u001B[39;00m \u001B[38;5;21;01merr\u001B[39;00m\n\u001B[0;32m   3656\u001B[0m \u001B[38;5;28;01mexcept\u001B[39;00m \u001B[38;5;167;01mTypeError\u001B[39;00m:\n\u001B[0;32m   3657\u001B[0m     \u001B[38;5;66;03m# If we have a listlike key, _check_indexing_error will raise\u001B[39;00m\n\u001B[0;32m   3658\u001B[0m     \u001B[38;5;66;03m#  InvalidIndexError. Otherwise we fall through and re-raise\u001B[39;00m\n\u001B[0;32m   3659\u001B[0m     \u001B[38;5;66;03m#  the TypeError.\u001B[39;00m\n\u001B[0;32m   3660\u001B[0m     \u001B[38;5;28mself\u001B[39m\u001B[38;5;241m.\u001B[39m_check_indexing_error(key)\n",
      "\u001B[1;31mKeyError\u001B[0m: 'date_forcast'"
     ]
    }
   ],
   "source": [
    "df_train[\"date_forcast\"] = pd.to_datetime(df_train[\"date_forcast\"])\n",
    "df_test[\"date_forcast\"] = pd.to_datetime(df_test[\"date_forcast\"])\n",
    "train = df_train.set_index(\"date_forcast\")\n",
    "test = df_test.set_index(\"date_forcast\")\n",
    "\n",
    "df_train[\"meantemp\"].plot(style=\"k\", figsize=(10, 5), label=\"train\")\n",
    "df_test[\"meantemp\"].plot(style=\"b\", figsize=(10, 5), label=\"test\")\n",
    "plt.title(\"Mean Temperature Dehli Data\")\n",
    "plt.legend()"
   ],
   "metadata": {
    "collapsed": false,
    "ExecuteTime": {
     "end_time": "2023-09-27T18:02:58.390450100Z",
     "start_time": "2023-09-27T18:02:58.248114Z"
    }
   },
   "id": "95d5fc8d651cc2cb"
  }
 ],
 "metadata": {
  "kernelspec": {
   "display_name": "Python 3",
   "language": "python",
   "name": "python3"
  },
  "language_info": {
   "codemirror_mode": {
    "name": "ipython",
    "version": 2
   },
   "file_extension": ".py",
   "mimetype": "text/x-python",
   "name": "python",
   "nbconvert_exporter": "python",
   "pygments_lexer": "ipython2",
   "version": "2.7.6"
  }
 },
 "nbformat": 4,
 "nbformat_minor": 5
}
