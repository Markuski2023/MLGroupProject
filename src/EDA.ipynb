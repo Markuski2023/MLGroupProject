{
 "cells": [
  {
   "cell_type": "code",
   "execution_count": 1,
   "id": "initial_id",
   "metadata": {
    "collapsed": true,
    "ExecuteTime": {
     "end_time": "2023-10-01T11:21:11.599170800Z",
     "start_time": "2023-10-01T11:21:11.572105600Z"
    }
   },
   "outputs": [],
   "source": [
    "import pandas as pd\n",
    "import matplotlib.pyplot as plt\n",
    "import seaborn as sns\n",
    "import os"
   ]
  },
  {
   "cell_type": "code",
   "execution_count": 2,
   "outputs": [],
   "source": [
    "# df = pd.read_parquet('C:/Users\\marku\\Desktop\\MLGroupProject\\src\\data\\A\\X_train_observed.parquet')\n",
    "# \n",
    "# df.to_csv('X_train_observed.csv', index=False)"
   ],
   "metadata": {
    "collapsed": false,
    "ExecuteTime": {
     "end_time": "2023-10-01T11:21:14.311611500Z",
     "start_time": "2023-10-01T11:21:11.584273700Z"
    }
   },
   "id": "5b63465f6108af78"
  },
  {
   "cell_type": "code",
   "execution_count": 3,
   "outputs": [],
   "source": [
    "train_targets = pd.read_csv('train_targets.csv', parse_dates=True, index_col='time')\n",
    "X_test_estimated = pd.read_csv('X_test_estimated.csv', parse_dates=True)\n",
    "X_train_estimated = pd.read_csv('X_train_estimated.csv', parse_dates=True)\n",
    "X_train_observed = pd.read_csv('X_train_observed.csv', parse_dates=True)"
   ],
   "metadata": {
    "collapsed": false,
    "ExecuteTime": {
     "end_time": "2023-10-01T11:21:14.810527300Z",
     "start_time": "2023-10-01T11:21:14.315298800Z"
    }
   },
   "id": "f56c390ae35f6f82"
  },
  {
   "cell_type": "code",
   "execution_count": 4,
   "outputs": [],
   "source": [
    "# Define a function to filter rows where date_forecast is not a whole hour\n",
    "def filter_whole_hour_rows(df, date_forecast_col='date_forecast'):\n",
    "    # Parse date_forecast column to datetime\n",
    "    df[date_forecast_col] = pd.to_datetime(df[date_forecast_col])\n",
    "    # Filter rows where date_forecast is a whole hour\n",
    "    df_filtered = df[df[date_forecast_col].dt.minute == 0]\n",
    "    return df_filtered\n",
    "\n",
    "# Apply the filter to the datasets\n",
    "X_test_estimated = filter_whole_hour_rows(X_test_estimated)\n",
    "X_train_estimated = filter_whole_hour_rows(X_train_estimated)\n",
    "X_train_observed = filter_whole_hour_rows(X_train_observed)"
   ],
   "metadata": {
    "collapsed": false,
    "ExecuteTime": {
     "end_time": "2023-10-01T11:21:14.919715200Z",
     "start_time": "2023-10-01T11:21:14.812530Z"
    }
   },
   "id": "57f288075c4ef1a1"
  },
  {
   "cell_type": "code",
   "execution_count": 5,
   "outputs": [
    {
     "data": {
      "text/plain": "date_forecast                         0\nabsolute_humidity_2m:gm3              0\nair_density_2m:kgm3                   0\nceiling_height_agl:m               6637\nclear_sky_energy_1h:J                 0\nclear_sky_rad:W                       0\ncloud_base_agl:m                   2458\ndew_or_rime:idx                       0\ndew_point_2m:K                        0\ndiffuse_rad:W                         0\ndiffuse_rad_1h:J                      0\ndirect_rad:W                          0\ndirect_rad_1h:J                       0\neffective_cloud_cover:p               0\nelevation:m                           0\nfresh_snow_12h:cm                     0\nfresh_snow_1h:cm                      0\nfresh_snow_24h:cm                     0\nfresh_snow_3h:cm                      0\nfresh_snow_6h:cm                      0\nis_day:idx                            0\nis_in_shadow:idx                      0\nmsl_pressure:hPa                      0\nprecip_5min:mm                        0\nprecip_type_5min:idx                  0\npressure_100m:hPa                     0\npressure_50m:hPa                      0\nprob_rime:p                           0\nrain_water:kgm2                       0\nrelative_humidity_1000hPa:p           0\nsfc_pressure:hPa                      0\nsnow_density:kgm3                 28985\nsnow_depth:cm                         0\nsnow_drift:idx                        0\nsnow_melt_10min:mm                    0\nsnow_water:kgm2                       0\nsun_azimuth:d                         0\nsun_elevation:d                       0\nsuper_cooled_liquid_water:kgm2        0\nt_1000hPa:K                           0\ntotal_cloud_cover:p                   0\nvisibility:m                          0\nwind_speed_10m:ms                     0\nwind_speed_u_10m:ms                   0\nwind_speed_v_10m:ms                   0\nwind_speed_w_1000hPa:ms               0\ndtype: int64"
     },
     "execution_count": 5,
     "metadata": {},
     "output_type": "execute_result"
    }
   ],
   "source": [
    "X_train_observed.isnull().sum()"
   ],
   "metadata": {
    "collapsed": false,
    "ExecuteTime": {
     "end_time": "2023-10-01T11:21:14.980654700Z",
     "start_time": "2023-10-01T11:21:14.920716900Z"
    }
   },
   "id": "6b1ba6b27407c1a9"
  },
  {
   "cell_type": "code",
   "execution_count": 6,
   "outputs": [
    {
     "data": {
      "text/plain": "date_calc                            0\ndate_forecast                        0\nabsolute_humidity_2m:gm3             0\nair_density_2m:kgm3                  0\nceiling_height_agl:m              1141\nclear_sky_energy_1h:J                0\nclear_sky_rad:W                      0\ncloud_base_agl:m                   606\ndew_or_rime:idx                      0\ndew_point_2m:K                       0\ndiffuse_rad:W                        0\ndiffuse_rad_1h:J                     0\ndirect_rad:W                         0\ndirect_rad_1h:J                      0\neffective_cloud_cover:p              0\nelevation:m                          0\nfresh_snow_12h:cm                    0\nfresh_snow_1h:cm                     0\nfresh_snow_24h:cm                    0\nfresh_snow_3h:cm                     0\nfresh_snow_6h:cm                     0\nis_day:idx                           0\nis_in_shadow:idx                     0\nmsl_pressure:hPa                     0\nprecip_5min:mm                       0\nprecip_type_5min:idx                 0\npressure_100m:hPa                    0\npressure_50m:hPa                     0\nprob_rime:p                          0\nrain_water:kgm2                      0\nrelative_humidity_1000hPa:p          0\nsfc_pressure:hPa                     0\nsnow_density:kgm3                 3942\nsnow_depth:cm                        0\nsnow_drift:idx                       0\nsnow_melt_10min:mm                   0\nsnow_water:kgm2                      0\nsun_azimuth:d                        0\nsun_elevation:d                      0\nsuper_cooled_liquid_water:kgm2       0\nt_1000hPa:K                          0\ntotal_cloud_cover:p                  0\nvisibility:m                         0\nwind_speed_10m:ms                    0\nwind_speed_u_10m:ms                  0\nwind_speed_v_10m:ms                  0\nwind_speed_w_1000hPa:ms              0\ndtype: int64"
     },
     "execution_count": 6,
     "metadata": {},
     "output_type": "execute_result"
    }
   ],
   "source": [
    "X_train_estimated.isnull().sum()"
   ],
   "metadata": {
    "collapsed": false,
    "ExecuteTime": {
     "end_time": "2023-10-01T11:21:15.038130500Z",
     "start_time": "2023-10-01T11:21:14.934818100Z"
    }
   },
   "id": "541f5fb164323891"
  },
  {
   "cell_type": "code",
   "execution_count": 7,
   "outputs": [
    {
     "data": {
      "text/plain": "date_calc                           0\ndate_forecast                       0\nabsolute_humidity_2m:gm3            0\nair_density_2m:kgm3                 0\nceiling_height_agl:m              229\nclear_sky_energy_1h:J               0\nclear_sky_rad:W                     0\ncloud_base_agl:m                   88\ndew_or_rime:idx                     0\ndew_point_2m:K                      0\ndiffuse_rad:W                       0\ndiffuse_rad_1h:J                    0\ndirect_rad:W                        0\ndirect_rad_1h:J                     0\neffective_cloud_cover:p             0\nelevation:m                         0\nfresh_snow_12h:cm                   0\nfresh_snow_1h:cm                    0\nfresh_snow_24h:cm                   0\nfresh_snow_3h:cm                    0\nfresh_snow_6h:cm                    0\nis_day:idx                          0\nis_in_shadow:idx                    0\nmsl_pressure:hPa                    0\nprecip_5min:mm                      0\nprecip_type_5min:idx                0\npressure_100m:hPa                   0\npressure_50m:hPa                    0\nprob_rime:p                         0\nrain_water:kgm2                     0\nrelative_humidity_1000hPa:p         0\nsfc_pressure:hPa                    0\nsnow_density:kgm3                 720\nsnow_depth:cm                       0\nsnow_drift:idx                      0\nsnow_melt_10min:mm                  0\nsnow_water:kgm2                     0\nsun_azimuth:d                       0\nsun_elevation:d                     0\nsuper_cooled_liquid_water:kgm2      0\nt_1000hPa:K                         0\ntotal_cloud_cover:p                 0\nvisibility:m                        0\nwind_speed_10m:ms                   0\nwind_speed_u_10m:ms                 0\nwind_speed_v_10m:ms                 0\nwind_speed_w_1000hPa:ms             0\ndtype: int64"
     },
     "execution_count": 7,
     "metadata": {},
     "output_type": "execute_result"
    }
   ],
   "source": [
    "X_test_estimated.isnull().sum()"
   ],
   "metadata": {
    "collapsed": false,
    "ExecuteTime": {
     "end_time": "2023-10-01T11:21:15.039010300Z",
     "start_time": "2023-10-01T11:21:14.949970100Z"
    }
   },
   "id": "d9c6e11f95baedf4"
  },
  {
   "cell_type": "code",
   "execution_count": 8,
   "outputs": [
    {
     "data": {
      "text/plain": "pv_measurement    0\ndtype: int64"
     },
     "execution_count": 8,
     "metadata": {},
     "output_type": "execute_result"
    }
   ],
   "source": [
    "train_targets.isnull().sum()"
   ],
   "metadata": {
    "collapsed": false,
    "ExecuteTime": {
     "end_time": "2023-10-01T11:21:15.040110600Z",
     "start_time": "2023-10-01T11:21:14.968510600Z"
    }
   },
   "id": "8b047c0ebe85b234"
  },
  {
   "cell_type": "code",
   "execution_count": 9,
   "outputs": [],
   "source": [
    "def fill_missing_values(df):\n",
    "    # Fill missing values in 'snow_density:kgm3' with 0\n",
    "    df['snow_density:kgm3'].fillna(0, inplace=True)\n",
    "\n",
    "    # Use forward-fill to fill missing values in 'ceiling_height_agl:m' and 'cloud_base_agl:m'\n",
    "    df['ceiling_height_agl:m'].fillna(method='ffill', inplace=True)\n",
    "    df['cloud_base_agl:m'].fillna(method='ffill', inplace=True)\n",
    "\n",
    "    # Use backward-fill for any remaining missing values in 'ceiling_height_agl:m' and 'cloud_base_agl:m'\n",
    "    df['ceiling_height_agl:m'].fillna(method='bfill', inplace=True)\n",
    "    df['cloud_base_agl:m'].fillna(method='bfill', inplace=True)\n",
    "\n",
    "\n",
    "# Apply the fill_missing_values function to the datasets\n",
    "fill_missing_values(X_test_estimated)\n",
    "fill_missing_values(X_train_estimated)\n",
    "fill_missing_values(X_train_observed)"
   ],
   "metadata": {
    "collapsed": false,
    "ExecuteTime": {
     "end_time": "2023-10-01T11:21:15.040110600Z",
     "start_time": "2023-10-01T11:21:14.985644100Z"
    }
   },
   "id": "9101f98ff96c88d9"
  },
  {
   "cell_type": "code",
   "execution_count": 9,
   "outputs": [],
   "source": [],
   "metadata": {
    "collapsed": false,
    "ExecuteTime": {
     "end_time": "2023-10-01T11:21:15.040110600Z",
     "start_time": "2023-10-01T11:21:15.000508500Z"
    }
   },
   "id": "49b7c8c86b8bc2d9"
  }
 ],
 "metadata": {
  "kernelspec": {
   "display_name": "Python 3",
   "language": "python",
   "name": "python3"
  },
  "language_info": {
   "codemirror_mode": {
    "name": "ipython",
    "version": 2
   },
   "file_extension": ".py",
   "mimetype": "text/x-python",
   "name": "python",
   "nbconvert_exporter": "python",
   "pygments_lexer": "ipython2",
   "version": "2.7.6"
  }
 },
 "nbformat": 4,
 "nbformat_minor": 5
}
