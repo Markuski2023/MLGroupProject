{
 "cells": [
  {
   "cell_type": "code",
   "execution_count": 13,
   "id": "initial_id",
   "metadata": {
    "collapsed": true,
    "ExecuteTime": {
     "end_time": "2023-10-25T12:12:37.724761300Z",
     "start_time": "2023-10-25T12:12:37.716760200Z"
    }
   },
   "outputs": [],
   "source": [
    "import pandas as pd"
   ]
  },
  {
   "cell_type": "code",
   "execution_count": 14,
   "outputs": [],
   "source": [
    "df_a = pd.read_csv('result_a.csv')\n",
    "df_b = pd.read_csv('result_b.csv')\n",
    "df_c = pd.read_csv('result_c.csv')"
   ],
   "metadata": {
    "collapsed": false,
    "ExecuteTime": {
     "end_time": "2023-10-25T12:12:37.747426300Z",
     "start_time": "2023-10-25T12:12:37.725817500Z"
    }
   },
   "id": "6347e838c51d2c0d"
  },
  {
   "cell_type": "code",
   "execution_count": 15,
   "outputs": [],
   "source": [
    "def combine_dataframes(df1, df2, df3):\n",
    "    # Concatenate the dataframes in the specified order\n",
    "    combined = pd.concat([df1, df2, df3], ignore_index=True)\n",
    "\n",
    "    # Rename the 'index' column to 'id'\n",
    "    combined.rename(columns={'index': 'id'}, inplace=True)\n",
    "\n",
    "    # Ensure the 'id' values range from 0 to 'x'\n",
    "    combined['id'] = range(len(combined))\n",
    "\n",
    "    return combined\n",
    "\n",
    "df = combine_dataframes(df_a, df_b, df_c)"
   ],
   "metadata": {
    "collapsed": false,
    "ExecuteTime": {
     "end_time": "2023-10-25T12:12:37.755425300Z",
     "start_time": "2023-10-25T12:12:37.744426500Z"
    }
   },
   "id": "13ba3fc59b4751b3"
  },
  {
   "cell_type": "code",
   "execution_count": 16,
   "outputs": [],
   "source": [
    "df.to_csv('result.csv', index=False)"
   ],
   "metadata": {
    "collapsed": false,
    "ExecuteTime": {
     "end_time": "2023-10-25T12:12:37.776444500Z",
     "start_time": "2023-10-25T12:12:37.756427700Z"
    }
   },
   "id": "f7472590630b814c"
  }
 ],
 "metadata": {
  "kernelspec": {
   "display_name": "Python 3",
   "language": "python",
   "name": "python3"
  },
  "language_info": {
   "codemirror_mode": {
    "name": "ipython",
    "version": 2
   },
   "file_extension": ".py",
   "mimetype": "text/x-python",
   "name": "python",
   "nbconvert_exporter": "python",
   "pygments_lexer": "ipython2",
   "version": "2.7.6"
  }
 },
 "nbformat": 4,
 "nbformat_minor": 5
}
