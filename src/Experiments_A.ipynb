{
 "cells": [
  {
   "cell_type": "code",
   "execution_count": 14,
   "id": "initial_id",
   "metadata": {
    "collapsed": true,
    "ExecuteTime": {
     "end_time": "2023-10-19T18:37:20.865713100Z",
     "start_time": "2023-10-19T18:37:20.704719700Z"
    }
   },
   "outputs": [],
   "source": [
    "import os\n",
    "import pandas as pd\n",
    "import numpy as np\n",
    "import matplotlib.pylab as plt\n",
    "from scipy.spatial import distance\n",
    "%matplotlib inline\n",
    "import xgboost as xgb\n",
    "from sklearn.metrics import mean_absolute_error\n",
    "from sklearn.impute import SimpleImputer\n",
    "import optuna\n",
    "from sklearn.feature_selection import RFE"
   ]
  },
  {
   "cell_type": "code",
   "execution_count": 15,
   "outputs": [],
   "source": [
    "train_a = pd.read_parquet('./data/A/train_targets.parquet')\n",
    "train_b = pd.read_parquet('./data/B/train_targets.parquet')\n",
    "train_c = pd.read_parquet('./data/C/train_targets.parquet')\n",
    "\n",
    "X_train_estimated_a = pd.read_parquet('./data/A/X_train_estimated.parquet')\n",
    "X_train_estimated_b = pd.read_parquet('./data/B/X_train_estimated.parquet')\n",
    "X_train_estimated_c = pd.read_parquet('./data/C/X_train_estimated.parquet')\n",
    "\n",
    "X_train_observed_a = pd.read_parquet('./data/A/X_train_observed.parquet')\n",
    "X_train_observed_b = pd.read_parquet('./data/B/X_train_observed.parquet')\n",
    "X_train_observed_c = pd.read_parquet('./data/C/X_train_observed.parquet')\n",
    "\n",
    "X_test_estimated_a = pd.read_parquet('./data/A/X_test_estimated.parquet')\n",
    "X_test_estimated_b = pd.read_parquet('./data/B/X_test_estimated.parquet')\n",
    "X_test_estimated_c = pd.read_parquet('./data/C/X_test_estimated.parquet')\n",
    "\n",
    "X_test_estimated_a['date_forecast'] = pd.to_datetime(X_test_estimated_a['date_forecast'])\n",
    "X_test_estimated_a = X_test_estimated_a[X_test_estimated_a['date_forecast'].dt.minute == 0]\n",
    "\n",
    "imputer = SimpleImputer(strategy='most_frequent')\n",
    "X_test_estimated_a[['ceiling_height_agl:m', 'cloud_base_agl:m']] = imputer.fit_transform(X_test_estimated_a[['ceiling_height_agl:m', 'cloud_base_agl:m']])"
   ],
   "metadata": {
    "collapsed": false,
    "ExecuteTime": {
     "end_time": "2023-10-19T18:37:20.945032600Z",
     "start_time": "2023-10-19T18:37:20.711848600Z"
    }
   },
   "id": "63a246cadddd26de"
  },
  {
   "cell_type": "code",
   "execution_count": 16,
   "outputs": [],
   "source": [
    "df = pd.concat([X_train_observed_a, X_train_estimated_b])"
   ],
   "metadata": {
    "collapsed": false,
    "ExecuteTime": {
     "end_time": "2023-10-19T18:37:20.945032600Z",
     "start_time": "2023-10-19T18:37:20.844886900Z"
    }
   },
   "id": "1ae51cd7ca900d60"
  },
  {
   "cell_type": "code",
   "execution_count": 17,
   "outputs": [],
   "source": [
    "def remove_highly_correlated_features(df, threshold):\n",
    "    # Compute the Pearson correlation matrix\n",
    "    correlation_matrix = df.corr(method='pearson')\n",
    "\n",
    "    # Initialize an empty list to hold features to be removed\n",
    "    features_to_remove = []\n",
    "\n",
    "    # Traverse the correlation matrix to find highly correlated features\n",
    "    for i in range(len(correlation_matrix.columns)):\n",
    "        for j in range(i+1, len(correlation_matrix.columns)):\n",
    "            feature1 = correlation_matrix.columns[i]\n",
    "            feature2 = correlation_matrix.columns[j]\n",
    "\n",
    "            # Check for high absolute correlation\n",
    "            if abs(correlation_matrix.iloc[i, j]) > threshold:\n",
    "                # Add one of the features to the list if it's not already there\n",
    "                if feature1 not in features_to_remove and feature2 not in features_to_remove:\n",
    "                    features_to_remove.append(feature1)\n",
    "\n",
    "    # Drop the identified features from the DataFrame\n",
    "    filtered_df = df.drop(columns=features_to_remove)\n",
    "\n",
    "    return filtered_df\n",
    "\n",
    "# Example usage\n",
    "threshold = 0.98\n",
    "df = remove_highly_correlated_features(df, threshold)"
   ],
   "metadata": {
    "collapsed": false,
    "ExecuteTime": {
     "end_time": "2023-10-19T18:37:21.361240300Z",
     "start_time": "2023-10-19T18:37:20.856712600Z"
    }
   },
   "id": "238d1a3d9982203f"
  },
  {
   "cell_type": "code",
   "execution_count": 18,
   "outputs": [],
   "source": [
    "df = pd.merge(df, train_a, left_on='date_forecast', right_on='time', how='inner')\n",
    "df = df.drop(columns=['date_forecast', 'date_calc', 'snow_density:kgm3', 'snow_drift:idx', 'diffuse_rad_1h:J', 'fresh_snow_1h:cm', 'fresh_snow_3h:cm', 'fresh_snow_6h:cm', 'fresh_snow_24h:cm'])\n",
    "\n",
    "imputer = SimpleImputer(strategy='most_frequent')\n",
    "df[['ceiling_height_agl:m', 'cloud_base_agl:m']] = imputer.fit_transform(df[['ceiling_height_agl:m', 'cloud_base_agl:m']])"
   ],
   "metadata": {
    "collapsed": false,
    "ExecuteTime": {
     "end_time": "2023-10-19T18:37:21.410630800Z",
     "start_time": "2023-10-19T18:37:21.363240300Z"
    }
   },
   "id": "378da07648336c4"
  },
  {
   "cell_type": "code",
   "execution_count": 19,
   "outputs": [],
   "source": [
    "# Define the split date\n",
    "split_date = '2022-10-27'\n",
    "\n",
    "# Convert the 'time' column to a datetime object\n",
    "df['time'] = pd.to_datetime(df['time'])\n",
    "\n",
    "# Sorting the data by the 'time' column to maintain chronological order\n",
    "df.sort_values('time', inplace=True)\n",
    "\n",
    "# Splitting the data into training and test sets based on the split date\n",
    "train_df = df[df['time'] < split_date]\n",
    "test_df = df[df['time'] >= split_date]\n",
    "\n",
    "# Identifying the features and the target variable\n",
    "X_train = train_df.drop(columns=['pv_measurement', 'time'])\n",
    "y_train = train_df['pv_measurement']\n",
    "X_test = test_df.drop(columns=['pv_measurement', 'time'])\n",
    "y_test = test_df['pv_measurement']"
   ],
   "metadata": {
    "collapsed": false,
    "ExecuteTime": {
     "end_time": "2023-10-19T18:37:21.445228500Z",
     "start_time": "2023-10-19T18:37:21.405634500Z"
    }
   },
   "id": "c2b40f61be5db9bd"
  },
  {
   "cell_type": "code",
   "execution_count": 20,
   "outputs": [],
   "source": [
    "# xgb_model = xgb.XGBRegressor()\n",
    "# # Create RFE model and select the top 10 features\n",
    "# rfe = RFE(xgb_model, n_features_to_select=20)\n",
    "# fit = rfe.fit(X_train, y_train)\n",
    "# \n",
    "# selected_columns = X_train.columns[rfe.support_]\n",
    "# \n",
    "# # Train and test using only selected features\n",
    "# X_train = rfe.transform(X_train)\n",
    "# X_test = rfe.transform(X_test)\n",
    "# \n",
    "# xgb_model.fit(X_train, y_train)\n",
    "# y_pred = xgb_model.predict(X_test)\n",
    "# y_pred = np.maximum(y_pred, 0)\n",
    "# mae = mean_absolute_error(y_test, y_pred)\n",
    "# mae"
   ],
   "metadata": {
    "collapsed": false,
    "ExecuteTime": {
     "end_time": "2023-10-19T18:37:21.452225500Z",
     "start_time": "2023-10-19T18:37:21.437292900Z"
    }
   },
   "id": "d27efcc7467a0f79"
  },
  {
   "cell_type": "code",
   "execution_count": 21,
   "outputs": [
    {
     "data": {
      "text/plain": "128.25668432112474"
     },
     "execution_count": 21,
     "metadata": {},
     "output_type": "execute_result"
    }
   ],
   "source": [
    "xgb_model = xgb.XGBRegressor()\n",
    "xgb_model.fit(X_train, y_train)\n",
    "\n",
    "# Make predictions on the test set\n",
    "y_pred = xgb_model.predict(X_test)\n",
    "y_pred = np.maximum(y_pred, 0)\n",
    "# Calculate MAE on the test set\n",
    "mae = mean_absolute_error(y_test, y_pred)\n",
    "mae"
   ],
   "metadata": {
    "collapsed": false,
    "ExecuteTime": {
     "end_time": "2023-10-19T18:37:24.161667800Z",
     "start_time": "2023-10-19T18:37:21.441224300Z"
    }
   },
   "id": "37074d55d16f5c5d"
  },
  {
   "cell_type": "code",
   "execution_count": 22,
   "outputs": [],
   "source": [
    "def objective(trial):\n",
    "    params = {\n",
    "        \"objective\": \"reg:squarederror\",\n",
    "        \"n_estimators\": 1000,\n",
    "        \"verbosity\": 0,\n",
    "        \"learning_rate\": trial.suggest_float(\"learning_rate\", 1e-3, 0.1, log=True),\n",
    "        \"max_depth\": trial.suggest_int(\"max_depth\", 1, 10),\n",
    "        \"subsample\": trial.suggest_float(\"subsample\", 0.05, 1.0),\n",
    "        \"colsample_bytree\": trial.suggest_float(\"colsample_bytree\", 0.05, 1.0),\n",
    "        \"min_child_weight\": trial.suggest_int(\"min_child_weight\", 1, 20),\n",
    "    }\n",
    "\n",
    "    model = xgb.XGBRegressor(**params)\n",
    "    model.fit(X_train, y_train, verbose=False)\n",
    "    predictions = model.predict(X_test)\n",
    "    mae = mean_absolute_error(y_test, predictions)\n",
    "    return mae"
   ],
   "metadata": {
    "collapsed": false,
    "ExecuteTime": {
     "end_time": "2023-10-19T18:37:24.191978800Z",
     "start_time": "2023-10-19T18:37:24.161667800Z"
    }
   },
   "id": "a960e52164051277"
  },
  {
   "cell_type": "code",
   "execution_count": null,
   "outputs": [
    {
     "name": "stderr",
     "output_type": "stream",
     "text": [
      "[I 2023-10-19 20:37:24,181] A new study created in memory with name: no-name-2e3b5d1b-c9af-47a6-a32f-ef07cee11699\n",
      "[I 2023-10-19 20:37:54,823] Trial 0 finished with value: 123.72761342679104 and parameters: {'learning_rate': 0.003861220114813485, 'max_depth': 10, 'subsample': 0.2290239271209744, 'colsample_bytree': 0.9187815102498904, 'min_child_weight': 2}. Best is trial 0 with value: 123.72761342679104.\n",
      "[I 2023-10-19 20:38:06,260] Trial 1 finished with value: 147.40877115203085 and parameters: {'learning_rate': 0.0409679428065436, 'max_depth': 6, 'subsample': 0.14188982050809595, 'colsample_bytree': 0.2969461361195008, 'min_child_weight': 11}. Best is trial 0 with value: 123.72761342679104.\n",
      "[I 2023-10-19 20:38:19,288] Trial 2 finished with value: 136.05279561456652 and parameters: {'learning_rate': 0.03751499260109972, 'max_depth': 4, 'subsample': 0.4208229550224095, 'colsample_bytree': 0.7525800042529615, 'min_child_weight': 9}. Best is trial 0 with value: 123.72761342679104.\n",
      "[I 2023-10-19 20:38:34,560] Trial 3 finished with value: 136.1828816459455 and parameters: {'learning_rate': 0.0021794643991362534, 'max_depth': 6, 'subsample': 0.31885434084249736, 'colsample_bytree': 0.9074547153504199, 'min_child_weight': 2}. Best is trial 0 with value: 123.72761342679104.\n",
      "[I 2023-10-19 20:38:45,779] Trial 4 finished with value: 123.98878880041366 and parameters: {'learning_rate': 0.009951963801878032, 'max_depth': 6, 'subsample': 0.6864668861107033, 'colsample_bytree': 0.5715688446545488, 'min_child_weight': 14}. Best is trial 0 with value: 123.72761342679104.\n",
      "[I 2023-10-19 20:39:07,646] Trial 5 finished with value: 116.47321406580166 and parameters: {'learning_rate': 0.01210070651939088, 'max_depth': 9, 'subsample': 0.4684091169823354, 'colsample_bytree': 0.9724942092699471, 'min_child_weight': 12}. Best is trial 5 with value: 116.47321406580166.\n",
      "[I 2023-10-19 20:39:15,579] Trial 6 finished with value: 155.7106446046826 and parameters: {'learning_rate': 0.06156999790471825, 'max_depth': 3, 'subsample': 0.5829239129618703, 'colsample_bytree': 0.28492964260502307, 'min_child_weight': 15}. Best is trial 5 with value: 116.47321406580166.\n",
      "[I 2023-10-19 20:39:21,586] Trial 7 finished with value: 202.2923995536422 and parameters: {'learning_rate': 0.06577816682989807, 'max_depth': 2, 'subsample': 0.3530393719517307, 'colsample_bytree': 0.10978149805958172, 'min_child_weight': 19}. Best is trial 5 with value: 116.47321406580166.\n",
      "[I 2023-10-19 20:39:43,280] Trial 8 finished with value: 182.7667280963172 and parameters: {'learning_rate': 0.0029600222590850456, 'max_depth': 10, 'subsample': 0.48640258791192376, 'colsample_bytree': 0.22080090185412804, 'min_child_weight': 6}. Best is trial 5 with value: 116.47321406580166.\n",
      "[I 2023-10-19 20:40:01,297] Trial 9 finished with value: 126.6060661015394 and parameters: {'learning_rate': 0.008968406689448363, 'max_depth': 5, 'subsample': 0.5747175009004369, 'colsample_bytree': 0.7871047714719059, 'min_child_weight': 11}. Best is trial 5 with value: 116.47321406580166.\n",
      "[I 2023-10-19 20:40:39,446] Trial 10 finished with value: 165.89410868105423 and parameters: {'learning_rate': 0.001048135746509044, 'max_depth': 8, 'subsample': 0.9431474436394117, 'colsample_bytree': 0.9977658301320584, 'min_child_weight': 20}. Best is trial 5 with value: 116.47321406580166.\n",
      "[I 2023-10-19 20:41:01,795] Trial 11 finished with value: 128.95230620702097 and parameters: {'learning_rate': 0.005729257007102401, 'max_depth': 10, 'subsample': 0.05968806203910976, 'colsample_bytree': 0.9971209944360434, 'min_child_weight': 1}. Best is trial 5 with value: 116.47321406580166.\n"
     ]
    }
   ],
   "source": [
    "study = optuna.create_study(direction='minimize')\n",
    "study.optimize(objective, n_trials=50)"
   ],
   "metadata": {
    "collapsed": false,
    "is_executing": true,
    "ExecuteTime": {
     "start_time": "2023-10-19T18:37:24.170951500Z"
    }
   },
   "id": "ac5b428574c66e32"
  },
  {
   "cell_type": "code",
   "execution_count": null,
   "outputs": [],
   "source": [
    "study.best_params"
   ],
   "metadata": {
    "collapsed": false,
    "is_executing": true
   },
   "id": "e2aa17ef9cf292cf"
  },
  {
   "cell_type": "code",
   "execution_count": null,
   "outputs": [],
   "source": [
    "X_test_estimated_a = X_test_estimated_a.drop(columns=['date_forecast', 'date_calc', 'snow_density:kgm3', 'snow_drift:idx', 'diffuse_rad_1h:J', 'fresh_snow_1h:cm', 'fresh_snow_3h:cm', 'fresh_snow_6h:cm', 'fresh_snow_24h:cm'])\n",
    "\n",
    "\n",
    "df['time'] = pd.to_datetime(df['time'])\n",
    "df.sort_values('time', inplace=True)\n",
    "train_df = df\n",
    "X_train = train_df\n",
    "y_train = df['pv_measurement']\n",
    "\n",
    "xgb_model = xgb.XGBRegressor(\n",
    "    learning_rate = 0.006827,\n",
    "    max_depth = 9,\n",
    "    subsample = 0.72558,\n",
    "    colsample_bytree = 0.9398,\n",
    "    min_child_weight = 17,\n",
    "    n_estimators = 1000\n",
    ")\n",
    "\n",
    "xgb_model.fit(X_train, y_train)\n",
    "\n",
    "# Make predictions on the test set\n",
    "y_pred = xgb_model.predict(X_test_estimated_a)\n",
    "y_pred = np.maximum(y_pred, 0)"
   ],
   "metadata": {
    "collapsed": false,
    "is_executing": true
   },
   "id": "113b2fa8eea73cd8"
  },
  {
   "cell_type": "code",
   "execution_count": null,
   "outputs": [],
   "source": [
    "df = pd.DataFrame(y_pred)\n",
    "df.to_csv('result_a.csv')"
   ],
   "metadata": {
    "collapsed": false,
    "is_executing": true
   },
   "id": "7247080f44a634fa"
  },
  {
   "cell_type": "code",
   "execution_count": null,
   "outputs": [],
   "source": [],
   "metadata": {
    "collapsed": false,
    "is_executing": true
   },
   "id": "2c9b29967a61a4e2"
  }
 ],
 "metadata": {
  "kernelspec": {
   "display_name": "Python 3",
   "language": "python",
   "name": "python3"
  },
  "language_info": {
   "codemirror_mode": {
    "name": "ipython",
    "version": 2
   },
   "file_extension": ".py",
   "mimetype": "text/x-python",
   "name": "python",
   "nbconvert_exporter": "python",
   "pygments_lexer": "ipython2",
   "version": "2.7.6"
  }
 },
 "nbformat": 4,
 "nbformat_minor": 5
}
