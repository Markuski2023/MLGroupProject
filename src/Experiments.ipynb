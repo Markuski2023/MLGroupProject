{
 "cells": [
  {
   "cell_type": "code",
   "execution_count": 36,
   "outputs": [],
   "source": [
    "from sklearn.feature_selection import mutual_info_regression\n",
    "import xgboost as xgb\n",
    "import matplotlib.pyplot as plt\n",
    "import pandas as pd\n",
    "import seaborn as sns\n",
    "from sklearn.feature_selection import f_regression"
   ],
   "metadata": {
    "collapsed": false,
    "ExecuteTime": {
     "end_time": "2023-10-03T10:16:28.686903400Z",
     "start_time": "2023-10-03T10:16:28.632847900Z"
    }
   },
   "id": "606d191f30ff102a"
  },
  {
   "cell_type": "code",
   "execution_count": 37,
   "outputs": [],
   "source": [
    "train_targets = pd.read_csv('train_targets.csv')\n",
    "X_test_estimated = pd.read_csv('X_test_estimated.csv')\n",
    "X_train_estimated = pd.read_csv('X_train_estimated.csv')\n",
    "X_train_observed = pd.read_csv('X_train_observed.csv')"
   ],
   "metadata": {
    "collapsed": false,
    "ExecuteTime": {
     "end_time": "2023-10-03T10:16:28.785438100Z",
     "start_time": "2023-10-03T10:16:28.684903Z"
    }
   },
   "id": "5e982ee359b877d"
  }
 ],
 "metadata": {
  "kernelspec": {
   "display_name": "Python 3",
   "language": "python",
   "name": "python3"
  },
  "language_info": {
   "codemirror_mode": {
    "name": "ipython",
    "version": 2
   },
   "file_extension": ".py",
   "mimetype": "text/x-python",
   "name": "python",
   "nbconvert_exporter": "python",
   "pygments_lexer": "ipython2",
   "version": "2.7.6"
  }
 },
 "nbformat": 4,
 "nbformat_minor": 5
}
