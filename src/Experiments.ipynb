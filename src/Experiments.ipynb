{
 "cells": [
  {
   "cell_type": "code",
   "execution_count": 4,
   "outputs": [],
   "source": [
    "import pandas as pd\n",
    "import matplotlib.pyplot as plt\n",
    "from sklearn.impute import SimpleImputer\n",
    "from scipy import stats\n",
    "import numpy as np\n",
    "import seaborn as sns\n",
    "import xgboost as xgb\n",
    "from sklearn.feature_selection import mutual_info_regression\n",
    "from sklearn.feature_selection import f_regression\n",
    "from sklearn.feature_selection import RFE\n",
    "# from tsfresh import \n",
    "from sklearn.metrics import mean_squared_error"
   ],
   "metadata": {
    "collapsed": false,
    "ExecuteTime": {
     "end_time": "2023-10-03T19:05:03.824430900Z",
     "start_time": "2023-10-03T19:05:03.807431600Z"
    }
   },
   "id": "606d191f30ff102a"
  },
  {
   "cell_type": "code",
   "execution_count": 5,
   "outputs": [],
   "source": [
    "train_targets = pd.read_parquet('./data/A/train_targets.parquet')\n",
    "X_test_estimated = pd.read_parquet('./data/A/X_test_estimated.parquet')\n",
    "X_train_estimated = pd.read_parquet('./data/A/X_train_estimated.parquet')\n",
    "X_train_observed = pd.read_parquet('./data/A/X_train_observed.parquet')"
   ],
   "metadata": {
    "collapsed": false,
    "ExecuteTime": {
     "end_time": "2023-10-03T19:05:03.958736900Z",
     "start_time": "2023-10-03T19:05:03.816465900Z"
    }
   },
   "id": "5e982ee359b877d"
  },
  {
   "cell_type": "code",
   "execution_count": null,
   "outputs": [],
   "source": [
    "df = pd.concat([X_train_observed, X_train_estimated])\n",
    "df = pd.merge(df, train_targets, left_on='date_forecast', right_on='time', how='inner')\n",
    "df = df.drop(columns=['date_calc', 'date_forecast'])\n",
    "df = df.drop(columns=['elevation:m', 'snow_density:kgm3', 'snow_drift:idx'], axis=1)\n",
    "\n",
    "imputer = SimpleImputer(strategy='mean')\n",
    "df[['ceiling_height_agl:m', 'cloud_base_agl:m']] = imputer.fit_transform(df[['ceiling_height_agl:m', 'cloud_base_agl:m']])\n",
    "\n",
    "X = df.drop(columns=['pv_measurement', 'time'])  # Drop the index, target, and time columns\n",
    "y = df['pv_measurement']  # Target variable"
   ],
   "metadata": {
    "collapsed": false
   },
   "id": "7ac1ae1036271763"
  },
  {
   "cell_type": "code",
   "execution_count": null,
   "outputs": [],
   "source": [
    "# Sorting the data by the 'time' column to maintain chronological order\n",
    "df.sort_values('time', inplace=True)\n",
    "\n",
    "# Identifying the features and the target variable\n",
    "features = df.drop(columns=['pv_measurement', 'time'])  # Assuming all other columns are features\n",
    "target = df['pv_measurement']\n",
    "\n",
    "# Splitting the data into training and test sets\n",
    "split_point = int(len(df) * 0.8)  # Taking 80% of the data as the training set\n",
    "X_train = features.iloc[:split_point]\n",
    "y_train = target.iloc[:split_point]\n",
    "X_test = features.iloc[split_point:]\n",
    "y_test = target.iloc[split_point:]\n",
    "\n",
    "# Displaying the shapes of the training and test sets\n",
    "X_train.shape, X_test.shape, y_train.shape, y_test.shape"
   ],
   "metadata": {
    "collapsed": false
   },
   "id": "33b24b9774738b47"
  },
  {
   "cell_type": "markdown",
   "source": [
    "# First Baseline Model: XGBoost"
   ],
   "metadata": {
    "collapsed": false
   },
   "id": "d6eac86c0320e8ee"
  },
  {
   "cell_type": "code",
   "execution_count": null,
   "outputs": [],
   "source": [
    "xgb_model = xgb.XGBRegressor()\n",
    "xgb_model.fit(X_train, y_train)\n",
    "\n",
    "# Make predictions on the test set\n",
    "y_pred = xgb_model.predict(X_test)\n",
    "\n",
    "# Calculate MSE on the test set\n",
    "mse = mean_squared_error(y_test, y_pred)\n",
    "mse"
   ],
   "metadata": {
    "collapsed": false
   },
   "id": "b448f2e3462ba0e4"
  }
 ],
 "metadata": {
  "kernelspec": {
   "display_name": "Python 3",
   "language": "python",
   "name": "python3"
  },
  "language_info": {
   "codemirror_mode": {
    "name": "ipython",
    "version": 2
   },
   "file_extension": ".py",
   "mimetype": "text/x-python",
   "name": "python",
   "nbconvert_exporter": "python",
   "pygments_lexer": "ipython2",
   "version": "2.7.6"
  }
 },
 "nbformat": 4,
 "nbformat_minor": 5
}
