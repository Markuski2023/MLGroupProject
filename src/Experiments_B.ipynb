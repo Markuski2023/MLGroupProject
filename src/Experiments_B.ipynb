{
 "cells": [
  {
   "cell_type": "code",
   "execution_count": 2,
   "id": "initial_id",
   "metadata": {
    "collapsed": true,
    "ExecuteTime": {
     "end_time": "2023-10-19T18:24:45.172910500Z",
     "start_time": "2023-10-19T18:24:40.666051200Z"
    }
   },
   "outputs": [],
   "source": [
    "import optuna\n",
    "import pandas as pd\n",
    "import numpy as np\n",
    "from sklearn.impute import SimpleImputer\n",
    "%matplotlib inline\n",
    "import xgboost as xgb\n",
    "from sklearn.metrics import mean_absolute_error\n",
    "from sklearn.feature_selection import RFE"
   ]
  },
  {
   "cell_type": "code",
   "execution_count": 3,
   "outputs": [],
   "source": [
    "train_a = pd.read_parquet('./data/A/train_targets.parquet')\n",
    "train_b = pd.read_parquet('./data/B/train_targets.parquet')\n",
    "train_c = pd.read_parquet('./data/C/train_targets.parquet')\n",
    "\n",
    "X_train_estimated_a = pd.read_parquet('./data/A/X_train_estimated.parquet')\n",
    "X_train_estimated_b = pd.read_parquet('./data/B/X_train_estimated.parquet')\n",
    "X_train_estimated_c = pd.read_parquet('./data/C/X_train_estimated.parquet')\n",
    "\n",
    "X_train_observed_a = pd.read_parquet('./data/A/X_train_observed.parquet')\n",
    "X_train_observed_b = pd.read_parquet('./data/B/X_train_observed.parquet')\n",
    "X_train_observed_c = pd.read_parquet('./data/C/X_train_observed.parquet')\n",
    "\n",
    "X_test_estimated_a = pd.read_parquet('./data/A/X_test_estimated.parquet')\n",
    "X_test_estimated_b = pd.read_parquet('./data/B/X_test_estimated.parquet')\n",
    "X_test_estimated_c = pd.read_parquet('./data/C/X_test_estimated.parquet')\n",
    "\n",
    "X_test_estimated_b['date_forecast'] = pd.to_datetime(X_test_estimated_b['date_forecast'])\n",
    "X_test_estimated_b = X_test_estimated_b[X_test_estimated_b['date_forecast'].dt.minute == 0]\n",
    "\n",
    "imputer = SimpleImputer(strategy='most_frequent')\n",
    "X_test_estimated_b[['ceiling_height_agl:m', 'cloud_base_agl:m']] = imputer.fit_transform(X_test_estimated_b[['ceiling_height_agl:m', 'cloud_base_agl:m']])"
   ],
   "metadata": {
    "collapsed": false,
    "ExecuteTime": {
     "end_time": "2023-10-19T18:24:45.613024600Z",
     "start_time": "2023-10-19T18:24:45.176882300Z"
    }
   },
   "id": "905f19ced97ac5f0"
  },
  {
   "cell_type": "code",
   "execution_count": 4,
   "outputs": [],
   "source": [
    "# fig, axs = plt.subplots(3, 1, figsize=(40, 20), sharex=True)\n",
    "# train_a[['time', 'pv_measurement']].set_index('time').plot(ax=axs[0], title='Train/Test  A', color='red')\n",
    "# train_b[['time', 'pv_measurement']].set_index('time').plot(ax=axs[1], title='Train/Test  B', color='red')\n",
    "# train_c[['time', 'pv_measurement']].set_index('time').plot(ax=axs[2], title='Train/Test  C', color='red')"
   ],
   "metadata": {
    "collapsed": false,
    "ExecuteTime": {
     "end_time": "2023-10-19T18:24:45.663169100Z",
     "start_time": "2023-10-19T18:24:45.614562800Z"
    }
   },
   "id": "9bb41e202b68e909"
  },
  {
   "cell_type": "code",
   "execution_count": 5,
   "outputs": [],
   "source": [
    "df = pd.concat([X_train_observed_b, X_train_estimated_b])"
   ],
   "metadata": {
    "collapsed": false,
    "ExecuteTime": {
     "end_time": "2023-10-19T18:24:45.664220100Z",
     "start_time": "2023-10-19T18:24:45.624192300Z"
    }
   },
   "id": "37d0e10652469060"
  },
  {
   "cell_type": "code",
   "execution_count": 6,
   "outputs": [],
   "source": [
    "# def remove_highly_correlated_features(df, threshold):\n",
    "#     \"\"\"\n",
    "#     Remove features from a DataFrame that have an absolute correlation higher than a given threshold.\n",
    "# \n",
    "#     Parameters:\n",
    "#     - df (Pandas DataFrame): The input DataFrame.\n",
    "#     - threshold (float): The correlation threshold for feature removal.\n",
    "# \n",
    "#     Returns:\n",
    "#     - Pandas DataFrame: A new DataFrame with highly correlated features removed.\n",
    "#     \"\"\"\n",
    "#     # Compute the Pearson correlation matrix\n",
    "#     correlation_matrix = df.corr(method='pearson')\n",
    "# \n",
    "#     # Initialize an empty list to hold features to be removed\n",
    "#     features_to_remove = []\n",
    "# \n",
    "#     # Traverse the correlation matrix to find highly correlated features\n",
    "#     for i in range(len(correlation_matrix.columns)):\n",
    "#         for j in range(i+1, len(correlation_matrix.columns)):\n",
    "#             feature1 = correlation_matrix.columns[i]\n",
    "#             feature2 = correlation_matrix.columns[j]\n",
    "# \n",
    "#             # Check for high absolute correlation\n",
    "#             if abs(correlation_matrix.iloc[i, j]) > threshold:\n",
    "#                 # Add one of the features to the list if it's not already there\n",
    "#                 if feature1 not in features_to_remove and feature2 not in features_to_remove:\n",
    "#                     features_to_remove.append(feature1)\n",
    "# \n",
    "#     # Drop the identified features from the DataFrame\n",
    "#     filtered_df = df.drop(columns=features_to_remove)\n",
    "# \n",
    "#     return filtered_df\n",
    "# \n",
    "# threshold = 0.99\n",
    "# df = remove_highly_correlated_features(df, threshold)"
   ],
   "metadata": {
    "collapsed": false,
    "ExecuteTime": {
     "end_time": "2023-10-19T18:24:45.664220100Z",
     "start_time": "2023-10-19T18:24:45.638428100Z"
    }
   },
   "id": "802b5dbeaa19bed4"
  },
  {
   "cell_type": "code",
   "execution_count": 7,
   "outputs": [],
   "source": [
    "def remove_highly_correlated_features_spearman(df, threshold):\n",
    "    # Compute the Spearman correlation matrix\n",
    "    correlation_matrix = df.corr(method='spearman')\n",
    "\n",
    "    # Initialize an empty list to hold features to be removed\n",
    "    features_to_remove = []\n",
    "\n",
    "    # Traverse the correlation matrix to find highly correlated features\n",
    "    for i in range(len(correlation_matrix.columns)):\n",
    "        for j in range(i+1, len(correlation_matrix.columns)):\n",
    "            feature1 = correlation_matrix.columns[i]\n",
    "            feature2 = correlation_matrix.columns[j]\n",
    "\n",
    "            # Check for high absolute correlation\n",
    "            if abs(correlation_matrix.iloc[i, j]) > threshold:\n",
    "                # Add one of the features to the list if it's not already there\n",
    "                if feature1 not in features_to_remove and feature2 not in features_to_remove:\n",
    "                    features_to_remove.append(feature1)\n",
    "\n",
    "    # Drop the identified features from the DataFrame\n",
    "    filtered_df = df.drop(columns=features_to_remove)\n",
    "\n",
    "    return filtered_df\n",
    "\n",
    "threshold = 0.99\n",
    "df = remove_highly_correlated_features_spearman(df, threshold)"
   ],
   "metadata": {
    "collapsed": false,
    "ExecuteTime": {
     "end_time": "2023-10-19T18:24:48.857142500Z",
     "start_time": "2023-10-19T18:24:45.643132600Z"
    }
   },
   "id": "87974e7179e1cdc9"
  },
  {
   "cell_type": "code",
   "execution_count": 8,
   "outputs": [],
   "source": [
    "df = pd.merge(df, train_b, left_on='date_forecast', right_on='time', how='inner')\n",
    "df = df.drop(columns=['date_forecast', 'date_calc', 'snow_density:kgm3', 'snow_drift:idx', 'diffuse_rad_1h:J', 'fresh_snow_1h:cm', 'fresh_snow_3h:cm', 'fresh_snow_6h:cm', 'fresh_snow_24h:cm'])\n",
    "\n",
    "imputer = SimpleImputer(strategy='most_frequent')\n",
    "df[['ceiling_height_agl:m', 'cloud_base_agl:m', 'pv_measurement']] = imputer.fit_transform(df[['ceiling_height_agl:m', 'cloud_base_agl:m', 'pv_measurement']])"
   ],
   "metadata": {
    "collapsed": false,
    "ExecuteTime": {
     "end_time": "2023-10-19T18:24:48.903625500Z",
     "start_time": "2023-10-19T18:24:48.859141800Z"
    }
   },
   "id": "17d190f088c98122"
  },
  {
   "cell_type": "code",
   "execution_count": 9,
   "outputs": [],
   "source": [
    "split_index = int(len(df) * 0.7)\n",
    "train_data = df[:split_index]\n",
    "test_data = df[split_index:]\n",
    "\n",
    "# # Plotting the data\n",
    "# plt.figure(figsize=(15, 5))\n",
    "# \n",
    "# # Plot training data\n",
    "# plt.plot(np.arange(0, split_index), train_data, label='Training Data', color='blue')\n",
    "# \n",
    "# # Plot testing data\n",
    "# plt.plot(np.arange(split_index, len(df)), test_data, label='Testing Data', color='red')\n",
    "# \n",
    "# # Adding a vertical line to indicate the split point\n",
    "# plt.axvline(x=split_index, color='gray', linestyle='--', label='Split Point')\n",
    "# \n",
    "# plt.title('Training and Testing Data Split')\n",
    "# plt.xlabel('Index')\n",
    "# plt.ylabel('Value')\n",
    "# plt.show()"
   ],
   "metadata": {
    "collapsed": false,
    "ExecuteTime": {
     "end_time": "2023-10-19T18:24:48.962631100Z",
     "start_time": "2023-10-19T18:24:48.902593800Z"
    }
   },
   "id": "a3a8df25afb16cbd"
  },
  {
   "cell_type": "code",
   "execution_count": 10,
   "outputs": [
    {
     "data": {
      "text/plain": "31.27941339498111"
     },
     "execution_count": 10,
     "metadata": {},
     "output_type": "execute_result"
    }
   ],
   "source": [
    "xgb_model = xgb.XGBRegressor()\n",
    "xgb_model.fit(train_data.drop(columns=['pv_measurement', 'time']), train_data['pv_measurement'])\n",
    "\n",
    "# Make predictions on the test set\n",
    "y_pred = xgb_model.predict(test_data.drop(columns=['pv_measurement', 'time']))\n",
    "y_pred = np.maximum(y_pred, 0)\n",
    "# Calculate MAE on the test set\n",
    "mae = mean_absolute_error(test_data['pv_measurement'], y_pred)\n",
    "mae"
   ],
   "metadata": {
    "collapsed": false,
    "ExecuteTime": {
     "end_time": "2023-10-19T18:24:51.083773Z",
     "start_time": "2023-10-19T18:24:48.910695500Z"
    }
   },
   "id": "53890675a15e376e"
  },
  {
   "cell_type": "code",
   "execution_count": 11,
   "outputs": [],
   "source": [
    "def find_long_constant_periods(data, threshold):\n",
    "    start = None\n",
    "    segments = []\n",
    "    for i in range(1, len(data)):\n",
    "        if data[i] == data[i-1]:\n",
    "            if start is None:\n",
    "                start = i-1\n",
    "        else:\n",
    "            if start is not None:\n",
    "                if (i - start) > threshold:\n",
    "                    segments.append((start, i))\n",
    "                start = None\n",
    "    return segments\n",
    "\n",
    "segments = find_long_constant_periods(train_b['pv_measurement'], threshold=30)"
   ],
   "metadata": {
    "collapsed": false,
    "ExecuteTime": {
     "end_time": "2023-10-19T18:24:51.244523300Z",
     "start_time": "2023-10-19T18:24:51.086804200Z"
    }
   },
   "id": "fcf34227f61344ef"
  },
  {
   "cell_type": "code",
   "execution_count": 12,
   "outputs": [],
   "source": [
    "def remove_constant_periods(df, segments):\n",
    "    drop_indices = []\n",
    "    for start, end in segments:\n",
    "        drop_indices.extend(range(start, end))\n",
    "    return df.drop(drop_indices)\n",
    "\n",
    "df = remove_constant_periods(df, segments)"
   ],
   "metadata": {
    "collapsed": false,
    "ExecuteTime": {
     "end_time": "2023-10-19T18:24:51.256705900Z",
     "start_time": "2023-10-19T18:24:51.247566300Z"
    }
   },
   "id": "758d40b9a7aefbad"
  },
  {
   "cell_type": "code",
   "execution_count": 13,
   "outputs": [],
   "source": [
    "split_date = '2022-10-27'\n",
    "\n",
    "# Convert the 'time' column to a datetime object\n",
    "df['time'] = pd.to_datetime(df['time'])\n",
    "\n",
    "# Sorting the data by the 'time' column to maintain chronological order\n",
    "df.sort_values('time', inplace=True)\n",
    "\n",
    "# Splitting the data into training and test sets based on the split date\n",
    "train_df = df[df['time'] < split_date]\n",
    "test_df = df[df['time'] >= split_date]\n",
    "\n",
    "# Identifying the features and the target variable\n",
    "X_train = train_df.drop(columns=['pv_measurement', 'time'])\n",
    "y_train = train_df['pv_measurement']\n",
    "X_test = test_df.drop(columns=['pv_measurement', 'time'])\n",
    "y_test = test_df['pv_measurement']"
   ],
   "metadata": {
    "collapsed": false,
    "ExecuteTime": {
     "end_time": "2023-10-19T18:24:51.339104100Z",
     "start_time": "2023-10-19T18:24:51.260720800Z"
    }
   },
   "id": "71d63cd6b48baaec"
  },
  {
   "cell_type": "code",
   "execution_count": 14,
   "outputs": [
    {
     "data": {
      "text/plain": "17.477934253617054"
     },
     "execution_count": 14,
     "metadata": {},
     "output_type": "execute_result"
    }
   ],
   "source": [
    "# xgb_model = xgb.XGBRegressor()\n",
    "# # Create RFE model and select the top 10 features\n",
    "# rfe = RFE(xgb_model, n_features_to_select=21)\n",
    "# fit = rfe.fit(X_train, y_train)\n",
    "# \n",
    "# selected_columns = X_train.columns[rfe.support_]\n",
    "# \n",
    "# # Train and test using only selected features\n",
    "# X_train = rfe.transform(X_train)\n",
    "# X_test = rfe.transform(X_test)\n",
    "# \n",
    "# xgb_model.fit(X_train, y_train)\n",
    "# y_pred = xgb_model.predict(X_test)\n",
    "# y_pred = np.maximum(y_pred, 0)\n",
    "# mae = mean_absolute_error(y_test, y_pred)\n",
    "# mae"
   ],
   "metadata": {
    "collapsed": false,
    "ExecuteTime": {
     "end_time": "2023-10-19T18:25:21.165200500Z",
     "start_time": "2023-10-19T18:24:51.287471300Z"
    }
   },
   "id": "4fa108890db125c2"
  },
  {
   "cell_type": "code",
   "execution_count": 15,
   "outputs": [
    {
     "data": {
      "text/plain": "17.477934253617054"
     },
     "execution_count": 15,
     "metadata": {},
     "output_type": "execute_result"
    }
   ],
   "source": [
    "xgb_model = xgb.XGBRegressor()\n",
    "xgb_model.fit(X_train, y_train)\n",
    "\n",
    "# Make predictions on the test set\n",
    "y_pred = xgb_model.predict(X_test)\n",
    "y_pred = np.maximum(y_pred, 0)\n",
    "# Calculate MAE on the test set\n",
    "mae = mean_absolute_error(y_test, y_pred)\n",
    "mae"
   ],
   "metadata": {
    "collapsed": false,
    "ExecuteTime": {
     "end_time": "2023-10-19T18:25:23.099844100Z",
     "start_time": "2023-10-19T18:25:21.169066500Z"
    }
   },
   "id": "9fa98b644a28bfba"
  },
  {
   "cell_type": "code",
   "execution_count": 173,
   "outputs": [],
   "source": [
    "def objective(trial):\n",
    "    params = {\n",
    "        \"objective\": \"reg:squarederror\",\n",
    "        \"n_estimators\": 1000,\n",
    "        \"verbosity\": 0,\n",
    "        \"learning_rate\": trial.suggest_float(\"learning_rate\", 1e-3, 0.1, log=True),\n",
    "        \"max_depth\": trial.suggest_int(\"max_depth\", 1, 10),\n",
    "        \"subsample\": trial.suggest_float(\"subsample\", 0.05, 1.0),\n",
    "        \"colsample_bytree\": trial.suggest_float(\"colsample_bytree\", 0.05, 1.0),\n",
    "        \"min_child_weight\": trial.suggest_int(\"min_child_weight\", 1, 20),\n",
    "    }\n",
    "\n",
    "    model = xgb.XGBRegressor(**params)\n",
    "    model.fit(X_train, y_train, verbose=False)\n",
    "    predictions = model.predict(X_test)\n",
    "    mae = mean_absolute_error(y_test, predictions)\n",
    "    return mae"
   ],
   "metadata": {
    "collapsed": false,
    "ExecuteTime": {
     "end_time": "2023-10-19T16:30:25.938267500Z",
     "start_time": "2023-10-19T16:30:25.933304800Z"
    }
   },
   "id": "b515619986a46e98"
  },
  {
   "cell_type": "code",
   "execution_count": 174,
   "outputs": [
    {
     "name": "stderr",
     "output_type": "stream",
     "text": [
      "[I 2023-10-19 18:30:25,941] A new study created in memory with name: no-name-ed0c9eb8-cd62-4e28-bd34-08e54f5b4244\n",
      "[I 2023-10-19 18:30:34,133] Trial 0 finished with value: 47.67517272206098 and parameters: {'learning_rate': 0.0013814264759543838, 'max_depth': 10, 'subsample': 0.9395443358359329, 'colsample_bytree': 0.10099345137684806, 'min_child_weight': 8}. Best is trial 0 with value: 47.67517272206098.\n",
      "[I 2023-10-19 18:30:40,319] Trial 1 finished with value: 16.371353639198503 and parameters: {'learning_rate': 0.01339705420216449, 'max_depth': 6, 'subsample': 0.5420367544073865, 'colsample_bytree': 0.545774847653938, 'min_child_weight': 3}. Best is trial 1 with value: 16.371353639198503.\n",
      "[I 2023-10-19 18:30:43,533] Trial 2 finished with value: 20.15810486665535 and parameters: {'learning_rate': 0.002267665273282633, 'max_depth': 4, 'subsample': 0.13948096930288317, 'colsample_bytree': 0.6320119244308359, 'min_child_weight': 16}. Best is trial 1 with value: 16.371353639198503.\n",
      "[I 2023-10-19 18:30:45,444] Trial 3 finished with value: 41.49898541716928 and parameters: {'learning_rate': 0.001992632079591773, 'max_depth': 1, 'subsample': 0.48803081547548977, 'colsample_bytree': 0.28152200961526636, 'min_child_weight': 9}. Best is trial 1 with value: 16.371353639198503.\n",
      "[I 2023-10-19 18:30:49,786] Trial 4 finished with value: 18.65972263040227 and parameters: {'learning_rate': 0.02670669201852409, 'max_depth': 3, 'subsample': 0.9118011016125258, 'colsample_bytree': 0.7633717082524486, 'min_child_weight': 18}. Best is trial 1 with value: 16.371353639198503.\n",
      "[I 2023-10-19 18:31:02,902] Trial 5 finished with value: 23.42530424926281 and parameters: {'learning_rate': 0.001178039485115088, 'max_depth': 9, 'subsample': 0.760055802835781, 'colsample_bytree': 0.6617884859037784, 'min_child_weight': 1}. Best is trial 1 with value: 16.371353639198503.\n",
      "[I 2023-10-19 18:31:15,229] Trial 6 finished with value: 22.303393788517262 and parameters: {'learning_rate': 0.0012683199169670528, 'max_depth': 7, 'subsample': 0.636417695659087, 'colsample_bytree': 0.889979850656176, 'min_child_weight': 5}. Best is trial 1 with value: 16.371353639198503.\n",
      "[I 2023-10-19 18:31:20,681] Trial 7 finished with value: 28.538930551370324 and parameters: {'learning_rate': 0.007253916870987479, 'max_depth': 3, 'subsample': 0.5980176155976866, 'colsample_bytree': 0.1485896983981374, 'min_child_weight': 1}. Best is trial 1 with value: 16.371353639198503.\n",
      "[I 2023-10-19 18:31:24,565] Trial 8 finished with value: 24.0724098028169 and parameters: {'learning_rate': 0.016213017476869426, 'max_depth': 4, 'subsample': 0.7542494580650984, 'colsample_bytree': 0.14894754935861115, 'min_child_weight': 13}. Best is trial 1 with value: 16.371353639198503.\n",
      "[I 2023-10-19 18:31:27,304] Trial 9 finished with value: 24.010863670436404 and parameters: {'learning_rate': 0.06567849792673376, 'max_depth': 4, 'subsample': 0.09946209500566185, 'colsample_bytree': 0.26656004472618927, 'min_child_weight': 7}. Best is trial 1 with value: 16.371353639198503.\n",
      "[I 2023-10-19 18:31:37,022] Trial 10 finished with value: 17.33863943103179 and parameters: {'learning_rate': 0.006297841985444137, 'max_depth': 7, 'subsample': 0.38995152997746263, 'colsample_bytree': 0.45962289032214754, 'min_child_weight': 4}. Best is trial 1 with value: 16.371353639198503.\n",
      "[I 2023-10-19 18:31:47,234] Trial 11 finished with value: 16.848031382411598 and parameters: {'learning_rate': 0.005680557654677274, 'max_depth': 7, 'subsample': 0.4287742040811254, 'colsample_bytree': 0.47772500711615784, 'min_child_weight': 4}. Best is trial 1 with value: 16.371353639198503.\n",
      "[I 2023-10-19 18:31:55,165] Trial 12 finished with value: 17.58925218282096 and parameters: {'learning_rate': 0.004231979458115479, 'max_depth': 7, 'subsample': 0.3635510989723617, 'colsample_bytree': 0.4535195467159125, 'min_child_weight': 4}. Best is trial 1 with value: 16.371353639198503.\n",
      "[I 2023-10-19 18:32:00,965] Trial 13 finished with value: 16.539683775179 and parameters: {'learning_rate': 0.013121480404025465, 'max_depth': 6, 'subsample': 0.3218359032698672, 'colsample_bytree': 0.551391013990153, 'min_child_weight': 11}. Best is trial 1 with value: 16.371353639198503.\n",
      "[I 2023-10-19 18:32:07,850] Trial 14 finished with value: 16.252144767645706 and parameters: {'learning_rate': 0.012455554516713518, 'max_depth': 6, 'subsample': 0.29278090106281707, 'colsample_bytree': 0.9667019966175984, 'min_child_weight': 12}. Best is trial 14 with value: 16.252144767645706.\n",
      "[I 2023-10-19 18:32:14,538] Trial 15 finished with value: 16.524667100815964 and parameters: {'learning_rate': 0.024056365743019975, 'max_depth': 9, 'subsample': 0.2759366156532901, 'colsample_bytree': 0.9593783120349703, 'min_child_weight': 13}. Best is trial 14 with value: 16.252144767645706.\n",
      "[I 2023-10-19 18:32:18,235] Trial 16 finished with value: 16.94123542817303 and parameters: {'learning_rate': 0.011515954005059446, 'max_depth': 5, 'subsample': 0.19946394826321784, 'colsample_bytree': 0.8489364383421252, 'min_child_weight': 20}. Best is trial 14 with value: 16.252144767645706.\n",
      "[I 2023-10-19 18:32:22,817] Trial 17 finished with value: 16.89048745602237 and parameters: {'learning_rate': 0.035404696199158404, 'max_depth': 6, 'subsample': 0.26263659593273325, 'colsample_bytree': 0.9717591386316227, 'min_child_weight': 13}. Best is trial 14 with value: 16.252144767645706.\n",
      "[I 2023-10-19 18:32:30,810] Trial 18 finished with value: 16.017416207765688 and parameters: {'learning_rate': 0.00945626698110752, 'max_depth': 8, 'subsample': 0.5318564384124372, 'colsample_bytree': 0.7658039955980506, 'min_child_weight': 11}. Best is trial 18 with value: 16.017416207765688.\n",
      "[I 2023-10-19 18:32:38,547] Trial 19 finished with value: 16.110545119804826 and parameters: {'learning_rate': 0.008427529307226076, 'max_depth': 8, 'subsample': 0.45575466325688835, 'colsample_bytree': 0.8033483731078754, 'min_child_weight': 15}. Best is trial 18 with value: 16.017416207765688.\n",
      "[I 2023-10-19 18:32:49,352] Trial 20 finished with value: 16.06331314763222 and parameters: {'learning_rate': 0.0038347798829399815, 'max_depth': 9, 'subsample': 0.4538966239541983, 'colsample_bytree': 0.7637904046460446, 'min_child_weight': 15}. Best is trial 18 with value: 16.017416207765688.\n",
      "[I 2023-10-19 18:33:03,091] Trial 21 finished with value: 16.19948105088349 and parameters: {'learning_rate': 0.0035279239417692005, 'max_depth': 9, 'subsample': 0.46266326017311554, 'colsample_bytree': 0.7736752168538261, 'min_child_weight': 15}. Best is trial 18 with value: 16.017416207765688.\n",
      "[I 2023-10-19 18:33:12,188] Trial 22 finished with value: 16.062233475512457 and parameters: {'learning_rate': 0.008161100990224086, 'max_depth': 8, 'subsample': 0.4422191678096925, 'colsample_bytree': 0.7558465150747861, 'min_child_weight': 16}. Best is trial 18 with value: 16.017416207765688.\n",
      "[I 2023-10-19 18:33:24,074] Trial 23 finished with value: 16.063450566025555 and parameters: {'learning_rate': 0.005005714071777447, 'max_depth': 10, 'subsample': 0.5538518947204902, 'colsample_bytree': 0.7098526687278789, 'min_child_weight': 17}. Best is trial 18 with value: 16.017416207765688.\n",
      "[I 2023-10-19 18:33:32,662] Trial 24 finished with value: 16.131520235245283 and parameters: {'learning_rate': 0.008869787724823299, 'max_depth': 8, 'subsample': 0.3891217360327712, 'colsample_bytree': 0.7192387676917503, 'min_child_weight': 20}. Best is trial 18 with value: 16.017416207765688.\n",
      "[I 2023-10-19 18:33:45,081] Trial 25 finished with value: 15.949990139516345 and parameters: {'learning_rate': 0.004383465763510417, 'max_depth': 8, 'subsample': 0.5005215777099623, 'colsample_bytree': 0.8516305370515245, 'min_child_weight': 10}. Best is trial 25 with value: 15.949990139516345.\n",
      "[I 2023-10-19 18:33:53,527] Trial 26 finished with value: 15.952312019863768 and parameters: {'learning_rate': 0.00863673678322928, 'max_depth': 8, 'subsample': 0.5296992617803433, 'colsample_bytree': 0.8746133117346966, 'min_child_weight': 10}. Best is trial 25 with value: 15.949990139516345.\n",
      "[I 2023-10-19 18:34:03,458] Trial 27 finished with value: 16.52573167911005 and parameters: {'learning_rate': 0.0028518999425735554, 'max_depth': 8, 'subsample': 0.6381324953596794, 'colsample_bytree': 0.8717315054896972, 'min_child_weight': 10}. Best is trial 25 with value: 15.949990139516345.\n",
      "[I 2023-10-19 18:34:16,468] Trial 28 finished with value: 16.012891108273518 and parameters: {'learning_rate': 0.005392752894551731, 'max_depth': 10, 'subsample': 0.5526875021623023, 'colsample_bytree': 0.9160587094240064, 'min_child_weight': 7}. Best is trial 25 with value: 15.949990139516345.\n",
      "[I 2023-10-19 18:34:31,421] Trial 29 finished with value: 15.89264931713669 and parameters: {'learning_rate': 0.005354911079208287, 'max_depth': 10, 'subsample': 0.6741937943069567, 'colsample_bytree': 0.8902317796735592, 'min_child_weight': 7}. Best is trial 29 with value: 15.89264931713669.\n",
      "[I 2023-10-19 18:34:46,152] Trial 30 finished with value: 18.248161248805424 and parameters: {'learning_rate': 0.001980364902636823, 'max_depth': 10, 'subsample': 0.7113590845422195, 'colsample_bytree': 0.8292985960068509, 'min_child_weight': 8}. Best is trial 29 with value: 15.89264931713669.\n",
      "[I 2023-10-19 18:35:00,019] Trial 31 finished with value: 16.027933433121273 and parameters: {'learning_rate': 0.00533780971536278, 'max_depth': 10, 'subsample': 0.5788791652014216, 'colsample_bytree': 0.8928984324487215, 'min_child_weight': 7}. Best is trial 29 with value: 15.89264931713669.\n",
      "[I 2023-10-19 18:35:13,551] Trial 32 finished with value: 16.161447343593053 and parameters: {'learning_rate': 0.006603821582300752, 'max_depth': 10, 'subsample': 0.6562925501173466, 'colsample_bytree': 0.897915606252339, 'min_child_weight': 6}. Best is trial 29 with value: 15.89264931713669.\n",
      "[I 2023-10-19 18:35:25,751] Trial 33 finished with value: 16.42521506351748 and parameters: {'learning_rate': 0.0028695473415739727, 'max_depth': 9, 'subsample': 0.5120029750393936, 'colsample_bytree': 0.9888825155559868, 'min_child_weight': 9}. Best is trial 29 with value: 15.89264931713669.\n",
      "[I 2023-10-19 18:35:38,218] Trial 34 finished with value: 16.00901846069968 and parameters: {'learning_rate': 0.004446521272840333, 'max_depth': 10, 'subsample': 0.5725849962813173, 'colsample_bytree': 0.9118862907085736, 'min_child_weight': 9}. Best is trial 29 with value: 15.89264931713669.\n",
      "[I 2023-10-19 18:35:50,466] Trial 35 finished with value: 16.011226830114957 and parameters: {'learning_rate': 0.0040598295948132065, 'max_depth': 9, 'subsample': 0.5068383083924911, 'colsample_bytree': 0.8393968836004169, 'min_child_weight': 9}. Best is trial 29 with value: 15.89264931713669.\n",
      "[I 2023-10-19 18:36:03,652] Trial 36 finished with value: 16.41934256620975 and parameters: {'learning_rate': 0.0028974529805208442, 'max_depth': 10, 'subsample': 0.5893550549907249, 'colsample_bytree': 0.9295538692741143, 'min_child_weight': 10}. Best is trial 29 with value: 15.89264931713669.\n",
      "[I 2023-10-19 18:36:16,978] Trial 37 finished with value: 18.327032129421944 and parameters: {'learning_rate': 0.001964503525492719, 'max_depth': 9, 'subsample': 0.8234048234351763, 'colsample_bytree': 0.8197395441064718, 'min_child_weight': 8}. Best is trial 29 with value: 15.89264931713669.\n",
      "[I 2023-10-19 18:36:23,464] Trial 38 finished with value: 20.26545422466191 and parameters: {'learning_rate': 0.0016294108369335886, 'max_depth': 5, 'subsample': 0.6861046859049292, 'colsample_bytree': 0.9238631084346476, 'min_child_weight': 6}. Best is trial 29 with value: 15.89264931713669.\n",
      "[I 2023-10-19 18:36:25,755] Trial 39 finished with value: 28.091150874489514 and parameters: {'learning_rate': 0.007205627114882576, 'max_depth': 1, 'subsample': 0.6250276350359603, 'colsample_bytree': 0.9956506390830088, 'min_child_weight': 12}. Best is trial 29 with value: 15.89264931713669.\n",
      "[I 2023-10-19 18:36:36,176] Trial 40 finished with value: 16.093040369267513 and parameters: {'learning_rate': 0.00443845371688268, 'max_depth': 7, 'subsample': 0.510522751678489, 'colsample_bytree': 0.881739000240464, 'min_child_weight': 9}. Best is trial 29 with value: 15.89264931713669.\n",
      "[I 2023-10-19 18:36:47,138] Trial 41 finished with value: 15.973935458175962 and parameters: {'learning_rate': 0.0036153968536716654, 'max_depth': 9, 'subsample': 0.5252905775082717, 'colsample_bytree': 0.823247570914796, 'min_child_weight': 9}. Best is trial 29 with value: 15.89264931713669.\n",
      "[I 2023-10-19 18:37:02,158] Trial 42 finished with value: 16.163462438481897 and parameters: {'learning_rate': 0.003321347798773885, 'max_depth': 9, 'subsample': 0.5887727867999379, 'colsample_bytree': 0.8551372312063011, 'min_child_weight': 8}. Best is trial 29 with value: 15.89264931713669.\n",
      "[I 2023-10-19 18:37:19,058] Trial 43 finished with value: 16.949585441239442 and parameters: {'learning_rate': 0.0025074266666988325, 'max_depth': 8, 'subsample': 0.5423780109082585, 'colsample_bytree': 0.931925396309481, 'min_child_weight': 10}. Best is trial 29 with value: 15.89264931713669.\n",
      "[I 2023-10-19 18:37:32,163] Trial 44 finished with value: 16.003009683061862 and parameters: {'learning_rate': 0.004715454425955321, 'max_depth': 10, 'subsample': 0.47932488171430504, 'colsample_bytree': 0.7949082310053479, 'min_child_weight': 12}. Best is trial 29 with value: 15.89264931713669.\n",
      "[I 2023-10-19 18:37:44,017] Trial 45 finished with value: 16.016564095339092 and parameters: {'learning_rate': 0.006282343653675344, 'max_depth': 10, 'subsample': 0.4022539116016077, 'colsample_bytree': 0.8001931641081295, 'min_child_weight': 12}. Best is trial 29 with value: 15.89264931713669.\n",
      "[I 2023-10-19 18:37:52,240] Trial 46 finished with value: 16.106045382080246 and parameters: {'learning_rate': 0.0050749110971646085, 'max_depth': 8, 'subsample': 0.4944137427324519, 'colsample_bytree': 0.6455099685294621, 'min_child_weight': 11}. Best is trial 29 with value: 15.89264931713669.\n",
      "[I 2023-10-19 18:37:59,280] Trial 47 finished with value: 16.221242496196865 and parameters: {'learning_rate': 0.010098581220473708, 'max_depth': 7, 'subsample': 0.479489391793348, 'colsample_bytree': 0.7049999088467923, 'min_child_weight': 14}. Best is trial 29 with value: 15.89264931713669.\n",
      "[I 2023-10-19 18:38:11,844] Trial 48 finished with value: 16.00572046611245 and parameters: {'learning_rate': 0.0069977329803605545, 'max_depth': 9, 'subsample': 0.6122797462974454, 'colsample_bytree': 0.8638414360010986, 'min_child_weight': 6}. Best is trial 29 with value: 15.89264931713669.\n",
      "[I 2023-10-19 18:38:20,021] Trial 49 finished with value: 16.644196061647445 and parameters: {'learning_rate': 0.003588097587901119, 'max_depth': 9, 'subsample': 0.3428760443778461, 'colsample_bytree': 0.6028726162537561, 'min_child_weight': 11}. Best is trial 29 with value: 15.89264931713669.\n"
     ]
    }
   ],
   "source": [
    "study = optuna.create_study(direction='minimize')\n",
    "study.optimize(objective, n_trials=50)"
   ],
   "metadata": {
    "collapsed": false,
    "ExecuteTime": {
     "end_time": "2023-10-19T16:38:20.025325300Z",
     "start_time": "2023-10-19T16:30:25.941266400Z"
    }
   },
   "id": "7e5803da3b177585"
  },
  {
   "cell_type": "code",
   "execution_count": 175,
   "outputs": [
    {
     "data": {
      "text/plain": "{'learning_rate': 0.005354911079208287,\n 'max_depth': 10,\n 'subsample': 0.6741937943069567,\n 'colsample_bytree': 0.8902317796735592,\n 'min_child_weight': 7}"
     },
     "execution_count": 175,
     "metadata": {},
     "output_type": "execute_result"
    }
   ],
   "source": [
    "study.best_params"
   ],
   "metadata": {
    "collapsed": false,
    "ExecuteTime": {
     "end_time": "2023-10-19T16:38:20.031658300Z",
     "start_time": "2023-10-19T16:38:20.027329100Z"
    }
   },
   "id": "bb491653ce1c39d3"
  },
  {
   "cell_type": "code",
   "execution_count": 17,
   "outputs": [],
   "source": [
    "X_test_estimated_b = X_test_estimated_b.drop(columns=['date_forecast', 'date_calc', 'snow_density:kgm3', 'snow_drift:idx', 'diffuse_rad_1h:J', 'fresh_snow_1h:cm', 'fresh_snow_3h:cm', 'fresh_snow_6h:cm', 'fresh_snow_24h:cm'])\n",
    "\n",
    "df['time'] = pd.to_datetime(df['time'])\n",
    "df.sort_values('time', inplace=True)\n",
    "train_df = df\n",
    "X_train = train_df\n",
    "y_train = df['pv_measurement']\n",
    "\n",
    "xgb_model = xgb.XGBRegressor(\n",
    "    learning_rate = 0.005354,\n",
    "    max_depth = 10,\n",
    "    subsample = 0.67419,\n",
    "    colsample_bytree = 0.89023,\n",
    "    min_child_weight = 7,\n",
    "    n_estimators = 1000\n",
    ")\n",
    "\n",
    "xgb_model.fit(X_train, y_train)\n",
    "\n",
    "# Make predictions on the test set\n",
    "y_pred = xgb_model.predict(X_test_estimated_b)\n",
    "y_pred = np.maximum(y_pred, 0)"
   ],
   "metadata": {
    "collapsed": false,
    "ExecuteTime": {
     "end_time": "2023-10-19T18:25:48.365080100Z",
     "start_time": "2023-10-19T18:25:23.097910900Z"
    }
   },
   "id": "c187ac8aa3f9c67b"
  },
  {
   "cell_type": "code",
   "execution_count": 18,
   "outputs": [],
   "source": [
    "df = pd.DataFrame(y_pred)\n",
    "df.to_csv('result_b.csv')"
   ],
   "metadata": {
    "collapsed": false,
    "ExecuteTime": {
     "end_time": "2023-10-19T18:25:48.402050200Z",
     "start_time": "2023-10-19T18:25:48.368691500Z"
    }
   },
   "id": "3a883ff4c9c7584b"
  },
  {
   "cell_type": "code",
   "execution_count": 19,
   "outputs": [],
   "source": [
    "df_a = pd.read_csv('result_a.csv')\n",
    "df_b = pd.read_csv('result_b.csv')\n",
    "df_c = pd.read_csv('result_c.csv')"
   ],
   "metadata": {
    "collapsed": false,
    "ExecuteTime": {
     "end_time": "2023-10-19T18:28:36.769107100Z",
     "start_time": "2023-10-19T18:28:36.752973200Z"
    }
   },
   "id": "ade7d0a082a76747"
  },
  {
   "cell_type": "code",
   "execution_count": 20,
   "outputs": [],
   "source": [
    "concatenated_df = pd.concat([df_a, df_b, df_c])"
   ],
   "metadata": {
    "collapsed": false,
    "ExecuteTime": {
     "end_time": "2023-10-19T18:28:37.519534600Z",
     "start_time": "2023-10-19T18:28:37.485721100Z"
    }
   },
   "id": "6ed239a002ed526c"
  },
  {
   "cell_type": "code",
   "execution_count": 22,
   "outputs": [],
   "source": [
    "concatenated_df.to_csv('result.csv', index=False)"
   ],
   "metadata": {
    "collapsed": false,
    "ExecuteTime": {
     "end_time": "2023-10-19T18:30:54.162484600Z",
     "start_time": "2023-10-19T18:30:54.161484500Z"
    }
   },
   "id": "4f69f583b1e8772f"
  },
  {
   "cell_type": "code",
   "execution_count": null,
   "outputs": [],
   "source": [],
   "metadata": {
    "collapsed": false
   },
   "id": "398fb483d568479"
  }
 ],
 "metadata": {
  "kernelspec": {
   "display_name": "Python 3",
   "language": "python",
   "name": "python3"
  },
  "language_info": {
   "codemirror_mode": {
    "name": "ipython",
    "version": 2
   },
   "file_extension": ".py",
   "mimetype": "text/x-python",
   "name": "python",
   "nbconvert_exporter": "python",
   "pygments_lexer": "ipython2",
   "version": "2.7.6"
  }
 },
 "nbformat": 4,
 "nbformat_minor": 5
}
